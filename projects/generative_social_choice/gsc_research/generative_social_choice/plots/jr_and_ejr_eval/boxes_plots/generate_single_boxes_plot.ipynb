{
    "cells": [
        {
            "cell_type": "code",
            "execution_count": 1,
            "metadata": {},
            "outputs": [],
            "source": [
                "%load_ext autoreload \n",
                "%autoreload 2"
            ]
        },
        {
            "cell_type": "code",
            "execution_count": 3,
            "metadata": {},
            "outputs": [],
            "source": [
                "from generative_social_choice.utils.helper_functions import get_base_dir_path\n",
                "from ast import literal_eval\n",
                "from generative_social_choice.plots.jr_and_ejr_eval.boxes_plots.helper_functions_boxes_plots import (\n",
                "    visualize_approval_matrix,\n",
                "    generate_matrix,\n",
                ")\n",
                "from generative_social_choice.objects.agents import CMVSetup\n",
                "import pandas as pd\n",
                "from generative_social_choice.datasets.datasets import get_dataset\n",
                "from generative_social_choice.plots.plotting_helper_functions import detect_data_source\n",
                "\n",
                "polis_dataset = get_dataset(\"polis\")"
            ]
        },
        {
            "attachments": {},
            "cell_type": "markdown",
            "metadata": {},
            "source": [
                "# Load committee to plot"
            ]
        },
        {
            "attachments": {},
            "cell_type": "markdown",
            "metadata": {},
            "source": [
                "The committees are computed using `jr_and_ejr_eval.py` and stored in `experiments/jr_and_ejr_eval`. "
            ]
        },
        {
            "cell_type": "code",
            "execution_count": 4,
            "metadata": {},
            "outputs": [],
            "source": [
                "committee_filename = \"\"\"\n",
                "generative-social-choice/generative_social_choice/experiments/jr_and_ejr_eval/2023-08-16-00:13:52__changemyview__seed_0__JR__cmv_basic_no_fewshot_yes_cot__5/committee.txt\n",
                "\"\"\"\n",
                "committee_filename = (\n",
                "    get_base_dir_path()\n",
                "    / committee_filename.replace(\"\\n\", \"\").split(\"generative_social_choice/\")[-1]\n",
                ")\n",
                "dataset_name, seed = detect_data_source(committee_filename)"
            ]
        },
        {
            "cell_type": "code",
            "execution_count": 5,
            "metadata": {},
            "outputs": [
                {
                    "ename": "TypeError",
                    "evalue": "CMVSetup.get_agents_from_seed() missing 1 required keyword-only argument: 'prompt_type'",
                    "output_type": "error",
                    "traceback": [
                        "\u001b[0;31m---------------------------------------------------------------------------\u001b[0m",
                        "\u001b[0;31mTypeError\u001b[0m                                 Traceback (most recent call last)",
                        "Cell \u001b[0;32mIn[5], line 3\u001b[0m\n\u001b[1;32m      1\u001b[0m \u001b[39m# Compute agent ids\u001b[39;00m\n\u001b[1;32m      2\u001b[0m \u001b[39mif\u001b[39;00m dataset_name \u001b[39m==\u001b[39m \u001b[39m\"\u001b[39m\u001b[39mchangemyview\u001b[39m\u001b[39m\"\u001b[39m:\n\u001b[0;32m----> 3\u001b[0m     agents \u001b[39m=\u001b[39m CMVSetup\u001b[39m.\u001b[39;49mget_agents_from_seed(seed\u001b[39m=\u001b[39;49mseed)\n\u001b[1;32m      4\u001b[0m     agent_ids \u001b[39m=\u001b[39m [agent\u001b[39m.\u001b[39mget_id() \u001b[39mfor\u001b[39;00m agent \u001b[39min\u001b[39;00m agents]\n\u001b[1;32m      5\u001b[0m \u001b[39melif\u001b[39;00m dataset_name \u001b[39m==\u001b[39m \u001b[39m\"\u001b[39m\u001b[39mminimumwage\u001b[39m\u001b[39m\"\u001b[39m:\n",
                        "\u001b[0;31mTypeError\u001b[0m: CMVSetup.get_agents_from_seed() missing 1 required keyword-only argument: 'prompt_type'"
                    ]
                }
            ],
            "source": [
                "# Compute agent ids\n",
                "if dataset_name == \"changemyview\":\n",
                "    agents = CMVSetup.get_agents_from_seed(seed=seed)\n",
                "    agent_ids = [agent.get_id() for agent in agents]\n",
                "elif dataset_name == \"minimumwage\":\n",
                "    agent_ids = polis_dataset.get_good_author_ids(issue=\"15-per-hour-seattle\")"
            ]
        },
        {
            "cell_type": "code",
            "execution_count": 7,
            "metadata": {},
            "outputs": [],
            "source": [
                "with open(committee_filename, \"r\") as f:\n",
                "    committee = literal_eval(f.read())"
            ]
        },
        {
            "cell_type": "code",
            "execution_count": 8,
            "metadata": {},
            "outputs": [],
            "source": [
                "data = {\n",
                "    comment: [1 if agent_id in committee[comment] else 0 for agent_id in agent_ids]\n",
                "    for comment in committee.keys()\n",
                "}\n",
                "df = pd.DataFrame(data, index=agent_ids).transpose()"
            ]
        },
        {
            "attachments": {},
            "cell_type": "markdown",
            "metadata": {},
            "source": [
                "# Generate plots"
            ]
        },
        {
            "cell_type": "code",
            "execution_count": 9,
            "metadata": {},
            "outputs": [
                {
                    "data": {
                        "image/png": "[encoded data removed]",
                        "text/plain": [
                            "<Figure size 1440x720 with 1 Axes>"
                        ]
                    },
                    "metadata": {
                        "needs_background": "light"
                    },
                    "output_type": "display_data"
                }
            ],
            "source": [
                "visualize_approval_matrix(df.values)"
            ]
        },
        {
            "cell_type": "code",
            "execution_count": 10,
            "metadata": {},
            "outputs": [
                {
                    "name": "stdout",
                    "output_type": "stream",
                    "text": [
                        "Implementing existing clean technologies, electing leaders who prioritize well-being, and making both small and significant lifestyle changes while actively seeking necessary breakthroughs will aid in the collective fight against climate change.\n",
                        "Global warming is a critical issue that requires collaboration and a shift in our mindset, as finding a solution will take time and entail overcoming political, social, and technological obstacles.\n",
                        "Global warming is a challenging issue to solve, and the government's involvement may not necessarily bring about the needed solutions, but we should look towards technological breakthroughs as a potential key.\n",
                        "Regardless of political boundaries, global warming is a real and growing issue we must face, but relying solely on government regulations and taxes may not be enough to solve the problem.\n",
                        "Global warming, as a pressing issue, is closely tied to governments who continuously exploit it for their gain, making it nearly impossible to properly address or solve, regardless of international cooperation.\n"
                    ]
                }
            ],
            "source": [
                "for comment in committee.keys():\n",
                "    print(comment)"
            ]
        },
        {
            "cell_type": "code",
            "execution_count": null,
            "metadata": {},
            "outputs": [],
            "source": []
        }
    ],
    "metadata": {
        "kernelspec": {
            "display_name": "Python 3",
            "language": "python",
            "name": "python3"
        },
        "language_info": {
            "codemirror_mode": {
                "name": "ipython",
                "version": 3
            },
            "file_extension": ".py",
            "mimetype": "text/x-python",
            "name": "python",
            "nbconvert_exporter": "python",
            "pygments_lexer": "ipython3",
            "version": "3.10.9"
        },
        "orig_nbformat": 4
    },
    "nbformat": 4,
    "nbformat_minor": 2
}
