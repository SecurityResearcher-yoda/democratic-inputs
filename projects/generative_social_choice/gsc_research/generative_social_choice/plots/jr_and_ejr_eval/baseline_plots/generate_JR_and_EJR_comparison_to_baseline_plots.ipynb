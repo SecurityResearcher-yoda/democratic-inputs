{
    "cells": [
        {
            "cell_type": "code",
            "execution_count": 1,
            "metadata": {},
            "outputs": [],
            "source": [
                "%load_ext autoreload\n",
                "%autoreload 2"
            ]
        },
        {
            "cell_type": "code",
            "execution_count": 2,
            "metadata": {},
            "outputs": [],
            "source": [
                "from generative_social_choice.plots.jr_and_ejr_eval.baseline_plots.plotting_helper_functions import (\n",
                "    is_relevant_folder,\n",
                "    get_agreement_matrix_from_folder_name,\n",
                "    get_committee_dict_from_folder_name,\n",
                "    get_agreement_graph_from_folder_name,\n",
                "    calculate_coverage,\n",
                "    find_num_cohesive_unsatisfied_agents,\n",
                ")\n",
                "from generative_social_choice.plots.plotting_helper_functions import get_graph_path\n",
                "import os\n",
                "import pandas as pd\n",
                "from pathlib import Path\n",
                "import seaborn as sns\n",
                "import matplotlib.pyplot as plt\n",
                "from generative_social_choice.utils.helper_functions import (\n",
                "    get_base_dir_path,\n",
                "    comment_to_agent_id,\n",
                ")\n",
                "from generative_social_choice.objects.agreement_graph import AgreementGraph\n",
                "from generative_social_choice.objects.agents import DEFAULT_MODEL\n",
                "import random\n",
                "\n",
                "random.seed(0)"
            ]
        },
        {
            "attachments": {},
            "cell_type": "markdown",
            "metadata": {},
            "source": [
                "# Decide which dataset and prompt you want to plot"
            ]
        },
        {
            "cell_type": "code",
            "execution_count": 3,
            "metadata": {},
            "outputs": [],
            "source": [
                "dataset_name = \"changemyview\"\n",
                "query1_prompt_type = \"cmv_basic_no_fewshot_yes_cot\"\n",
                "query1_prime_prompt_type = query1_prompt_type\n",
                "algorithm_type = \"JR\"\n",
                "k = 5\n",
                "seed = 0"
            ]
        },
        {
            "attachments": {},
            "cell_type": "markdown",
            "metadata": {},
            "source": [
                "# Load data"
            ]
        },
        {
            "cell_type": "code",
            "execution_count": 4,
            "metadata": {},
            "outputs": [],
            "source": [
                "folders = os.listdir(get_base_dir_path() / \"experiments/jr_and_ejr_eval/\")"
            ]
        },
        {
            "cell_type": "code",
            "execution_count": 5,
            "metadata": {},
            "outputs": [
                {
                    "data": {
                        "text/plain": [
                            "['2023-08-15-20:22:22__changemyview__seed_0__JR__cmv_basic_no_fewshot_yes_cot__5',\n",
                            " '2023-08-15-21:23:08__changemyview__seed_0__JR__cmv_basic_no_fewshot_yes_cot__5',\n",
                            " '2023-08-15-21:02:49__changemyview__seed_0__JR__cmv_basic_no_fewshot_yes_cot__5',\n",
                            " '2023-08-15-20:04:24__changemyview__seed_0__JR__cmv_basic_no_fewshot_yes_cot__5',\n",
                            " '2023-08-15-21:30:28__changemyview__seed_0__JR__cmv_basic_no_fewshot_yes_cot__5',\n",
                            " '2023-08-15-20:33:22__changemyview__seed_0__JR__cmv_basic_no_fewshot_yes_cot__5',\n",
                            " '2023-08-15-13:50:41__changemyview__seed_0__JR__cmv_basic_no_fewshot_yes_cot__5',\n",
                            " '2023-08-15-21:12:34__changemyview__seed_0__JR__cmv_basic_no_fewshot_yes_cot__5',\n",
                            " '2023-08-15-23:31:26__changemyview__seed_0__JR__cmv_basic_no_fewshot_yes_cot__5',\n",
                            " '2023-08-16-00:01:58__changemyview__seed_0__JR__cmv_basic_no_fewshot_yes_cot__5',\n",
                            " '2023-08-15-23:40:53__changemyview__seed_0__JR__cmv_basic_no_fewshot_yes_cot__5',\n",
                            " '2023-08-15-20:17:20__changemyview__seed_0__JR__cmv_basic_no_fewshot_yes_cot__5',\n",
                            " '2023-08-16-00:10:23__changemyview__seed_0__JR__cmv_basic_no_fewshot_yes_cot__5',\n",
                            " '2023-08-16-00:07:19__changemyview__seed_0__JR__cmv_basic_no_fewshot_yes_cot__5',\n",
                            " '2023-08-15-23:52:49__changemyview__seed_0__JR__cmv_basic_no_fewshot_yes_cot__5',\n",
                            " '2023-08-15-20:43:41__changemyview__seed_0__JR__cmv_basic_no_fewshot_yes_cot__5',\n",
                            " '2023-08-16-00:04:57__changemyview__seed_0__JR__cmv_basic_no_fewshot_yes_cot__5',\n",
                            " '2023-08-15-23:45:52__changemyview__seed_0__JR__cmv_basic_no_fewshot_yes_cot__5',\n",
                            " '2023-08-16-00:13:52__changemyview__seed_0__JR__cmv_basic_no_fewshot_yes_cot__5',\n",
                            " '2023-08-15-20:51:05__changemyview__seed_0__JR__cmv_basic_no_fewshot_yes_cot__5']"
                        ]
                    },
                    "execution_count": 5,
                    "metadata": {},
                    "output_type": "execute_result"
                }
            ],
            "source": [
                "relevant_folders = [\n",
                "    folder\n",
                "    for folder in folders\n",
                "    if is_relevant_folder(\n",
                "        folder_name=folder,\n",
                "        dataset_name=dataset_name,\n",
                "        query1_prompt_type=query1_prompt_type,\n",
                "        query1_prime_prompt_type=query1_prime_prompt_type,\n",
                "        algorithm_type=algorithm_type,\n",
                "        k=k,\n",
                "        seed=seed,\n",
                "    )\n",
                "]\n",
                "relevant_folders"
            ]
        },
        {
            "cell_type": "code",
            "execution_count": 6,
            "metadata": {},
            "outputs": [
                {
                    "data": {
                        "text/plain": [
                            "20"
                        ]
                    },
                    "execution_count": 6,
                    "metadata": {},
                    "output_type": "execute_result"
                }
            ],
            "source": [
                "len(relevant_folders)"
            ]
        },
        {
            "cell_type": "code",
            "execution_count": 7,
            "metadata": {},
            "outputs": [],
            "source": [
                "llm_1shot_base_dir = get_base_dir_path() / \"experiments/llm_1shot/\"\n",
                "folders_1shot = os.listdir(llm_1shot_base_dir)\n",
                "relevant_1shot_folders = [\n",
                "    folder\n",
                "    for folder in folders_1shot\n",
                "    if is_relevant_folder(\n",
                "        folder_name=folder,\n",
                "        dataset_name=dataset_name,\n",
                "        query1_prompt_type=\"output_anything\",\n",
                "        query1_prime_prompt_type=\"output_anything\",\n",
                "        algorithm_type=\"llm_1_shot\",\n",
                "        k=k,\n",
                "        seed=seed,\n",
                "    )\n",
                "]"
            ]
        },
        {
            "cell_type": "code",
            "execution_count": 8,
            "metadata": {},
            "outputs": [
                {
                    "data": {
                        "text/plain": [
                            "20"
                        ]
                    },
                    "execution_count": 8,
                    "metadata": {},
                    "output_type": "execute_result"
                }
            ],
            "source": [
                "len(relevant_1shot_folders)"
            ]
        },
        {
            "attachments": {},
            "cell_type": "markdown",
            "metadata": {},
            "source": [
                "# Process data"
            ]
        },
        {
            "cell_type": "code",
            "execution_count": 9,
            "metadata": {},
            "outputs": [],
            "source": [
                "results = []\n",
                "baseline_to_func = {\n",
                "    \"k_random\": lambda k: graph.find_k_random_comments(k=k),\n",
                "    \"k_most_popular\": lambda k: graph.find_k_most_popular_comments(k=k),\n",
                "    \"JR_on_human_comments\": lambda k: graph.find_JR_committee(k=k),\n",
                "    \"process_1\": lambda k: list(df.columns)[:k],\n",
                "}\n",
                "for folder_name in relevant_folders:\n",
                "    try:\n",
                "        folder_id = comment_to_agent_id(folder_name)\n",
                "        full_df = get_agreement_matrix_from_folder_name(folder_name=folder_name)\n",
                "        committee = get_committee_dict_from_folder_name(folder_name=folder_name)\n",
                "        df = full_df[committee.keys()]\n",
                "        graph = get_agreement_graph_from_folder_name(folder_name=folder_name)\n",
                "        df_all = pd.concat([df, graph.df], axis=1)\n",
                "        num_agents = len(df_all.index)\n",
                "        for k_vary in range(1, k + 1):\n",
                "            coverage = dict()\n",
                "            num_cohesive_unsatisfied_agents = dict()\n",
                "            for baseline, find_committee in baseline_to_func.items():\n",
                "                comments = find_committee(k_vary)\n",
                "                coverage = calculate_coverage(df_all=df_all, comments=comments)\n",
                "                num_cohesive_unsatisfied_agents = find_num_cohesive_unsatisfied_agents(\n",
                "                    df_all=df_all, comments=comments\n",
                "                )\n",
                "                is_jr_violation = int(\n",
                "                    num_cohesive_unsatisfied_agents >= num_agents / k_vary\n",
                "                )\n",
                "                results.append(\n",
                "                    {\n",
                "                        \"algorithm\": baseline,\n",
                "                        \"coverage\": coverage,\n",
                "                        \"num_cohesive_unsatisfied_agents\": num_cohesive_unsatisfied_agents,\n",
                "                        \"is_jr_violation\": is_jr_violation,\n",
                "                        \"k\": k_vary,\n",
                "                        \"experiment_id\": folder_id,\n",
                "                    }\n",
                "                )\n",
                "    except FileNotFoundError:\n",
                "        pass  # maybe that committee isn't finished generating yet"
            ]
        },
        {
            "attachments": {},
            "cell_type": "markdown",
            "metadata": {},
            "source": [
                "## Process llm 1-shot"
            ]
        },
        {
            "cell_type": "code",
            "execution_count": 10,
            "metadata": {},
            "outputs": [],
            "source": [
                "llm_1shot_results = []\n",
                "for folder_name in relevant_1shot_folders:\n",
                "    try:\n",
                "        folder_id = comment_to_agent_id(folder_name)\n",
                "        graph_filename = str(\n",
                "            llm_1shot_base_dir\n",
                "            / folder_name\n",
                "            / get_graph_path(folder_name=llm_1shot_base_dir / folder_name)\n",
                "        )\n",
                "        graph = AgreementGraph.load(filename=graph_filename, full_path_given=True)\n",
                "        num_agents = len(graph.df.index)\n",
                "        for k_vary in range(1, k + 1):\n",
                "            committee = list(graph.df.columns)[:k_vary]\n",
                "            coverage = calculate_coverage(df_all=graph.df, comments=committee)\n",
                "            # TODO: it's only checking wrt its own comments, not all the original comments, but like whatever\n",
                "            num_cohesive_unsatisfied_agents = find_num_cohesive_unsatisfied_agents(\n",
                "                df_all=graph.df, comments=committee\n",
                "            )\n",
                "            is_jr_violation = int(\n",
                "                num_cohesive_unsatisfied_agents >= num_agents / k_vary\n",
                "            )\n",
                "            llm_1shot_results.append(\n",
                "                {\n",
                "                    \"algorithm\": \"llm_1shot\",\n",
                "                    \"coverage\": coverage,\n",
                "                    \"num_cohesive_unsatisfied_agents\": num_cohesive_unsatisfied_agents,\n",
                "                    \"is_jr_violation\": is_jr_violation,\n",
                "                    \"k\": k_vary,\n",
                "                    \"experiment_id\": folder_id,\n",
                "                }\n",
                "            )\n",
                "    except FileNotFoundError:\n",
                "        pass  # maybe that committee hasn't finished generating yet"
            ]
        },
        {
            "attachments": {},
            "cell_type": "markdown",
            "metadata": {},
            "source": [
                "## combine data"
            ]
        },
        {
            "cell_type": "code",
            "execution_count": 11,
            "metadata": {},
            "outputs": [],
            "source": [
                "df_results = pd.DataFrame(results + llm_1shot_results)"
            ]
        },
        {
            "attachments": {},
            "cell_type": "markdown",
            "metadata": {},
            "source": [
                "# Plot data"
            ]
        },
        {
            "cell_type": "code",
            "execution_count": 12,
            "metadata": {},
            "outputs": [],
            "source": [
                "algorithms_to_plot = {\n",
                "    # \"k_random\": 0,\n",
                "    # \"k_most_popular\": 2,\n",
                "    \"llm_1shot\": 1,\n",
                "    \"JR_on_human_comments\": 3,\n",
                "    \"process_1\": 4,\n",
                "}"
            ]
        },
        {
            "cell_type": "code",
            "execution_count": 13,
            "metadata": {},
            "outputs": [
                {
                    "name": "stderr",
                    "output_type": "stream",
                    "text": [
                        "/opt/homebrew/lib/python3.10/site-packages/seaborn/_oldcore.py:1498: FutureWarning: is_categorical_dtype is deprecated and will be removed in a future version. Use isinstance(dtype, CategoricalDtype) instead\n",
                        "  if pd.api.types.is_categorical_dtype(vector):\n",
                        "/opt/homebrew/lib/python3.10/site-packages/seaborn/_oldcore.py:1498: FutureWarning: is_categorical_dtype is deprecated and will be removed in a future version. Use isinstance(dtype, CategoricalDtype) instead\n",
                        "  if pd.api.types.is_categorical_dtype(vector):\n",
                        "/opt/homebrew/lib/python3.10/site-packages/seaborn/_oldcore.py:1498: FutureWarning: is_categorical_dtype is deprecated and will be removed in a future version. Use isinstance(dtype, CategoricalDtype) instead\n",
                        "  if pd.api.types.is_categorical_dtype(vector):\n",
                        "/opt/homebrew/lib/python3.10/site-packages/seaborn/_oldcore.py:1498: FutureWarning: is_categorical_dtype is deprecated and will be removed in a future version. Use isinstance(dtype, CategoricalDtype) instead\n",
                        "  if pd.api.types.is_categorical_dtype(vector):\n"
                    ]
                },
                {
                    "data": {
                        "image/png": "[encoded data removed]",
                        "text/plain": [
                            "<Figure size 1200x400 with 1 Axes>"
                        ]
                    },
                    "metadata": {},
                    "output_type": "display_data"
                }
            ],
            "source": [
                "df_results = df_results[df_results[\"algorithm\"].isin(algorithms_to_plot.keys())]\n",
                "\n",
                "\n",
                "def set_font_properties(ax):\n",
                "    for item in (\n",
                "        [ax.title, ax.xaxis.label, ax.yaxis.label]\n",
                "        + ax.get_xticklabels()\n",
                "        + ax.get_yticklabels()\n",
                "    ):\n",
                "        item.set_fontsize(20)\n",
                "        item.set_family(\"Times New Roman\")\n",
                "\n",
                "\n",
                "# Reorder bars\n",
                "df_results[\"algorithm_order\"] = df_results[\"algorithm\"].map(algorithms_to_plot)\n",
                "df_results = df_results.sort_values(\"algorithm_order\")\n",
                "\n",
                "# Set legend labels\n",
                "df_results[\"legend_label\"] = df_results[\"algorithm\"].map(\n",
                "    {\n",
                "        \"k_random\": \"Random slate\",\n",
                "        \"k_most_popular\": \"Top k slate\",\n",
                "        \"llm_1shot\": \"LLM 1-shot\",\n",
                "        \"JR_on_human_comments\": \"Process 1 (no generation)\",\n",
                "        \"process_1\": \"Process 1\",\n",
                "    }\n",
                ")\n",
                "\n",
                "num_bars = len(df_results[\"algorithm\"].unique())\n",
                "num_colors = num_bars + 1  # do to make darker\n",
                "\n",
                "base_color = \"#3753A5\"\n",
                "palette = sns.light_palette(base_color, num_colors)\n",
                "\n",
                "plt.figure(figsize=(12, 4))\n",
                "barplot = sns.barplot(\n",
                "    data=df_results,\n",
                "    x=\"k\",\n",
                "    y=\"coverage\",\n",
                "    hue=\"legend_label\",\n",
                "    errorbar=(\"sd\", 1),\n",
                "    palette=palette[-num_bars:],\n",
                ")\n",
                "\n",
                "set_font_properties(barplot)\n",
                "\n",
                "plt.ylabel(\"Mean coverage\", fontsize=20)\n",
                "plt.xlabel(\"Slate size $k$\", fontsize=20)\n",
                "legend = plt.legend(\n",
                "    loc=\"upper center\", bbox_to_anchor=(0.5, -0.20), fontsize=20, ncol=3\n",
                ")\n",
                "plt.setp(legend.get_title(), fontsize=20)\n",
                "\n",
                "plt.savefig(\"jr_comparisons.pdf\", format=\"pdf\", bbox_inches=\"tight\")\n",
                "\n",
                "\n",
                "plt.show()"
            ]
        },
        {
            "attachments": {},
            "cell_type": "markdown",
            "metadata": {},
            "source": [
                "# Measure how often JR is violated "
            ]
        },
        {
            "cell_type": "code",
            "execution_count": 14,
            "metadata": {},
            "outputs": [
                {
                    "data": {
                        "text/plain": [
                            "algorithm             k\n",
                            "JR_on_human_comments  1    0.000000\n",
                            "                      2    0.000000\n",
                            "                      3    0.000000\n",
                            "                      4    0.000000\n",
                            "                      5    0.000000\n",
                            "llm_1shot             1    0.000000\n",
                            "                      2    0.000000\n",
                            "                      3    0.000000\n",
                            "                      4    0.071429\n",
                            "                      5    0.000000\n",
                            "process_1             1    0.000000\n",
                            "                      2    0.000000\n",
                            "                      3    0.000000\n",
                            "                      4    0.000000\n",
                            "                      5    0.000000\n",
                            "Name: is_jr_violation, dtype: float64"
                        ]
                    },
                    "execution_count": 14,
                    "metadata": {},
                    "output_type": "execute_result"
                }
            ],
            "source": [
                "df_jr_violation = df_results.groupby([\"algorithm\", \"k\"])[\"is_jr_violation\"].mean()\n",
                "df_jr_violation"
            ]
        },
        {
            "cell_type": "code",
            "execution_count": 15,
            "metadata": {},
            "outputs": [
                {
                    "name": "stderr",
                    "output_type": "stream",
                    "text": [
                        "/opt/homebrew/lib/python3.10/site-packages/seaborn/_oldcore.py:1498: FutureWarning: is_categorical_dtype is deprecated and will be removed in a future version. Use isinstance(dtype, CategoricalDtype) instead\n",
                        "  if pd.api.types.is_categorical_dtype(vector):\n",
                        "/opt/homebrew/lib/python3.10/site-packages/seaborn/_oldcore.py:1498: FutureWarning: is_categorical_dtype is deprecated and will be removed in a future version. Use isinstance(dtype, CategoricalDtype) instead\n",
                        "  if pd.api.types.is_categorical_dtype(vector):\n",
                        "/opt/homebrew/lib/python3.10/site-packages/seaborn/_oldcore.py:1498: FutureWarning: is_categorical_dtype is deprecated and will be removed in a future version. Use isinstance(dtype, CategoricalDtype) instead\n",
                        "  if pd.api.types.is_categorical_dtype(vector):\n",
                        "/opt/homebrew/lib/python3.10/site-packages/seaborn/_oldcore.py:1498: FutureWarning: is_categorical_dtype is deprecated and will be removed in a future version. Use isinstance(dtype, CategoricalDtype) instead\n",
                        "  if pd.api.types.is_categorical_dtype(vector):\n"
                    ]
                },
                {
                    "data": {
                        "image/png": "[encoded data removed]",
                        "text/plain": [
                            "<Figure size 1200x600 with 1 Axes>"
                        ]
                    },
                    "metadata": {},
                    "output_type": "display_data"
                }
            ],
            "source": [
                "df_results = df_results[df_results[\"algorithm\"].isin(algorithms_to_plot.keys())]\n",
                "\n",
                "\n",
                "def set_font_properties(ax):\n",
                "    for item in (\n",
                "        [ax.title, ax.xaxis.label, ax.yaxis.label]\n",
                "        + ax.get_xticklabels()\n",
                "        + ax.get_yticklabels()\n",
                "    ):\n",
                "        item.set_fontsize(20)\n",
                "        item.set_family(\"Times New Roman\")\n",
                "\n",
                "\n",
                "# Reorder bars\n",
                "df_results[\"algorithm_order\"] = df_results[\"algorithm\"].map(algorithms_to_plot)\n",
                "df_results = df_results.sort_values(\"algorithm_order\")\n",
                "\n",
                "# Set legend labels\n",
                "df_results[\"legend_label\"] = df_results[\"algorithm\"].map(\n",
                "    {\n",
                "        \"llm_1shot\": \"LLM 1-shot\",\n",
                "        \"JR_on_human_comments\": \"Process 1 (no generate)\",\n",
                "        \"process_1\": \"Process 1\",\n",
                "    }\n",
                ")\n",
                "\n",
                "num_bars = len(df_results[\"algorithm\"].unique())\n",
                "num_colors = num_bars + 1  # do to make darker\n",
                "\n",
                "base_color = \"#3753A5\"\n",
                "palette = sns.light_palette(base_color, num_colors)\n",
                "\n",
                "plt.figure(figsize=(12, 6))\n",
                "barplot = sns.barplot(\n",
                "    data=df_results,\n",
                "    x=\"k\",\n",
                "    y=\"num_cohesive_unsatisfied_agents\",\n",
                "    hue=\"legend_label\",\n",
                "    errorbar=(\"sd\", 1),\n",
                "    palette=palette[-num_bars:],\n",
                ")\n",
                "\n",
                "\n",
                "set_font_properties(barplot)\n",
                "\n",
                "plt.ylabel(\"# cohesive unsatisfied agents\")\n",
                "plt.xlabel(\"Slate size $k$\")\n",
                "barplot.legend(title=\"Algorithm\")\n",
                "legend = plt.legend(\n",
                "    loc=\"upper center\", bbox_to_anchor=(0.5, -0.20), fontsize=20, ncol=3\n",
                ")\n",
                "plt.setp(legend.get_title(), fontsize=20)\n",
                "\n",
                "plt.savefig(\"jr_unsatisfied.pdf\", format=\"pdf\", bbox_inches=\"tight\")"
            ]
        },
        {
            "cell_type": "code",
            "execution_count": null,
            "metadata": {},
            "outputs": [],
            "source": []
        }
    ],
    "metadata": {
        "kernelspec": {
            "display_name": "Python 3",
            "language": "python",
            "name": "python3"
        },
        "language_info": {
            "codemirror_mode": {
                "name": "ipython",
                "version": 3
            },
            "file_extension": ".py",
            "mimetype": "text/x-python",
            "name": "python",
            "nbconvert_exporter": "python",
            "pygments_lexer": "ipython3",
            "version": "3.10.9"
        },
        "orig_nbformat": 4
    },
    "nbformat": 4,
    "nbformat_minor": 2
}
