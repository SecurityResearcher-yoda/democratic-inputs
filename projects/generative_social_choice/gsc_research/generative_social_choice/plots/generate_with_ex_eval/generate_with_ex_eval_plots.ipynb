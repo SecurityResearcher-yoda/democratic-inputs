{
    "cells": [
        {
            "cell_type": "code",
            "execution_count": 2,
            "metadata": {},
            "outputs": [
                {
                    "name": "stdout",
                    "output_type": "stream",
                    "text": [
                        "The autoreload extension is already loaded. To reload it, use:\n",
                        "  %reload_ext autoreload\n"
                    ]
                }
            ],
            "source": [
                "%load_ext autoreload\n",
                "%autoreload 2"
            ]
        },
        {
            "cell_type": "code",
            "execution_count": 4,
            "metadata": {},
            "outputs": [],
            "source": [
                "import os\n",
                "from generative_social_choice.plots.generate_with_ex_eval.generate_with_ex_eval_plotting_helper_functions import (\n",
                "    is_relevant_folder,\n",
                "    get_dataset_from_folder_name,\n",
                "    get_max_depth_from_folder_name,\n",
                "    get_query1_prime_prompt_from_folder_name,\n",
                "    get_query1_prompt_from_folder_name,\n",
                ")\n",
                "from generative_social_choice.plots.plotting_helper_functions import get_graph_path\n",
                "import pandas as pd\n",
                "from pathlib import Path\n",
                "import seaborn as sns\n",
                "import seaborn as sns\n",
                "import matplotlib.pyplot as plt\n",
                "from generative_social_choice.utils.helper_functions import get_base_dir_path"
            ]
        },
        {
            "attachments": {},
            "cell_type": "markdown",
            "metadata": {},
            "source": [
                "# Decide which dataset and prompt you want to plot"
            ]
        },
        {
            "cell_type": "code",
            "execution_count": 5,
            "metadata": {},
            "outputs": [],
            "source": [
                "dataset_name = \"changemyview\"\n",
                "query1_prompt = \"cmv_basic_no_fewshot_yes_cot\"\n",
                "query1_prime_prompt = query1_prompt\n",
                "max_depth = 10"
            ]
        },
        {
            "attachments": {},
            "cell_type": "markdown",
            "metadata": {},
            "source": [
                "# Load data"
            ]
        },
        {
            "cell_type": "code",
            "execution_count": 6,
            "metadata": {},
            "outputs": [],
            "source": [
                "EXPERIMENT_PATH = get_base_dir_path() / \"experiments/generate_with_ex_eval\"\n",
                "folders = os.listdir(EXPERIMENT_PATH)"
            ]
        },
        {
            "cell_type": "code",
            "execution_count": 7,
            "metadata": {},
            "outputs": [],
            "source": [
                "relevant_folders = [\n",
                "    folder\n",
                "    for folder in folders\n",
                "    if is_relevant_folder(\n",
                "        folder_name=folder,\n",
                "        dataset_name=dataset_name,\n",
                "        query1_prompt=query1_prompt,\n",
                "        query1_prime_prompt=query1_prime_prompt,\n",
                "        max_depth=max_depth,\n",
                "    )\n",
                "]"
            ]
        },
        {
            "attachments": {},
            "cell_type": "markdown",
            "metadata": {},
            "source": [
                "# Plot data"
            ]
        },
        {
            "cell_type": "code",
            "execution_count": 8,
            "metadata": {},
            "outputs": [],
            "source": [
                "results = []\n",
                "for folder_name in relevant_folders:\n",
                "    try:\n",
                "        df = pd.read_csv(\n",
                "            EXPERIMENT_PATH\n",
                "            / Path(folder_name)\n",
                "            / get_graph_path(folder_name=EXPERIMENT_PATH / folder_name),\n",
                "            index_col=0,\n",
                "        )\n",
                "        result = df.apply(lambda col: col[col == 1].count() / len(col))\n",
                "        results.append(result.values)\n",
                "    except Exception as e:\n",
                "        continue\n",
                "\n",
                "result_df = pd.DataFrame(results).transpose()"
            ]
        },
        {
            "cell_type": "code",
            "execution_count": 9,
            "metadata": {},
            "outputs": [
                {
                    "data": {
                        "text/html": [
                            "<div>\n",
                            "<style scoped>\n",
                            "    .dataframe tbody tr th:only-of-type {\n",
                            "        vertical-align: middle;\n",
                            "    }\n",
                            "\n",
                            "    .dataframe tbody tr th {\n",
                            "        vertical-align: top;\n",
                            "    }\n",
                            "\n",
                            "    .dataframe thead th {\n",
                            "        text-align: right;\n",
                            "    }\n",
                            "</style>\n",
                            "<table border=\"1\" class=\"dataframe\">\n",
                            "  <thead>\n",
                            "    <tr style=\"text-align: right;\">\n",
                            "      <th></th>\n",
                            "      <th>0</th>\n",
                            "      <th>1</th>\n",
                            "      <th>2</th>\n",
                            "      <th>3</th>\n",
                            "      <th>4</th>\n",
                            "      <th>5</th>\n",
                            "      <th>6</th>\n",
                            "      <th>7</th>\n",
                            "      <th>8</th>\n",
                            "      <th>9</th>\n",
                            "    </tr>\n",
                            "  </thead>\n",
                            "  <tbody>\n",
                            "    <tr>\n",
                            "      <th>0</th>\n",
                            "      <td>0.705882</td>\n",
                            "      <td>0.3125</td>\n",
                            "      <td>0.5625</td>\n",
                            "      <td>0.352941</td>\n",
                            "      <td>0.5000</td>\n",
                            "      <td>0.6250</td>\n",
                            "      <td>0.588235</td>\n",
                            "      <td>0.7500</td>\n",
                            "      <td>0.470588</td>\n",
                            "      <td>0.555556</td>\n",
                            "    </tr>\n",
                            "    <tr>\n",
                            "      <th>1</th>\n",
                            "      <td>0.647059</td>\n",
                            "      <td>0.3125</td>\n",
                            "      <td>0.5625</td>\n",
                            "      <td>0.352941</td>\n",
                            "      <td>0.4375</td>\n",
                            "      <td>0.6875</td>\n",
                            "      <td>0.588235</td>\n",
                            "      <td>0.6875</td>\n",
                            "      <td>0.529412</td>\n",
                            "      <td>0.555556</td>\n",
                            "    </tr>\n",
                            "    <tr>\n",
                            "      <th>2</th>\n",
                            "      <td>0.647059</td>\n",
                            "      <td>0.3125</td>\n",
                            "      <td>0.6250</td>\n",
                            "      <td>0.411765</td>\n",
                            "      <td>0.5000</td>\n",
                            "      <td>0.6250</td>\n",
                            "      <td>0.529412</td>\n",
                            "      <td>0.7500</td>\n",
                            "      <td>0.529412</td>\n",
                            "      <td>0.555556</td>\n",
                            "    </tr>\n",
                            "    <tr>\n",
                            "      <th>3</th>\n",
                            "      <td>0.647059</td>\n",
                            "      <td>0.3750</td>\n",
                            "      <td>0.3750</td>\n",
                            "      <td>0.352941</td>\n",
                            "      <td>0.5000</td>\n",
                            "      <td>0.6875</td>\n",
                            "      <td>0.588235</td>\n",
                            "      <td>0.7500</td>\n",
                            "      <td>0.470588</td>\n",
                            "      <td>0.500000</td>\n",
                            "    </tr>\n",
                            "    <tr>\n",
                            "      <th>4</th>\n",
                            "      <td>0.647059</td>\n",
                            "      <td>0.2500</td>\n",
                            "      <td>0.6250</td>\n",
                            "      <td>0.352941</td>\n",
                            "      <td>0.4375</td>\n",
                            "      <td>0.6250</td>\n",
                            "      <td>0.588235</td>\n",
                            "      <td>0.7500</td>\n",
                            "      <td>0.529412</td>\n",
                            "      <td>0.555556</td>\n",
                            "    </tr>\n",
                            "    <tr>\n",
                            "      <th>5</th>\n",
                            "      <td>0.647059</td>\n",
                            "      <td>0.2500</td>\n",
                            "      <td>0.6250</td>\n",
                            "      <td>0.352941</td>\n",
                            "      <td>0.5000</td>\n",
                            "      <td>0.6250</td>\n",
                            "      <td>0.588235</td>\n",
                            "      <td>0.7500</td>\n",
                            "      <td>0.529412</td>\n",
                            "      <td>0.555556</td>\n",
                            "    </tr>\n",
                            "    <tr>\n",
                            "      <th>6</th>\n",
                            "      <td>0.529412</td>\n",
                            "      <td>0.5000</td>\n",
                            "      <td>0.5000</td>\n",
                            "      <td>0.352941</td>\n",
                            "      <td>0.4375</td>\n",
                            "      <td>0.5625</td>\n",
                            "      <td>0.588235</td>\n",
                            "      <td>0.7500</td>\n",
                            "      <td>0.588235</td>\n",
                            "      <td>0.833333</td>\n",
                            "    </tr>\n",
                            "    <tr>\n",
                            "      <th>7</th>\n",
                            "      <td>0.647059</td>\n",
                            "      <td>0.1875</td>\n",
                            "      <td>0.5000</td>\n",
                            "      <td>0.352941</td>\n",
                            "      <td>0.4375</td>\n",
                            "      <td>0.6250</td>\n",
                            "      <td>0.588235</td>\n",
                            "      <td>0.7500</td>\n",
                            "      <td>0.529412</td>\n",
                            "      <td>0.555556</td>\n",
                            "    </tr>\n",
                            "    <tr>\n",
                            "      <th>8</th>\n",
                            "      <td>0.705882</td>\n",
                            "      <td>0.3125</td>\n",
                            "      <td>0.5000</td>\n",
                            "      <td>0.235294</td>\n",
                            "      <td>0.5000</td>\n",
                            "      <td>0.6250</td>\n",
                            "      <td>0.647059</td>\n",
                            "      <td>0.7500</td>\n",
                            "      <td>0.235294</td>\n",
                            "      <td>0.500000</td>\n",
                            "    </tr>\n",
                            "    <tr>\n",
                            "      <th>9</th>\n",
                            "      <td>0.647059</td>\n",
                            "      <td>0.3750</td>\n",
                            "      <td>0.6250</td>\n",
                            "      <td>0.470588</td>\n",
                            "      <td>0.4375</td>\n",
                            "      <td>0.5625</td>\n",
                            "      <td>0.588235</td>\n",
                            "      <td>0.7500</td>\n",
                            "      <td>0.529412</td>\n",
                            "      <td>0.555556</td>\n",
                            "    </tr>\n",
                            "  </tbody>\n",
                            "</table>\n",
                            "</div>"
                        ],
                        "text/plain": [
                            "          0       1       2         3       4       5         6       7   \n",
                            "0  0.705882  0.3125  0.5625  0.352941  0.5000  0.6250  0.588235  0.7500  \\\n",
                            "1  0.647059  0.3125  0.5625  0.352941  0.4375  0.6875  0.588235  0.6875   \n",
                            "2  0.647059  0.3125  0.6250  0.411765  0.5000  0.6250  0.529412  0.7500   \n",
                            "3  0.647059  0.3750  0.3750  0.352941  0.5000  0.6875  0.588235  0.7500   \n",
                            "4  0.647059  0.2500  0.6250  0.352941  0.4375  0.6250  0.588235  0.7500   \n",
                            "5  0.647059  0.2500  0.6250  0.352941  0.5000  0.6250  0.588235  0.7500   \n",
                            "6  0.529412  0.5000  0.5000  0.352941  0.4375  0.5625  0.588235  0.7500   \n",
                            "7  0.647059  0.1875  0.5000  0.352941  0.4375  0.6250  0.588235  0.7500   \n",
                            "8  0.705882  0.3125  0.5000  0.235294  0.5000  0.6250  0.647059  0.7500   \n",
                            "9  0.647059  0.3750  0.6250  0.470588  0.4375  0.5625  0.588235  0.7500   \n",
                            "\n",
                            "          8         9  \n",
                            "0  0.470588  0.555556  \n",
                            "1  0.529412  0.555556  \n",
                            "2  0.529412  0.555556  \n",
                            "3  0.470588  0.500000  \n",
                            "4  0.529412  0.555556  \n",
                            "5  0.529412  0.555556  \n",
                            "6  0.588235  0.833333  \n",
                            "7  0.529412  0.555556  \n",
                            "8  0.235294  0.500000  \n",
                            "9  0.529412  0.555556  "
                        ]
                    },
                    "execution_count": 9,
                    "metadata": {},
                    "output_type": "execute_result"
                }
            ],
            "source": [
                "result_df"
            ]
        },
        {
            "cell_type": "code",
            "execution_count": 10,
            "metadata": {},
            "outputs": [
                {
                    "data": {
                        "image/png": "[encoded data removed]",
                        "text/plain": [
                            "<Figure size 1000x400 with 1 Axes>"
                        ]
                    },
                    "metadata": {},
                    "output_type": "display_data"
                }
            ],
            "source": [
                "mean_values = result_df.mean(axis=1)\n",
                "std_values = result_df.std(axis=1)\n",
                "\n",
                "plt.rcParams[\"axes.titlesize\"] = 20\n",
                "plt.rcParams[\"axes.labelsize\"] = 20\n",
                "plt.rcParams[\"xtick.labelsize\"] = 20\n",
                "plt.rcParams[\"ytick.labelsize\"] = 20\n",
                "\n",
                "plt.figure(figsize=(10, 4))\n",
                "plt.plot(mean_values)\n",
                "plt.fill_between(\n",
                "    result_df.index, mean_values - std_values, mean_values + std_values, alpha=0.2\n",
                ")\n",
                "n = len(result_df.columns)\n",
                "plt.xticks(range(n), [str(i + 1) for i in range(n)])\n",
                "plt.ylim((0, 1))\n",
                "plt.xlabel(\"Timestep \" + r\"$t$\")\n",
                "plt.ylabel(\"Approval of \" + r\"$\\alpha_t$\")\n",
                "plt.title(\"\")\n",
                "plt.savefig(\n",
                "    f\"{dataset_name}_{query1_prime_prompt}_{max_depth}.pdf\", bbox_inches=\"tight\"\n",
                ")"
            ]
        },
        {
            "cell_type": "code",
            "execution_count": null,
            "metadata": {},
            "outputs": [],
            "source": []
        },
        {
            "cell_type": "code",
            "execution_count": null,
            "metadata": {},
            "outputs": [],
            "source": []
        }
    ],
    "metadata": {
        "kernelspec": {
            "display_name": "Python 3",
            "language": "python",
            "name": "python3"
        },
        "language_info": {
            "codemirror_mode": {
                "name": "ipython",
                "version": 3
            },
            "file_extension": ".py",
            "mimetype": "text/x-python",
            "name": "python",
            "nbconvert_exporter": "python",
            "pygments_lexer": "ipython3",
            "version": "3.8.9"
        },
        "orig_nbformat": 4
    },
    "nbformat": 4,
    "nbformat_minor": 2
}
