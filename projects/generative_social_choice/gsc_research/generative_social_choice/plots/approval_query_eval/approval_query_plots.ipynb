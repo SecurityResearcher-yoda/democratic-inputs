{
    "cells": [
        {
            "cell_type": "code",
            "execution_count": 2,
            "metadata": {},
            "outputs": [],
            "source": [
                "%load_ext autoreload\n",
                "%autoreload 2"
            ]
        },
        {
            "cell_type": "code",
            "execution_count": 3,
            "metadata": {},
            "outputs": [],
            "source": [
                "import pandas as pd\n",
                "from pathlib import Path\n",
                "import numpy as np\n",
                "import matplotlib.pyplot as plt\n",
                "import os\n",
                "import textwrap\n",
                "import seaborn as sns\n",
                "import seaborn.objects as so\n",
                "from generative_social_choice.utils.helper_functions import get_base_dir_path\n",
                "from generative_social_choice.utils.helper_functions import (\n",
                "    detect_dataset,\n",
                ")"
            ]
        },
        {
            "cell_type": "markdown",
            "metadata": {},
            "source": [
                "# Select which data to load"
            ]
        },
        {
            "cell_type": "code",
            "execution_count": 4,
            "metadata": {},
            "outputs": [],
            "source": [
                "PLOT_NUMBER = 1  # options: 1 or 2"
            ]
        },
        {
            "cell_type": "code",
            "execution_count": 5,
            "metadata": {},
            "outputs": [],
            "source": [
                "EXPERIMENT_FOLDERS = []\n",
                "BASE_PATH = get_base_dir_path() / \"experiments/approval_query_eval\"\n",
                "CHANGEMYVIEW_FOLDER = BASE_PATH / \"predict_cmv_votes\"\n",
                "POLIS_FOLDER = BASE_PATH / \"predict_polis_votes\"\n",
                "\n",
                "if PLOT_NUMBER == 1:\n",
                "    # Use a single cmv dataset (we use 4 in the main body of the paper) and all Polis datasets\n",
                "    for folder in os.listdir(CHANGEMYVIEW_FOLDER):\n",
                "        if (\n",
                "            \"2_final\" in folder\n",
                "        ):  # submitted paper uses \"mainbody\" data, arXiv version uses 2_final\n",
                "            EXPERIMENT_FOLDERS.append(\"predict_cmv_votes/\" + folder)\n",
                "    for folder in os.listdir(POLIS_FOLDER):\n",
                "        if \"final\" in folder:\n",
                "            EXPERIMENT_FOLDERS.append(\"predict_polis_votes/\" + folder)\n",
                "\n",
                "elif PLOT_NUMBER == 2:\n",
                "    # use all cmv datasets (we care about robustness across random seeds) and no polis\n",
                "    for folder in os.listdir(CHANGEMYVIEW_FOLDER):\n",
                "        if \"final\" in folder:\n",
                "            EXPERIMENT_FOLDERS.append(\"predict_cmv_votes/\" + folder)"
            ]
        },
        {
            "cell_type": "markdown",
            "metadata": {},
            "source": [
                "# Load data"
            ]
        },
        {
            "cell_type": "code",
            "execution_count": 6,
            "metadata": {},
            "outputs": [],
            "source": [
                "logs = []\n",
                "for folder in EXPERIMENT_FOLDERS:\n",
                "    raw_df = pd.read_csv(BASE_PATH / folder / \"logs.csv\", index_col=0)\n",
                "\n",
                "    # for actual data\n",
                "    raw_df[\"vote_match\"] = (raw_df[\"true_vote\"] == raw_df[\"llm_vote\"]).astype(int)\n",
                "    raw_df[\"dataset\"] = detect_dataset(folder)\n",
                "\n",
                "    # append to logs\n",
                "    logs.extend([raw_df])\n",
                "\n",
                "# concat all logs into one df\n",
                "df = pd.concat(logs, ignore_index=True)\n",
                "df.rename(columns={\"subject\": \"query2_prompt_type\"}, inplace=True)"
            ]
        },
        {
            "attachments": {},
            "cell_type": "markdown",
            "metadata": {},
            "source": [
                "# Generate summary statistics"
            ]
        },
        {
            "cell_type": "code",
            "execution_count": 7,
            "metadata": {},
            "outputs": [
                {
                    "data": {
                        "text/html": [
                            "<div>\n",
                            "<style scoped>\n",
                            "    .dataframe tbody tr th:only-of-type {\n",
                            "        vertical-align: middle;\n",
                            "    }\n",
                            "\n",
                            "    .dataframe tbody tr th {\n",
                            "        vertical-align: top;\n",
                            "    }\n",
                            "\n",
                            "    .dataframe thead th {\n",
                            "        text-align: right;\n",
                            "    }\n",
                            "</style>\n",
                            "<table border=\"1\" class=\"dataframe\">\n",
                            "  <thead>\n",
                            "    <tr style=\"text-align: right;\">\n",
                            "      <th></th>\n",
                            "      <th></th>\n",
                            "      <th></th>\n",
                            "      <th>mean</th>\n",
                            "      <th>median</th>\n",
                            "    </tr>\n",
                            "    <tr>\n",
                            "      <th>dataset</th>\n",
                            "      <th>num_given_comments</th>\n",
                            "      <th>num_given_votes</th>\n",
                            "      <th></th>\n",
                            "      <th></th>\n",
                            "    </tr>\n",
                            "  </thead>\n",
                            "  <tbody>\n",
                            "    <tr>\n",
                            "      <th rowspan=\"2\" valign=\"top\">bowlinggreen</th>\n",
                            "      <th>1.0</th>\n",
                            "      <th>2.0</th>\n",
                            "      <td>0.570000</td>\n",
                            "      <td>0.55</td>\n",
                            "    </tr>\n",
                            "    <tr>\n",
                            "      <th>3.0</th>\n",
                            "      <th>20.0</th>\n",
                            "      <td>0.722500</td>\n",
                            "      <td>0.70</td>\n",
                            "    </tr>\n",
                            "    <tr>\n",
                            "      <th>changemyview</th>\n",
                            "      <th>0.0</th>\n",
                            "      <th>0.0</th>\n",
                            "      <td>0.840000</td>\n",
                            "      <td>0.90</td>\n",
                            "    </tr>\n",
                            "    <tr>\n",
                            "      <th>minimumwage</th>\n",
                            "      <th>1.0</th>\n",
                            "      <th>2.0</th>\n",
                            "      <td>0.692308</td>\n",
                            "      <td>0.70</td>\n",
                            "    </tr>\n",
                            "  </tbody>\n",
                            "</table>\n",
                            "</div>"
                        ],
                        "text/plain": [
                            "                                                     mean  median\n",
                            "dataset      num_given_comments num_given_votes                  \n",
                            "bowlinggreen 1.0                2.0              0.570000    0.55\n",
                            "             3.0                20.0             0.722500    0.70\n",
                            "changemyview 0.0                0.0              0.840000    0.90\n",
                            "minimumwage  1.0                2.0              0.692308    0.70"
                        ]
                    },
                    "execution_count": 7,
                    "metadata": {},
                    "output_type": "execute_result"
                }
            ],
            "source": [
                "if PLOT_NUMBER == 1:\n",
                "    df[\"num_given_comments\"] = df[\"num_given_comments\"].fillna(0)\n",
                "    df[\"num_given_votes\"] = df[\"num_given_votes\"].fillna(0)\n",
                "    grouped = (\n",
                "        df.groupby([\"dataset\", \"num_given_comments\", \"num_given_votes\", \"agent_id\"])[\n",
                "            \"vote_match\"\n",
                "        ]\n",
                "        .mean()\n",
                "        .reset_index()\n",
                "    )\n",
                "    mean_median = grouped.groupby([\"dataset\", \"num_given_comments\", \"num_given_votes\"])[\n",
                "        \"vote_match\"\n",
                "    ].agg([\"mean\", \"median\"])\n",
                "\n",
                "elif PLOT_NUMBER == 2:\n",
                "    grouped = (\n",
                "        df.groupby([\"dataset\", \"seed\", \"agent_id\"])[\"vote_match\"].mean().reset_index()\n",
                "    )\n",
                "    mean_median = grouped.groupby([\"dataset\", \"seed\"])[\"vote_match\"].agg(\n",
                "        [\"mean\", \"median\"]\n",
                "    )\n",
                "mean_median"
            ]
        },
        {
            "attachments": {},
            "cell_type": "markdown",
            "metadata": {},
            "source": [
                "# Generate plots"
            ]
        },
        {
            "cell_type": "code",
            "execution_count": 8,
            "metadata": {},
            "outputs": [
                {
                    "name": "stderr",
                    "output_type": "stream",
                    "text": [
                        "/tmp/ipykernel_1262447/1414054237.py:60: MatplotlibDeprecationWarning: Support for passing numbers through unit converters is deprecated since 3.5 and support will be removed two minor releases later; use Axis.convert_units instead.\n",
                        "  plt.xticks([], [])\n"
                    ]
                },
                {
                    "data": {
                        "image/png": "[encoded data removed]",
                        "text/plain": [
                            "<Figure size 432x432 with 1 Axes>"
                        ]
                    },
                    "metadata": {
                        "needs_background": "light"
                    },
                    "output_type": "display_data"
                }
            ],
            "source": [
                "if PLOT_NUMBER == 1:\n",
                "    df[\"x_values\"] = (\n",
                "        df[\"dataset\"].astype(str)\n",
                "        + \", \"\n",
                "        + df[\"num_given_comments\"].astype(int).astype(str)\n",
                "        + \", \"\n",
                "        + df[\"num_given_votes\"].astype(int).astype(str)\n",
                "    )\n",
                "    df[\"x_values\"].replace(\n",
                "        {\n",
                "            \"changemyview, 0, 0\": \"changemyview\",\n",
                "            \"minimumwage, 1, 2\": \"minimumwage\",\n",
                "            \"bowlinggreen, 1, 2\": \"bowlinggreen\",\n",
                "            \"bowlinggreen, 3, 20\": \"bowlinggreen (+ data)\",\n",
                "        },\n",
                "        inplace=True,\n",
                "    )\n",
                "\n",
                "    order = [\"bowlinggreen\", \"bowlinggreen (+ data)\", \"minimumwage\", \"changemyview\"]\n",
                "    df[\"x_values_order\"] = df[\"x_values\"].astype(\n",
                "        pd.CategoricalDtype(categories=order, ordered=True)\n",
                "    )\n",
                "\n",
                "    ncol_legend = 2\n",
                "    title = \"Vote prediction accuracy across datasets\"\n",
                "    xlabel = \"Dataset\"\n",
                "    vertical_legend_offset = -0.3\n",
                "\n",
                "elif PLOT_NUMBER == 2:\n",
                "    df[\"x_values\"] = f\"seed \" + df[\"seed\"].astype(int).astype(str) + \"\"\n",
                "\n",
                "    df[\"x_values_order\"] = df[\"x_values\"]\n",
                "\n",
                "    ncol_legend = 5\n",
                "    title = \"Vote prediction accuracy across seeds\"\n",
                "    xlabel = \"Seed\"\n",
                "    vertical_legend_offset = -0.2\n",
                "\n",
                "\n",
                "# Create a new column with desired order\n",
                "\n",
                "\n",
                "avg_vote_match = (\n",
                "    df.groupby([\"x_values_order\", \"agent_id\"])[\"vote_match\"].mean().reset_index()\n",
                ")\n",
                "\n",
                "\n",
                "plot = sns.catplot(\n",
                "    data=avg_vote_match,\n",
                "    x=\"x_values_order\",\n",
                "    y=\"vote_match\",\n",
                "    hue=\"x_values_order\",\n",
                "    kind=\"swarm\",\n",
                "    height=6,\n",
                "    aspect=1,\n",
                "    size=10,\n",
                ")\n",
                "\n",
                "plot.ax.axhline(0.5, ls=\"--\", color=\"red\")  # Add horizontal line at 0.5 vote match\n",
                "plt.xticks([], [])\n",
                "plt.ylabel(\"Accuracy\", fontsize=20)\n",
                "plt.xlabel(xlabel, fontsize=20)\n",
                "plt.title(title, fontsize=20)\n",
                "plot.ax.tick_params(axis=\"y\", labelsize=20)\n",
                "\n",
                "legend = plt.legend(\n",
                "    loc=\"lower center\",\n",
                "    bbox_to_anchor=(0.5, vertical_legend_offset),\n",
                "    ncol=ncol_legend,\n",
                "    fontsize=20,\n",
                "    markerscale=1.5,\n",
                "    columnspacing=1,\n",
                "    handlelength=0,\n",
                ")\n",
                "\n",
                "\n",
                "plt.savefig(\n",
                "    f\"approval_query_swarm_{'datasets' if PLOT_NUMBER == 1 else 'seeds'}.pdf\",\n",
                "    bbox_inches=\"tight\",\n",
                ")"
            ]
        },
        {
            "cell_type": "code",
            "execution_count": 166,
            "metadata": {},
            "outputs": [
                {
                    "data": {
                        "text/plain": [
                            "x_values_order\n",
                            "seed 0    16\n",
                            "seed 1    15\n",
                            "seed 2    15\n",
                            "seed 3    15\n",
                            "seed 4    15\n",
                            "Name: agent_id, dtype: int64"
                        ]
                    },
                    "execution_count": 166,
                    "metadata": {},
                    "output_type": "execute_result"
                }
            ],
            "source": [
                "avg_vote_match\n",
                "unique_agents = avg_vote_match.groupby(\"x_values_order\")[\"agent_id\"].nunique()\n",
                "unique_agents"
            ]
        },
        {
            "cell_type": "code",
            "execution_count": 169,
            "metadata": {},
            "outputs": [
                {
                    "data": {
                        "text/html": [
                            "<div>\n",
                            "<style scoped>\n",
                            "    .dataframe tbody tr th:only-of-type {\n",
                            "        vertical-align: middle;\n",
                            "    }\n",
                            "\n",
                            "    .dataframe tbody tr th {\n",
                            "        vertical-align: top;\n",
                            "    }\n",
                            "\n",
                            "    .dataframe thead th {\n",
                            "        text-align: right;\n",
                            "    }\n",
                            "</style>\n",
                            "<table border=\"1\" class=\"dataframe\">\n",
                            "  <thead>\n",
                            "    <tr style=\"text-align: right;\">\n",
                            "      <th></th>\n",
                            "      <th>agent_id</th>\n",
                            "      <th>vote_match</th>\n",
                            "    </tr>\n",
                            "  </thead>\n",
                            "  <tbody>\n",
                            "    <tr>\n",
                            "      <th>mean</th>\n",
                            "      <td>5.120905e+07</td>\n",
                            "      <td>0.867105</td>\n",
                            "    </tr>\n",
                            "    <tr>\n",
                            "      <th>median</th>\n",
                            "      <td>4.946697e+07</td>\n",
                            "      <td>0.900000</td>\n",
                            "    </tr>\n",
                            "    <tr>\n",
                            "      <th>std</th>\n",
                            "      <td>2.707586e+07</td>\n",
                            "      <td>0.110016</td>\n",
                            "    </tr>\n",
                            "  </tbody>\n",
                            "</table>\n",
                            "</div>"
                        ],
                        "text/plain": [
                            "            agent_id  vote_match\n",
                            "mean    5.120905e+07    0.867105\n",
                            "median  4.946697e+07    0.900000\n",
                            "std     2.707586e+07    0.110016"
                        ]
                    },
                    "execution_count": 169,
                    "metadata": {},
                    "output_type": "execute_result"
                }
            ],
            "source": [
                "avg_vote_match.agg([\"mean\", \"median\", \"std\"])"
            ]
        },
        {
            "cell_type": "code",
            "execution_count": null,
            "metadata": {},
            "outputs": [],
            "source": []
        }
    ],
    "metadata": {
        "kernelspec": {
            "display_name": "Python 3",
            "language": "python",
            "name": "python3"
        },
        "language_info": {
            "codemirror_mode": {
                "name": "ipython",
                "version": 3
            },
            "file_extension": ".py",
            "mimetype": "text/x-python",
            "name": "python",
            "nbconvert_exporter": "python",
            "pygments_lexer": "ipython3",
            "version": "3.10.12"
        },
        "orig_nbformat": 4
    },
    "nbformat": 4,
    "nbformat_minor": 2
}
