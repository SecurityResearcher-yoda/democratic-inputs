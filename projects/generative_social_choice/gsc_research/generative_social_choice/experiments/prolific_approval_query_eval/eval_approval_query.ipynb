{
 "cells": [
  {
   "cell_type": "code",
   "execution_count": 5,
   "metadata": {},
   "outputs": [],
   "source": [
    "%load_ext autoreload"
   ]
  },
  {
   "cell_type": "code",
   "execution_count": 6,
   "metadata": {},
   "outputs": [],
   "source": [
    "import pandas as pd\n",
    "import re"
   ]
  },
  {
   "cell_type": "code",
   "execution_count": 7,
   "metadata": {},
   "outputs": [],
   "source": [
    "# here's the data with all agents\n",
    "filename = \"\"\"\n",
    "generative-social-choice/generative_social_choice/experiments/prolific_approval_query_eval/2023-10-11-20:19:14__chatbot_personalization_eval_23_09_28_strict__50/logs.csv\n",
    "\"\"\"\n",
    "\n",
    "# here's the data with half agents, that's done\n",
    "# filename = \"\"\"generative-social-choice/generative_social_choice/experiments/prolific_approval_query_eval/2023-09-26-15:01:44__chatbot_personalization_rating_23_09_25__10/logs.csv\"\"\"\n",
    "filename = filename[filename.index(\"2023\") :].replace(\"\\n\", \"\")"
   ]
  },
  {
   "cell_type": "code",
   "execution_count": 8,
   "metadata": {},
   "outputs": [],
   "source": [
    "df = pd.read_csv(filename, index_col=0)\n",
    "# Agent_id consists of {id}_{question_idx}, we just want the agent\n",
    "df[\"agent_id\"] = df[\"id\"].apply(lambda s: s.split(\"_\")[0])\n",
    "df[\"choice_number\"] = (\n",
    "    df[\"choice_number\"].astype(str).apply(lambda x: re.sub(\"[^0-9]\", \"\", x)).astype(int)\n",
    ")\n",
    "model = df[\"model\"].unique()[0]"
   ]
  },
  {
   "attachments": {},
   "cell_type": "markdown",
   "metadata": {},
   "source": [
    "## Aggregate multiple attempts at the same query\n",
    "\n",
    "If multiple trials for the same query, take the median of the outputs. "
   ]
  },
  {
   "cell_type": "code",
   "execution_count": 9,
   "metadata": {},
   "outputs": [],
   "source": [
    "grouped_id = df.groupby(\"id\")\n",
    "group_median = (\n",
    "    df.groupby(\"id\")[\"choice_number\"].median().reset_index(name=\"median_choice_number\")\n",
    ")\n",
    "df = df.merge(group_median, on=\"id\")"
   ]
  },
  {
   "attachments": {},
   "cell_type": "markdown",
   "metadata": {},
   "source": [
    "## attempt 1: just see how many perfect matches"
   ]
  },
  {
   "cell_type": "code",
   "execution_count": 10,
   "metadata": {},
   "outputs": [
    {
     "data": {
      "text/html": [
       "<div>\n",
       "<style scoped>\n",
       "    .dataframe tbody tr th:only-of-type {\n",
       "        vertical-align: middle;\n",
       "    }\n",
       "\n",
       "    .dataframe tbody tr th {\n",
       "        vertical-align: top;\n",
       "    }\n",
       "\n",
       "    .dataframe thead th {\n",
       "        text-align: right;\n",
       "    }\n",
       "</style>\n",
       "<table border=\"1\" class=\"dataframe\">\n",
       "  <thead>\n",
       "    <tr style=\"text-align: right;\">\n",
       "      <th></th>\n",
       "      <th>mean</th>\n",
       "      <th>std</th>\n",
       "    </tr>\n",
       "    <tr>\n",
       "      <th>agent_id</th>\n",
       "      <th></th>\n",
       "      <th></th>\n",
       "    </tr>\n",
       "  </thead>\n",
       "  <tbody>\n",
       "    <tr>\n",
       "      <th>56ee521a65ca4d000cc39e55</th>\n",
       "      <td>0.500000</td>\n",
       "      <td>0.707107</td>\n",
       "    </tr>\n",
       "    <tr>\n",
       "      <th>5716afefc5aca2000a8d4546</th>\n",
       "      <td>1.000000</td>\n",
       "      <td>NaN</td>\n",
       "    </tr>\n",
       "    <tr>\n",
       "      <th>5b33034d975e260001e981c9</th>\n",
       "      <td>0.250000</td>\n",
       "      <td>0.500000</td>\n",
       "    </tr>\n",
       "    <tr>\n",
       "      <th>5b666901f7798c000182c01c</th>\n",
       "      <td>0.000000</td>\n",
       "      <td>0.000000</td>\n",
       "    </tr>\n",
       "    <tr>\n",
       "      <th>5c3820ee1ede2b0001155929</th>\n",
       "      <td>0.500000</td>\n",
       "      <td>0.707107</td>\n",
       "    </tr>\n",
       "    <tr>\n",
       "      <th>5dea10b4446c9012dc5e3fe3</th>\n",
       "      <td>0.500000</td>\n",
       "      <td>0.707107</td>\n",
       "    </tr>\n",
       "    <tr>\n",
       "      <th>5e6b034bffc1a90c3fe8c234</th>\n",
       "      <td>0.000000</td>\n",
       "      <td>0.000000</td>\n",
       "    </tr>\n",
       "    <tr>\n",
       "      <th>5ed696d2449ef00dbdce0178</th>\n",
       "      <td>0.333333</td>\n",
       "      <td>0.577350</td>\n",
       "    </tr>\n",
       "    <tr>\n",
       "      <th>5eda5c5faf7c7f08a2f68cb7</th>\n",
       "      <td>0.750000</td>\n",
       "      <td>0.500000</td>\n",
       "    </tr>\n",
       "    <tr>\n",
       "      <th>5f01230b4f8dff26fad883d2</th>\n",
       "      <td>0.000000</td>\n",
       "      <td>NaN</td>\n",
       "    </tr>\n",
       "    <tr>\n",
       "      <th>5f07e040943fa520130a9f9b</th>\n",
       "      <td>0.000000</td>\n",
       "      <td>0.000000</td>\n",
       "    </tr>\n",
       "    <tr>\n",
       "      <th>5f6592b0534630116af73d11</th>\n",
       "      <td>0.000000</td>\n",
       "      <td>0.000000</td>\n",
       "    </tr>\n",
       "    <tr>\n",
       "      <th>60fdaef9697a239debe0fdc7</th>\n",
       "      <td>0.000000</td>\n",
       "      <td>NaN</td>\n",
       "    </tr>\n",
       "    <tr>\n",
       "      <th>60ff830d7a7cce48e1787ba2</th>\n",
       "      <td>0.000000</td>\n",
       "      <td>0.000000</td>\n",
       "    </tr>\n",
       "    <tr>\n",
       "      <th>614f6ee64db7dc70a6822753</th>\n",
       "      <td>0.333333</td>\n",
       "      <td>0.577350</td>\n",
       "    </tr>\n",
       "    <tr>\n",
       "      <th>627f0b3c5f54598f7d496fb3</th>\n",
       "      <td>0.000000</td>\n",
       "      <td>NaN</td>\n",
       "    </tr>\n",
       "    <tr>\n",
       "      <th>62e405958a2c7c7e7f98e8fd</th>\n",
       "      <td>1.000000</td>\n",
       "      <td>NaN</td>\n",
       "    </tr>\n",
       "    <tr>\n",
       "      <th>63be6aae1b65a42e794770ee</th>\n",
       "      <td>0.333333</td>\n",
       "      <td>0.577350</td>\n",
       "    </tr>\n",
       "    <tr>\n",
       "      <th>63ea55fe1aee6acc422270f0</th>\n",
       "      <td>0.000000</td>\n",
       "      <td>NaN</td>\n",
       "    </tr>\n",
       "    <tr>\n",
       "      <th>63f02c686a43074bf1a16dc8</th>\n",
       "      <td>0.500000</td>\n",
       "      <td>0.707107</td>\n",
       "    </tr>\n",
       "    <tr>\n",
       "      <th>6449c06515cda31d2f043b42</th>\n",
       "      <td>0.500000</td>\n",
       "      <td>0.707107</td>\n",
       "    </tr>\n",
       "    <tr>\n",
       "      <th>6455b4121cd3166666ae1fdd</th>\n",
       "      <td>0.250000</td>\n",
       "      <td>0.500000</td>\n",
       "    </tr>\n",
       "    <tr>\n",
       "      <th>648247f1a39f941af3429342</th>\n",
       "      <td>0.500000</td>\n",
       "      <td>0.707107</td>\n",
       "    </tr>\n",
       "  </tbody>\n",
       "</table>\n",
       "</div>"
      ],
      "text/plain": [
       "                              mean       std\n",
       "agent_id                                    \n",
       "56ee521a65ca4d000cc39e55  0.500000  0.707107\n",
       "5716afefc5aca2000a8d4546  1.000000       NaN\n",
       "5b33034d975e260001e981c9  0.250000  0.500000\n",
       "5b666901f7798c000182c01c  0.000000  0.000000\n",
       "5c3820ee1ede2b0001155929  0.500000  0.707107\n",
       "5dea10b4446c9012dc5e3fe3  0.500000  0.707107\n",
       "5e6b034bffc1a90c3fe8c234  0.000000  0.000000\n",
       "5ed696d2449ef00dbdce0178  0.333333  0.577350\n",
       "5eda5c5faf7c7f08a2f68cb7  0.750000  0.500000\n",
       "5f01230b4f8dff26fad883d2  0.000000       NaN\n",
       "5f07e040943fa520130a9f9b  0.000000  0.000000\n",
       "5f6592b0534630116af73d11  0.000000  0.000000\n",
       "60fdaef9697a239debe0fdc7  0.000000       NaN\n",
       "60ff830d7a7cce48e1787ba2  0.000000  0.000000\n",
       "614f6ee64db7dc70a6822753  0.333333  0.577350\n",
       "627f0b3c5f54598f7d496fb3  0.000000       NaN\n",
       "62e405958a2c7c7e7f98e8fd  1.000000       NaN\n",
       "63be6aae1b65a42e794770ee  0.333333  0.577350\n",
       "63ea55fe1aee6acc422270f0  0.000000       NaN\n",
       "63f02c686a43074bf1a16dc8  0.500000  0.707107\n",
       "6449c06515cda31d2f043b42  0.500000  0.707107\n",
       "6455b4121cd3166666ae1fdd  0.250000  0.500000\n",
       "648247f1a39f941af3429342  0.500000  0.707107"
      ]
     },
     "execution_count": 10,
     "metadata": {},
     "output_type": "execute_result"
    }
   ],
   "source": [
    "df[\"choice_match\"] = df[\"median_choice_number\"] == df[\"correct_choice\"]\n",
    "df.groupby(\"agent_id\")[\"choice_match\"].agg([\"mean\", \"std\"])"
   ]
  },
  {
   "cell_type": "code",
   "execution_count": 11,
   "metadata": {},
   "outputs": [
    {
     "data": {
      "text/plain": [
       "0.32"
      ]
     },
     "execution_count": 11,
     "metadata": {},
     "output_type": "execute_result"
    }
   ],
   "source": [
    "df[\"choice_match\"].mean()"
   ]
  },
  {
   "attachments": {},
   "cell_type": "markdown",
   "metadata": {},
   "source": [
    "Random guessing would be 25%. "
   ]
  },
  {
   "attachments": {},
   "cell_type": "markdown",
   "metadata": {},
   "source": [
    "## attempt 2: compute distance"
   ]
  },
  {
   "cell_type": "code",
   "execution_count": 92,
   "metadata": {},
   "outputs": [],
   "source": [
    "df[\"choice_dist\"] = abs(df[\"median_choice_number\"] - df[\"correct_choice\"])"
   ]
  },
  {
   "cell_type": "code",
   "execution_count": 93,
   "metadata": {},
   "outputs": [
    {
     "data": {
      "text/html": [
       "<div>\n",
       "<style scoped>\n",
       "    .dataframe tbody tr th:only-of-type {\n",
       "        vertical-align: middle;\n",
       "    }\n",
       "\n",
       "    .dataframe tbody tr th {\n",
       "        vertical-align: top;\n",
       "    }\n",
       "\n",
       "    .dataframe thead th {\n",
       "        text-align: right;\n",
       "    }\n",
       "</style>\n",
       "<table border=\"1\" class=\"dataframe\">\n",
       "  <thead>\n",
       "    <tr style=\"text-align: right;\">\n",
       "      <th></th>\n",
       "      <th>mean</th>\n",
       "      <th>std</th>\n",
       "    </tr>\n",
       "    <tr>\n",
       "      <th>agent_id</th>\n",
       "      <th></th>\n",
       "      <th></th>\n",
       "    </tr>\n",
       "  </thead>\n",
       "  <tbody>\n",
       "    <tr>\n",
       "      <th>56ee521a65ca4d000cc39e55</th>\n",
       "      <td>1.000000</td>\n",
       "      <td>NaN</td>\n",
       "    </tr>\n",
       "    <tr>\n",
       "      <th>5716afefc5aca2000a8d4546</th>\n",
       "      <td>0.000000</td>\n",
       "      <td>0.000000</td>\n",
       "    </tr>\n",
       "    <tr>\n",
       "      <th>5b33034d975e260001e981c9</th>\n",
       "      <td>0.000000</td>\n",
       "      <td>0.000000</td>\n",
       "    </tr>\n",
       "    <tr>\n",
       "      <th>5b666901f7798c000182c01c</th>\n",
       "      <td>0.000000</td>\n",
       "      <td>NaN</td>\n",
       "    </tr>\n",
       "    <tr>\n",
       "      <th>5c3820ee1ede2b0001155929</th>\n",
       "      <td>0.333333</td>\n",
       "      <td>0.577350</td>\n",
       "    </tr>\n",
       "    <tr>\n",
       "      <th>5dea10b4446c9012dc5e3fe3</th>\n",
       "      <td>0.500000</td>\n",
       "      <td>0.707107</td>\n",
       "    </tr>\n",
       "    <tr>\n",
       "      <th>5e6b034bffc1a90c3fe8c234</th>\n",
       "      <td>2.000000</td>\n",
       "      <td>1.414214</td>\n",
       "    </tr>\n",
       "    <tr>\n",
       "      <th>5ed696d2449ef00dbdce0178</th>\n",
       "      <td>1.000000</td>\n",
       "      <td>1.000000</td>\n",
       "    </tr>\n",
       "    <tr>\n",
       "      <th>5eda5c5faf7c7f08a2f68cb7</th>\n",
       "      <td>1.000000</td>\n",
       "      <td>1.154701</td>\n",
       "    </tr>\n",
       "    <tr>\n",
       "      <th>5f07e040943fa520130a9f9b</th>\n",
       "      <td>2.000000</td>\n",
       "      <td>NaN</td>\n",
       "    </tr>\n",
       "    <tr>\n",
       "      <th>5f6592b0534630116af73d11</th>\n",
       "      <td>1.000000</td>\n",
       "      <td>NaN</td>\n",
       "    </tr>\n",
       "    <tr>\n",
       "      <th>60fdaef9697a239debe0fdc7</th>\n",
       "      <td>0.500000</td>\n",
       "      <td>0.707107</td>\n",
       "    </tr>\n",
       "    <tr>\n",
       "      <th>60ff830d7a7cce48e1787ba2</th>\n",
       "      <td>1.000000</td>\n",
       "      <td>0.000000</td>\n",
       "    </tr>\n",
       "    <tr>\n",
       "      <th>627f0b3c5f54598f7d496fb3</th>\n",
       "      <td>0.750000</td>\n",
       "      <td>0.957427</td>\n",
       "    </tr>\n",
       "    <tr>\n",
       "      <th>62d76226d4848594e77ef056</th>\n",
       "      <td>1.333333</td>\n",
       "      <td>2.309401</td>\n",
       "    </tr>\n",
       "    <tr>\n",
       "      <th>62e405958a2c7c7e7f98e8fd</th>\n",
       "      <td>0.000000</td>\n",
       "      <td>0.000000</td>\n",
       "    </tr>\n",
       "    <tr>\n",
       "      <th>63be6aae1b65a42e794770ee</th>\n",
       "      <td>1.000000</td>\n",
       "      <td>NaN</td>\n",
       "    </tr>\n",
       "    <tr>\n",
       "      <th>63ea55fe1aee6acc422270f0</th>\n",
       "      <td>1.333333</td>\n",
       "      <td>0.577350</td>\n",
       "    </tr>\n",
       "    <tr>\n",
       "      <th>63f02c686a43074bf1a16dc8</th>\n",
       "      <td>1.000000</td>\n",
       "      <td>0.000000</td>\n",
       "    </tr>\n",
       "    <tr>\n",
       "      <th>6449c06515cda31d2f043b42</th>\n",
       "      <td>1.250000</td>\n",
       "      <td>0.500000</td>\n",
       "    </tr>\n",
       "    <tr>\n",
       "      <th>6455b4121cd3166666ae1fdd</th>\n",
       "      <td>0.666667</td>\n",
       "      <td>0.577350</td>\n",
       "    </tr>\n",
       "    <tr>\n",
       "      <th>648247f1a39f941af3429342</th>\n",
       "      <td>1.000000</td>\n",
       "      <td>NaN</td>\n",
       "    </tr>\n",
       "  </tbody>\n",
       "</table>\n",
       "</div>"
      ],
      "text/plain": [
       "                              mean       std\n",
       "agent_id                                    \n",
       "56ee521a65ca4d000cc39e55  1.000000       NaN\n",
       "5716afefc5aca2000a8d4546  0.000000  0.000000\n",
       "5b33034d975e260001e981c9  0.000000  0.000000\n",
       "5b666901f7798c000182c01c  0.000000       NaN\n",
       "5c3820ee1ede2b0001155929  0.333333  0.577350\n",
       "5dea10b4446c9012dc5e3fe3  0.500000  0.707107\n",
       "5e6b034bffc1a90c3fe8c234  2.000000  1.414214\n",
       "5ed696d2449ef00dbdce0178  1.000000  1.000000\n",
       "5eda5c5faf7c7f08a2f68cb7  1.000000  1.154701\n",
       "5f07e040943fa520130a9f9b  2.000000       NaN\n",
       "5f6592b0534630116af73d11  1.000000       NaN\n",
       "60fdaef9697a239debe0fdc7  0.500000  0.707107\n",
       "60ff830d7a7cce48e1787ba2  1.000000  0.000000\n",
       "627f0b3c5f54598f7d496fb3  0.750000  0.957427\n",
       "62d76226d4848594e77ef056  1.333333  2.309401\n",
       "62e405958a2c7c7e7f98e8fd  0.000000  0.000000\n",
       "63be6aae1b65a42e794770ee  1.000000       NaN\n",
       "63ea55fe1aee6acc422270f0  1.333333  0.577350\n",
       "63f02c686a43074bf1a16dc8  1.000000  0.000000\n",
       "6449c06515cda31d2f043b42  1.250000  0.500000\n",
       "6455b4121cd3166666ae1fdd  0.666667  0.577350\n",
       "648247f1a39f941af3429342  1.000000       NaN"
      ]
     },
     "execution_count": 93,
     "metadata": {},
     "output_type": "execute_result"
    }
   ],
   "source": [
    "df.groupby(\"agent_id\")[\"choice_dist\"].agg([\"mean\", \"std\"])"
   ]
  },
  {
   "attachments": {},
   "cell_type": "markdown",
   "metadata": {},
   "source": [
    "If it was guessing randomly, and if the options were equally likely, then the mean choice distance would be \n",
    "- If truth is 1: avg choice dist 1.5=(0+1+2+3)/4\n",
    "- If truth is 2: avg choice dist 1 = (1+0+1+2)/4\n",
    "- Same for 3,4 \n",
    "\n",
    "**=> MEAN CHOICE DISTANCE WOULD BE 1.25 if guessing randomly**"
   ]
  },
  {
   "cell_type": "code",
   "execution_count": 94,
   "metadata": {},
   "outputs": [
    {
     "data": {
      "text/plain": [
       "0.84"
      ]
     },
     "execution_count": 94,
     "metadata": {},
     "output_type": "execute_result"
    }
   ],
   "source": [
    "df[\"choice_dist\"].mean()"
   ]
  },
  {
   "cell_type": "code",
   "execution_count": 95,
   "metadata": {},
   "outputs": [],
   "source": [
    "choice_to_freq = (\n",
    "    df[\"correct_choice\"].value_counts() / len(df[\"correct_choice\"])\n",
    ").to_dict()\n",
    "for choice in [1, 2, 3, 4]:\n",
    "    if choice not in choice_to_freq:\n",
    "        choice_to_freq[choice] = 0\n",
    "choice_to_freq\n",
    "choice_to_expected_dist = {1: 1.5, 2: 1, 3: 1, 4: 1.5}"
   ]
  },
  {
   "attachments": {},
   "cell_type": "markdown",
   "metadata": {},
   "source": [
    "Here is the expected distance from guessing randomly, using the correct priors:"
   ]
  },
  {
   "cell_type": "code",
   "execution_count": 96,
   "metadata": {},
   "outputs": [
    {
     "data": {
      "text/plain": [
       "1.1300000000000001"
      ]
     },
     "execution_count": 96,
     "metadata": {},
     "output_type": "execute_result"
    }
   ],
   "source": [
    "expected_dist = sum(\n",
    "    [\n",
    "        choice_to_freq[choice] * choice_to_expected_dist[choice]\n",
    "        for choice in [1, 2, 3, 4]\n",
    "    ]\n",
    ")\n",
    "expected_dist"
   ]
  },
  {
   "attachments": {},
   "cell_type": "markdown",
   "metadata": {},
   "source": [
    "## todo: paul wants a heat map of \"truth\" vs \"actual\""
   ]
  },
  {
   "cell_type": "code",
   "execution_count": 97,
   "metadata": {},
   "outputs": [],
   "source": [
    "import pandas as pd\n",
    "import seaborn as sns\n",
    "import matplotlib.pyplot as plt"
   ]
  },
  {
   "cell_type": "code",
   "execution_count": 102,
   "metadata": {},
   "outputs": [],
   "source": [
    "freq_table = pd.crosstab(index=df[\"correct_choice\"], columns=df[\"median_choice_number\"])\n",
    "desired_labels = sorted(df[\"correct_choice\"].unique())\n",
    "freq_table = freq_table.reindex(columns=desired_labels, fill_value=0)\n",
    "freq_table = freq_table.sort_index()"
   ]
  },
  {
   "attachments": {},
   "cell_type": "markdown",
   "metadata": {},
   "source": [
    "Raw heatmap"
   ]
  },
  {
   "cell_type": "code",
   "execution_count": 103,
   "metadata": {},
   "outputs": [
    {
     "data": {
      "image/png": "[encoded data removed]",
      "text/plain": [
       "<Figure size 1000x800 with 2 Axes>"
      ]
     },
     "metadata": {},
     "output_type": "display_data"
    }
   ],
   "source": [
    "plt.figure(figsize=(10, 8))\n",
    "sns.heatmap(freq_table, annot=True, fmt=\"d\", cmap=\"Greys\")\n",
    "plt.xlabel(\"LLM Choice\")\n",
    "plt.ylabel(\"Correct Choice\")\n",
    "plt.title(f\"Frequency of LLM guessing approval levels ({model})\")\n",
    "plt.show()"
   ]
  },
  {
   "attachments": {},
   "cell_type": "markdown",
   "metadata": {},
   "source": [
    "Normalized heatmap"
   ]
  },
  {
   "cell_type": "code",
   "execution_count": 104,
   "metadata": {},
   "outputs": [
    {
     "data": {
      "image/png": "[encoded data removed]",
      "text/plain": [
       "<Figure size 1000x800 with 2 Axes>"
      ]
     },
     "metadata": {},
     "output_type": "display_data"
    }
   ],
   "source": [
    "# row-normalize table\n",
    "norm_table = (freq_table.T / freq_table.sum(axis=1)).T\n",
    "\n",
    "plt.figure(figsize=(10, 8))\n",
    "sns.heatmap(norm_table, annot=True, fmt=\".4f\", cmap=\"Greys\")\n",
    "plt.xlabel(\"LLM Choice\")\n",
    "plt.ylabel(\"Correct Choice\")\n",
    "plt.title(f\"Frequency of LLM guessing approval levels ({model})\")\n",
    "plt.show()"
   ]
  },
  {
   "cell_type": "code",
   "execution_count": null,
   "metadata": {},
   "outputs": [],
   "source": []
  },
  {
   "cell_type": "code",
   "execution_count": null,
   "metadata": {},
   "outputs": [],
   "source": []
  },
  {
   "cell_type": "code",
   "execution_count": null,
   "metadata": {},
   "outputs": [],
   "source": []
  }
 ],
 "metadata": {
  "kernelspec": {
   "display_name": "Python 3",
   "language": "python",
   "name": "python3"
  },
  "language_info": {
   "codemirror_mode": {
    "name": "ipython",
    "version": 3
   },
   "file_extension": ".py",
   "mimetype": "text/x-python",
   "name": "python",
   "nbconvert_exporter": "python",
   "pygments_lexer": "ipython3",
   "version": "3.10.12"
  },
  "orig_nbformat": 4
 },
 "nbformat": 4,
 "nbformat_minor": 2
}
