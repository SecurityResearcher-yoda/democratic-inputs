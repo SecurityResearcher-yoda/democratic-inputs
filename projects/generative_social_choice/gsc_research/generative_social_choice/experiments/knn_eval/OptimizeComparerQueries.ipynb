{
 "cells": [
  {
   "cell_type": "code",
   "execution_count": 1,
   "metadata": {
    "collapsed": true,
    "ExecuteTime": {
     "end_time": "2023-10-01T21:49:40.618808Z",
     "start_time": "2023-10-01T21:49:40.616613Z"
    }
   },
   "outputs": [
    {
     "name": "stdout",
     "output_type": "stream",
     "text": [
      "h\n"
     ]
    }
   ],
   "source": [
    "print('h')"
   ]
  },
  {
   "cell_type": "code",
   "execution_count": 1,
   "outputs": [
    {
     "ename": "ModuleNotFoundError",
     "evalue": "No module named 'generative_social_choice'",
     "output_type": "error",
     "traceback": [
      "\u001B[0;31m---------------------------------------------------------------------------\u001B[0m",
      "\u001B[0;31mModuleNotFoundError\u001B[0m                       Traceback (most recent call last)",
      "Cell \u001B[0;32mIn[1], line 1\u001B[0m\n\u001B[0;32m----> 1\u001B[0m \u001B[38;5;28;01mfrom\u001B[39;00m \u001B[38;5;21;01mgenerative_social_choice\u001B[39;00m\u001B[38;5;21;01m.\u001B[39;00m\u001B[38;5;21;01mobjects\u001B[39;00m\u001B[38;5;21;01m.\u001B[39;00m\u001B[38;5;21;01mcomparers\u001B[39;00m \u001B[38;5;28;01mimport\u001B[39;00m BasicComparer\n\u001B[1;32m      2\u001B[0m \u001B[38;5;28;01mfrom\u001B[39;00m \u001B[38;5;21;01mutils\u001B[39;00m\u001B[38;5;21;01m.\u001B[39;00m\u001B[38;5;21;01mgpt_wrapper\u001B[39;00m \u001B[38;5;28;01mimport\u001B[39;00m  prompt_gpt\n\u001B[1;32m      3\u001B[0m \u001B[38;5;28;01mfrom\u001B[39;00m \u001B[38;5;21;01mtqdm\u001B[39;00m \u001B[38;5;28;01mimport\u001B[39;00m tqdm\n",
      "\u001B[0;31mModuleNotFoundError\u001B[0m: No module named 'generative_social_choice'"
     ]
    }
   ],
   "source": [
    "from generative_social_choice.objects.comparers import BasicComparer\n",
    "from utils.gpt_wrapper import  prompt_gpt\n",
    "from tqdm import tqdm\n",
    "import pandas as pd\n",
    "import random\n",
    "import itertools\n",
    "\n",
    "from datasets import load_dataset\n"
   ],
   "metadata": {
    "collapsed": false,
    "ExecuteTime": {
     "end_time": "2023-10-05T16:07:29.469564Z",
     "start_time": "2023-10-05T16:07:29.460668Z"
    }
   }
  },
  {
   "cell_type": "code",
   "execution_count": null,
   "outputs": [],
   "source": [
    "!pip install datasets"
   ],
   "metadata": {
    "collapsed": false
   }
  },
  {
   "cell_type": "code",
   "execution_count": 3,
   "outputs": [],
   "source": [],
   "metadata": {
    "collapsed": false,
    "ExecuteTime": {
     "end_time": "2023-10-01T21:49:41.607241Z",
     "start_time": "2023-10-01T21:49:41.372202Z"
    }
   }
  },
  {
   "cell_type": "code",
   "execution_count": 8,
   "outputs": [
    {
     "name": "stderr",
     "output_type": "stream",
     "text": [
      "Processing combinations: 100%|██████████| 27427674/27427674 [00:30<00:00, 890591.62it/s] \n"
     ]
    }
   ],
   "source": [
    "\n",
    "# Load dataset\n",
    "sts_dataset = load_dataset('stsb_multi_mt', 'en')\n",
    "\n",
    "# Filter out short sentences\n",
    "filtered_data = [entry for entry in sts_dataset['train'] if len(entry['sentence1']) >= 100 and len(entry['sentence2']) >= 100]\n",
    "\n",
    "# Create combinations\n",
    "combinations = list(itertools.combinations(filtered_data, 3))\n",
    "\n",
    "# Prepare data for DataFrame\n",
    "data_for_df = []\n",
    "\n",
    "for comb in tqdm(combinations, desc=\"Processing combinations\"):\n",
    "    center = comb[0]['sentence1']\n",
    "\n",
    "    # Randomly assign stmt_0 and stmt_1\n",
    "    if random.choice([True, False]):\n",
    "        stmt_0, stmt_1 = comb[1]['sentence1'], comb[2]['sentence1']\n",
    "        dist_0, dist_1 = 5 - comb[1]['similarity_score'], 5 - comb[2]['similarity_score']\n",
    "    else:\n",
    "        stmt_0, stmt_1 = comb[2]['sentence1'], comb[1]['sentence1']\n",
    "        dist_0, dist_1 = 5 - comb[2]['similarity_score'], 5 - comb[1]['similarity_score']\n",
    "\n",
    "    closest_index = 0 if dist_0 < dist_1 else 1\n",
    "\n",
    "    data_for_df.append([center, stmt_0, stmt_1, dist_0, dist_1, closest_index])\n",
    "\n",
    "\n",
    "# Convert to DataFrame\n",
    "df = pd.DataFrame(data_for_df, columns=['statement_center', 'statement_0', 'statement_1', 'dist_center_0', 'dist_center_1', 'inx_closes'])\n"
   ],
   "metadata": {
    "collapsed": false,
    "ExecuteTime": {
     "end_time": "2023-10-01T21:51:41.483448Z",
     "start_time": "2023-10-01T21:50:55.450547Z"
    }
   }
  },
  {
   "cell_type": "code",
   "execution_count": 9,
   "outputs": [],
   "source": [
    "clean_data = df[\n",
    "    (df['dist_center_0'] < 0.2) & (df['dist_center_1'] <0.2) & (df['dist_center_0'] != df['dist_center_1'])\n",
    "    & (df['dist_center_0'] > 0.0) & (df['dist_center_1'] > 0.0)\n",
    "]"
   ],
   "metadata": {
    "collapsed": false,
    "ExecuteTime": {
     "end_time": "2023-10-01T21:51:41.707075Z",
     "start_time": "2023-10-01T21:51:41.487062Z"
    }
   }
  },
  {
   "cell_type": "code",
   "execution_count": 10,
   "outputs": [
    {
     "name": "stdout",
     "output_type": "stream",
     "text": [
      "(1210, 6)\n",
      "       dist_center_0  dist_center_1   inx_closes\n",
      "count    1210.000000    1210.000000  1210.000000\n",
      "mean        0.190866       0.191134     0.492562\n",
      "std         0.009003       0.009003     0.500151\n",
      "min         0.182000       0.182000     0.000000\n",
      "25%         0.182000       0.182000     0.000000\n",
      "50%         0.182000       0.200000     0.000000\n",
      "75%         0.200000       0.200000     1.000000\n",
      "max         0.200000       0.200000     1.000000\n"
     ]
    }
   ],
   "source": [
    "print(clean_data.shape)\n",
    "print(clean_data.describe())"
   ],
   "metadata": {
    "collapsed": false,
    "ExecuteTime": {
     "end_time": "2023-10-01T21:51:41.718031Z",
     "start_time": "2023-10-01T21:51:41.713304Z"
    }
   }
  },
  {
   "cell_type": "code",
   "execution_count": 22,
   "outputs": [],
   "source": [],
   "metadata": {
    "collapsed": false,
    "ExecuteTime": {
     "end_time": "2023-10-01T21:35:30.037728Z",
     "start_time": "2023-10-01T21:35:30.001793Z"
    }
   }
  },
  {
   "cell_type": "code",
   "execution_count": null,
   "outputs": [],
   "source": [
    "## Test"
   ],
   "metadata": {
    "collapsed": false
   }
  },
  {
   "cell_type": "code",
   "execution_count": 21,
   "outputs": [
    {
     "name": "stderr",
     "output_type": "stream",
     "text": [
      "Processing dataframe rows: 100%|██████████| 1210/1210 [8:28:44<00:00, 25.23s/it]     \n"
     ]
    }
   ],
   "source": [
    "\n",
    "comparer = BasicComparer(id=0, prompt_type=\"basic\")\n",
    "prompt_templates = comparer.prompt_templates\n",
    "\n",
    "# Storing the results\n",
    "results_data = []\n",
    "\n",
    "for index, row in tqdm(clean_data.iterrows(), desc=\"Processing dataframe rows\", total=clean_data.shape[0]):\n",
    "    for prompt_type, template in prompt_templates.items():\n",
    "        center_agent = row['statement_center']\n",
    "        agent0 = row['statement_0']\n",
    "        agent1 = row['statement_1']\n",
    "\n",
    "        prompt = template.format(center_agent_description=center_agent, other_agents_description=f\"agent0: {agent0}  \\n agent1: {agent1}\")\n",
    "\n",
    "        response = prompt_gpt(model='gpt-4', prompt=prompt)\n",
    "\n",
    "        # Check if the response is \"correct\"\n",
    "        try:\n",
    "            response_int = int(response)\n",
    "            correct = 1 if response_int == row['inx_closes'] else 0\n",
    "        except ValueError:\n",
    "            correct = 0\n",
    "\n",
    "        # Append to results\n",
    "        results_data.append([prompt_type, response, center_agent, agent0, agent1, row['dist_center_0'], row['dist_center_1'], row['inx_closes'], correct])\n",
    "\n",
    "    # Save results every n iterations\n",
    "    n = 20\n",
    "    if (index + 1) % n == 0:\n",
    "        # Create a temporary dataframe and save\n",
    "        temp_df = pd.DataFrame(results_data, columns=['prompt_type', 'response', 'statement_center', 'statement_0', 'statement_1', 'dist_center_0', 'dist_center_1', 'inx_closes', 'correct'])\n",
    "        temp_df.to_csv('results.csv', index=False)\n",
    "\n",
    "# After the loop, save the complete results (in case the total number of iterations is not a multiple of 100)\n",
    "results_df = pd.DataFrame(results_data, columns=['prompt_type', 'response', 'statement_center', 'statement_0', 'statement_1', 'dist_center_0', 'dist_center_1', 'inx_closes', 'correct'])\n",
    "results_df.to_csv('results.csv', index=False)"
   ],
   "metadata": {
    "collapsed": false,
    "ExecuteTime": {
     "end_time": "2023-10-02T06:31:00.144421Z",
     "start_time": "2023-10-01T22:02:15.342053Z"
    }
   }
  },
  {
   "cell_type": "code",
   "execution_count": 27,
   "outputs": [
    {
     "data": {
      "text/plain": "prompt_type\nCoT               0.099174\nbasic             0.236364\nfew_shot          0.357025\nCoT_w_few_shot    0.383471\nName: correct, dtype: float64"
     },
     "execution_count": 27,
     "metadata": {},
     "output_type": "execute_result"
    }
   ],
   "source": [],
   "metadata": {
    "collapsed": false,
    "ExecuteTime": {
     "end_time": "2023-10-02T14:57:02.049557Z",
     "start_time": "2023-10-02T14:57:02.045521Z"
    }
   }
  },
  {
   "cell_type": "code",
   "execution_count": 96,
   "outputs": [],
   "source": [
    "def extract_response(row):\n",
    "    try:\n",
    "        # Try to convert the entire response to an int\n",
    "        return int(row['response'])\n",
    "    except ValueError:\n",
    "        # If that fails, try the last 3 chars with specified replacements\n",
    "        try:\n",
    "            cleaned_response = row['response'][-3:].replace('.', '').replace(' ', '').replace('\"', '')\n",
    "            return int(cleaned_response)\n",
    "        except:\n",
    "            return row['response']\n",
    "\n",
    "results_df['extracted_response'] = results_df.apply(extract_response, axis=1)\n",
    "results_df['correct'] = (results_df['extracted_response'] == results_df['inx_closes']).astype(int)"
   ],
   "metadata": {
    "collapsed": false,
    "ExecuteTime": {
     "end_time": "2023-10-02T15:28:15.597055Z",
     "start_time": "2023-10-02T15:28:15.551Z"
    }
   }
  },
  {
   "cell_type": "code",
   "execution_count": 98,
   "outputs": [
    {
     "data": {
      "text/plain": "prompt_type\nCoT               0.285950\nbasic             0.347107\nfew_shot          0.403306\nCoT_w_few_shot    0.440496\nName: correct, dtype: float64"
     },
     "execution_count": 98,
     "metadata": {},
     "output_type": "execute_result"
    }
   ],
   "source": [
    "results_df.groupby('prompt_type').correct.mean().sort_values()"
   ],
   "metadata": {
    "collapsed": false,
    "ExecuteTime": {
     "end_time": "2023-10-02T15:28:35.109527Z",
     "start_time": "2023-10-02T15:28:35.103504Z"
    }
   }
  },
  {
   "cell_type": "code",
   "execution_count": 100,
   "outputs": [],
   "source": [
    "results_df.to_csv('comparer_res.csv', index=False)"
   ],
   "metadata": {
    "collapsed": false,
    "ExecuteTime": {
     "end_time": "2023-10-02T15:29:43.951266Z",
     "start_time": "2023-10-02T15:29:43.895957Z"
    }
   }
  },
  {
   "cell_type": "code",
   "execution_count": 111,
   "outputs": [],
   "source": [
    "# Define a function to check if a group has at least one integer in 'extracted_response'\n",
    "def has_integer(group):\n",
    "    return group['extracted_response'].apply(lambda x: isinstance(x, int)).any()\n",
    "\n",
    "# Filter groups using the function\n",
    "filtered_groups = results_df.groupby(['statement_center', 'statement_0', 'statement_1']).filter(has_integer)\n",
    "\n",
    "# This filtered_groups dataframe now contains only those groups where at least one row has an integer 'extracted_response'"
   ],
   "metadata": {
    "collapsed": false,
    "ExecuteTime": {
     "end_time": "2023-10-02T15:38:35.775593Z",
     "start_time": "2023-10-02T15:38:35.661388Z"
    }
   }
  },
  {
   "cell_type": "code",
   "execution_count": 114,
   "outputs": [
    {
     "name": "stdout",
     "output_type": "stream",
     "text": [
      "prompt_type\n",
      "CoT               0.296741\n",
      "basic             0.360206\n",
      "few_shot          0.418525\n",
      "CoT_w_few_shot    0.457118\n",
      "Name: correct, dtype: float64\n"
     ]
    }
   ],
   "source": [
    "sorted_means = filtered_groups.groupby('prompt_type').correct.mean().sort_values()\n",
    "\n",
    "print(sorted_means)"
   ],
   "metadata": {
    "collapsed": false,
    "ExecuteTime": {
     "end_time": "2023-10-02T15:38:58.538728Z",
     "start_time": "2023-10-02T15:38:58.535586Z"
    }
   }
  },
  {
   "cell_type": "code",
   "execution_count": 124,
   "outputs": [
    {
     "name": "stdout",
     "output_type": "stream",
     "text": [
      "Neither of the provided opinions from agent0 and agent1 directly relate to the opinions of the Reference Person, which deal with a political situation in Myanmar. Both agents express opinions on different topics: agent0 on a workshop for anti-terrorism experts, and agent1 on contraction and expansion in the manufacturing sector.\n",
      "\n",
      "Thus, neither of the agents' opinions are particularly closer to the Reference Person, but as per the instructions, a best guess must be made, so let's choose:\n",
      "\n",
      "0\n"
     ]
    }
   ],
   "source": [
    "print(filtered_groups[filtered_groups.prompt_type == 'CoT'].response.iloc[6]\n",
    ")"
   ],
   "metadata": {
    "collapsed": false,
    "ExecuteTime": {
     "end_time": "2023-10-02T15:41:44.996364Z",
     "start_time": "2023-10-02T15:41:44.991127Z"
    }
   }
  },
  {
   "cell_type": "code",
   "execution_count": 123,
   "outputs": [
    {
     "data": {
      "text/plain": "prompt_type                                                         CoT\nresponse              Neither of the provided opinions from agent0 a...\nstatement_center      Myanmar's pro-democracy leader Aung San Suu Ky...\nstatement_0           the riyadh-based naif arab academy for securit...\nstatement_1           A number below 50 suggests contraction in the ...\ndist_center_0                                                       0.2\ndist_center_1                                                     0.182\ninx_closes                                                            1\ncorrect                                                               0\nextracted_response                                                    0\nName: 46, dtype: object"
     },
     "execution_count": 123,
     "metadata": {},
     "output_type": "execute_result"
    }
   ],
   "source": [
    "filtered_groups[filtered_groups.prompt_type == 'CoT'].iloc[6]"
   ],
   "metadata": {
    "collapsed": false,
    "ExecuteTime": {
     "end_time": "2023-10-02T15:41:20.017744Z",
     "start_time": "2023-10-02T15:41:20.006346Z"
    }
   }
  },
  {
   "cell_type": "code",
   "execution_count": null,
   "outputs": [],
   "source": [],
   "metadata": {
    "collapsed": false
   }
  }
 ],
 "metadata": {
  "kernelspec": {
   "display_name": "Python 3",
   "language": "python",
   "name": "python3"
  },
  "language_info": {
   "codemirror_mode": {
    "name": "ipython",
    "version": 2
   },
   "file_extension": ".py",
   "mimetype": "text/x-python",
   "name": "python",
   "nbconvert_exporter": "python",
   "pygments_lexer": "ipython2",
   "version": "2.7.6"
  }
 },
 "nbformat": 4,
 "nbformat_minor": 0
}
