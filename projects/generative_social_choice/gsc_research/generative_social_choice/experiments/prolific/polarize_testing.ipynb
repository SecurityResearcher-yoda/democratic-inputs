{
 "cells": [
  {
   "cell_type": "code",
   "execution_count": 1,
   "metadata": {},
   "outputs": [],
   "source": [
    "%load_ext autoreload \n",
    "%autoreload 2"
   ]
  },
  {
   "cell_type": "code",
   "execution_count": 36,
   "metadata": {},
   "outputs": [],
   "source": [
    "from generative_social_choice.datasets.datasets import get_dataset\n",
    "from generative_social_choice.objects.agents import MultiLevelAgent\n",
    "from generative_social_choice.objects.committee import generate_slate\n",
    "from generative_social_choice.objects.moderators import (\n",
    "    PolarizeModerator,\n",
    "    PolarizeGroupModerator,\n",
    ")"
   ]
  },
  {
   "cell_type": "code",
   "execution_count": 32,
   "metadata": {},
   "outputs": [],
   "source": [
    "dataset = get_dataset(\"prolific\")\n",
    "df = dataset.load()\n",
    "experiment_type_to_agent_ids = dataset.get_agent_ids()\n",
    "agent_ids = experiment_type_to_agent_ids[\"experiment1\"]\n",
    "agent_ids_to_comment = {\n",
    "    agent_id: dataset.get_transcript_from_agent_id(agent_id)[\n",
    "        dataset.get_transcript_from_agent_id(agent_id)[\"step\"] == 7\n",
    "    ][\"text\"].values[0]\n",
    "    for agent_id in agent_ids\n",
    "}\n",
    "approval_level = 4\n",
    "agents = [\n",
    "    MultiLevelAgent(\n",
    "        id=agent_id,\n",
    "        prompt_type=\"basic\",\n",
    "        approval_level=approval_level,\n",
    "        agent_opinion=comment,\n",
    "    )\n",
    "    for agent_id, comment in agent_ids_to_comment.items()\n",
    "]"
   ]
  },
  {
   "cell_type": "markdown",
   "metadata": {},
   "source": [
    "## polarize: ask it to generate statement, no groups"
   ]
  },
  {
   "cell_type": "code",
   "execution_count": 9,
   "metadata": {},
   "outputs": [],
   "source": [
    "moderator = PolarizeModerator(id=0, prompt_type=\"basic_cot\")"
   ]
  },
  {
   "cell_type": "code",
   "execution_count": 28,
   "metadata": {},
   "outputs": [],
   "source": [
    "query_output, full_output = moderator.find_polarizing_statement(agents=agents)"
   ]
  },
  {
   "cell_type": "code",
   "execution_count": 29,
   "metadata": {},
   "outputs": [
    {
     "data": {
      "text/plain": [
       "'Chatbots should be highly personalized to provide more accurate and efficient responses, but users must always have control over the level of personalization and data privacy.'"
      ]
     },
     "execution_count": 29,
     "metadata": {},
     "output_type": "execute_result"
    }
   ],
   "source": [
    "query_output"
   ]
  },
  {
   "cell_type": "code",
   "execution_count": 33,
   "metadata": {},
   "outputs": [],
   "source": [
    "agent_id_to_approval = dict()\n",
    "for agent in agents:\n",
    "    agent_id_to_approval[agent.id], _ = agent.get_approval(comment=query_output)"
   ]
  },
  {
   "cell_type": "code",
   "execution_count": 14,
   "metadata": {},
   "outputs": [
    {
     "data": {
      "text/plain": [
       "{'id': 0,\n",
       " 'prompt_type': 'basic_cot',\n",
       " 'prompt template': 'In a moment I will give you a list of opinions some people have expressed on a topic. Your task is to write a single statement which is as polarizing as possible. That is, about half of the people should strongly agree with the statement you write, and about half should strongly disagree with the statement you write. If you can\\'t split 50/50, splitting 70/30 is also OK, but really try to find a statement which splits the crowd relatively evenly.\\nNow here is the list of people and their opinions:\\n{agent_opinion_list}\\nThis concludes the list of people. Now complete the task. Your output should be a Python dictionary with key-val pairs:{{\"MY_EXPLANATION\" : <write your step by step explanation here>, \"MY_POLARIZING_STATEMENT\" : <your single statement with which half agree and half disagree>}}.',\n",
       " 'model': 'gpt-4-0314',\n",
       " 'subject': 'basic_cot',\n",
       " 'agent_opinion_list': \"- I believe chatbot should be personalized to give you the results you are looking for.  I think that the chatbot knowing your history will help it give you the best possible answers to your questions. It should be penalized as long as the user agrees with it.\\n- I believe the obvious next step in AI technology is personalization. It takes the service to the next level and makes it much more useful. I don't think it is a matter of if it is just a matter of when.\\n- I believe having personalized ChatGPT could be beneficial in many ways. You wouldn't have to tell it relevant information over and over again, it would just know. I also believe, however, that we are in the infancy stage of this technology. There are many things that we just don't know, and many consequences that we cannot predict. I think it is important to keep studying ChatGPT, and possibly make some regulations regarding it.\\n- I believe that a chatbot should be able to personalize responses to your questions or needs based on past conversations, information voluntarily provided or even by means of a profile you setup. If you had your own user account that you opted into, then it now becomes a choice wether or not the chatbot service uses a personalized approach. \\n- I think AI should be mildly personalized to give the users better responses, which would in turn, allow them to feel more comfortable asking the AI for answers to their day to day questions. While there are concerns about AI storing information, I believe there could be a way to store information for a user in cache and have it cleared monthly. This would solve some issues and uncomfortable feelings some users may have with using something like ChatGPT.\\n- ChatGPT can generate responses to prompts (a feature that could eventually challenge search engines) that are enough to become an essential tool for content generation, from writing essays to summarizing a book for you. The better the prompt, the better the response will be.\\n- I believe that chatbots should not be personalized. I would prefer to receive generic responses based on data and not have the chatbot try to learn my behaviors or personality. I feel that this could hinder the information given by the chatbot if it is too focused on trying to tailor information to you rather than just providing the information requested. \\n- I believe that chatbot should be personalized with only the information you are comfortable with sharing. It is useful to personalize certain things so that the answers are as relevant as possible to the questions asked. A relevant personalized topic would be like one of the previous promises about a disability; if rhe chatbot is aware you need disability accommodations the answers it gives will be more relevant.however, I believe you should have the option to disable personalization options or delete certain things.\\n- I think it would save time and be faster if it remembered you. I believe knowing your personal preferences would help when asking it questions. It would be more human like and you would not have to repeat yourself when talking to it.\\n- I think chatbots should atleast be a little personalized. I worry though about people becoming way too reliant on it though. Almost like it would be mind numbing and we couldnt think for ourselves. I feel like it would damage our brains if we have a chatbot thinking for us all the time.\\n- I think that ChatGPT should be personalized but in separate instances, similar to the way that it is now. If a new chat is created, ChatGPT should treat the user like a new person and should not factor in any past conversation. On the other hand, if I open a chat, type a prompt, and come back to that chat days later, ChatGPT should factor in the previous conversations.\\n- I believe that chat bots could be much more useful/helpful if they could personalize information. I hate reading non fiction, so I if I ask a chat bot for book recommendations and it gives me non fiction books, what use would that be? I can imagine talking to a bot that knows my likes and dislikes and it can give me information relevant to whatever I ask it. It doesn't necessarily have to be personalized with sensitive information to make it a lot more useful.\\n- Well for me not really because I always have an objective when using chatbots so I dont need it to know any previous entries. For the people who talk to it as if it were a person then yes I would say personalization would be beneficial. I would say there are more people that talk to it like a person then not so I would say it should become personalized but keep an option to not be also for people like me.\\n- I believe that chatbots such as ChatGPT should be personalized to a significant extent, but within clear ethical boundaries. Personalization is important because it enhances the user experience, making interactions more relevant and valuable to individual users. Understanding user preferences, context, and limitations allows chatbots to provide tailored recommendations and information, ultimately fulfilling the user's needs more effectively.\\r\\n\\r\\nHowever, it's crucial to strike a balance between personalization and privacy. Chatbots must respect user privacy, and users should have control over the extent of personalization. Transparent data handling practices, clear consent mechanisms, and robust data protection measures are essential to ensure user trust and data security. Striking this balance is crucial to harnessing the benefits of personalization while safeguarding user privacy and ethical considerations.\\n- I think it should be personalized in terms of languages and accents\\r\\n\\r\\nI believe that it is our responsibility to use it for good purposes\\n- I think it is important because it makes the user feel more personable and that it's actually listening. It cares about the person\\n- I believe that chatbots such as ChatGPT should be personalized to a reasonable extent. Personalization is important because it enhances the user experience by tailoring responses to individual preferences, needs, and contexts. Personalized chatbots can provide more relevant information and recommendations, making interactions more valuable and engaging for users.\\n- I believe that the capacity of chatbots to be personalized will allow them to remember our preferences for information.  At the very least, it should remember our previous dialogs, if only to prevent needless repetition.  I believe we should be able to control the level of personalization, much as we set security preferences in other online actions.\\n- I certainly think that someone who uses a chatbot for everyday things should definitely be personalized. It would make solutions to your problems more tailored to you. Alot of people have common thoughts on things but everyone is different in every way such as their mindset.\\n- Chatbots must provide relevant information to users. If they do not then they would not be a useful. And in some cases their suggestions would be dangerous so this is a must.\",\n",
       " 'prompt': 'In a moment I will give you a list of opinions some people have expressed on a topic. Your task is to write a single statement which is as polarizing as possible. That is, about half of the people should strongly agree with the statement you write, and about half should strongly disagree with the statement you write. If you can\\'t split 50/50, splitting 70/30 is also OK, but really try to find a statement which splits the crowd relatively evenly.\\nNow here is the list of people and their opinions:\\n- I believe chatbot should be personalized to give you the results you are looking for.  I think that the chatbot knowing your history will help it give you the best possible answers to your questions. It should be penalized as long as the user agrees with it.\\n- I believe the obvious next step in AI technology is personalization. It takes the service to the next level and makes it much more useful. I don\\'t think it is a matter of if it is just a matter of when.\\n- I believe having personalized ChatGPT could be beneficial in many ways. You wouldn\\'t have to tell it relevant information over and over again, it would just know. I also believe, however, that we are in the infancy stage of this technology. There are many things that we just don\\'t know, and many consequences that we cannot predict. I think it is important to keep studying ChatGPT, and possibly make some regulations regarding it.\\n- I believe that a chatbot should be able to personalize responses to your questions or needs based on past conversations, information voluntarily provided or even by means of a profile you setup. If you had your own user account that you opted into, then it now becomes a choice wether or not the chatbot service uses a personalized approach. \\n- I think AI should be mildly personalized to give the users better responses, which would in turn, allow them to feel more comfortable asking the AI for answers to their day to day questions. While there are concerns about AI storing information, I believe there could be a way to store information for a user in cache and have it cleared monthly. This would solve some issues and uncomfortable feelings some users may have with using something like ChatGPT.\\n- ChatGPT can generate responses to prompts (a feature that could eventually challenge search engines) that are enough to become an essential tool for content generation, from writing essays to summarizing a book for you. The better the prompt, the better the response will be.\\n- I believe that chatbots should not be personalized. I would prefer to receive generic responses based on data and not have the chatbot try to learn my behaviors or personality. I feel that this could hinder the information given by the chatbot if it is too focused on trying to tailor information to you rather than just providing the information requested. \\n- I believe that chatbot should be personalized with only the information you are comfortable with sharing. It is useful to personalize certain things so that the answers are as relevant as possible to the questions asked. A relevant personalized topic would be like one of the previous promises about a disability; if rhe chatbot is aware you need disability accommodations the answers it gives will be more relevant.however, I believe you should have the option to disable personalization options or delete certain things.\\n- I think it would save time and be faster if it remembered you. I believe knowing your personal preferences would help when asking it questions. It would be more human like and you would not have to repeat yourself when talking to it.\\n- I think chatbots should atleast be a little personalized. I worry though about people becoming way too reliant on it though. Almost like it would be mind numbing and we couldnt think for ourselves. I feel like it would damage our brains if we have a chatbot thinking for us all the time.\\n- I think that ChatGPT should be personalized but in separate instances, similar to the way that it is now. If a new chat is created, ChatGPT should treat the user like a new person and should not factor in any past conversation. On the other hand, if I open a chat, type a prompt, and come back to that chat days later, ChatGPT should factor in the previous conversations.\\n- I believe that chat bots could be much more useful/helpful if they could personalize information. I hate reading non fiction, so I if I ask a chat bot for book recommendations and it gives me non fiction books, what use would that be? I can imagine talking to a bot that knows my likes and dislikes and it can give me information relevant to whatever I ask it. It doesn\\'t necessarily have to be personalized with sensitive information to make it a lot more useful.\\n- Well for me not really because I always have an objective when using chatbots so I dont need it to know any previous entries. For the people who talk to it as if it were a person then yes I would say personalization would be beneficial. I would say there are more people that talk to it like a person then not so I would say it should become personalized but keep an option to not be also for people like me.\\n- I believe that chatbots such as ChatGPT should be personalized to a significant extent, but within clear ethical boundaries. Personalization is important because it enhances the user experience, making interactions more relevant and valuable to individual users. Understanding user preferences, context, and limitations allows chatbots to provide tailored recommendations and information, ultimately fulfilling the user\\'s needs more effectively.\\r\\n\\r\\nHowever, it\\'s crucial to strike a balance between personalization and privacy. Chatbots must respect user privacy, and users should have control over the extent of personalization. Transparent data handling practices, clear consent mechanisms, and robust data protection measures are essential to ensure user trust and data security. Striking this balance is crucial to harnessing the benefits of personalization while safeguarding user privacy and ethical considerations.\\n- I think it should be personalized in terms of languages and accents\\r\\n\\r\\nI believe that it is our responsibility to use it for good purposes\\n- I think it is important because it makes the user feel more personable and that it\\'s actually listening. It cares about the person\\n- I believe that chatbots such as ChatGPT should be personalized to a reasonable extent. Personalization is important because it enhances the user experience by tailoring responses to individual preferences, needs, and contexts. Personalized chatbots can provide more relevant information and recommendations, making interactions more valuable and engaging for users.\\n- I believe that the capacity of chatbots to be personalized will allow them to remember our preferences for information.  At the very least, it should remember our previous dialogs, if only to prevent needless repetition.  I believe we should be able to control the level of personalization, much as we set security preferences in other online actions.\\n- I certainly think that someone who uses a chatbot for everyday things should definitely be personalized. It would make solutions to your problems more tailored to you. Alot of people have common thoughts on things but everyone is different in every way such as their mindset.\\n- Chatbots must provide relevant information to users. If they do not then they would not be a useful. And in some cases their suggestions would be dangerous so this is a must.\\nThis concludes the list of people. Now complete the task. Your output should be a Python dictionary with key-val pairs:{\"MY_EXPLANATION\" : <write your step by step explanation here>, \"MY_POLARIZING_STATEMENT\" : <your single statement with which half agree and half disagree>}.',\n",
       " 'response': 'Chatbots should be fully personalized with user consent, maximizing their usefulness while implementing strict privacy protection measures.',\n",
       " 'full_response': '{\"MY_EXPLANATION\": \"I carefully analyzed the listed opinions of different people on the personalization of chatbots, and noticed that many people are in favor of personalization as long as there are clear ethical boundaries, user consent, and privacy protection mechanisms in place. Others were more skeptical about personalization or wanted limited personalization without compromising privacy. To create a polarizing statement, I formulated a phrase that might split the audience\\'s opinions, emphasizing personalization and its usefulness while acknowledging potential privacy concerns.\",\\n\\n\"MY_POLARIZING_STATEMENT\": \"Chatbots should be fully personalized with user consent, maximizing their usefulness while implementing strict privacy protection measures.\"}',\n",
       " 'MY_EXPLANATION': \"I carefully analyzed the listed opinions of different people on the personalization of chatbots, and noticed that many people are in favor of personalization as long as there are clear ethical boundaries, user consent, and privacy protection mechanisms in place. Others were more skeptical about personalization or wanted limited personalization without compromising privacy. To create a polarizing statement, I formulated a phrase that might split the audience's opinions, emphasizing personalization and its usefulness while acknowledging potential privacy concerns.\",\n",
       " 'MY_POLARIZING_STATEMENT': 'Chatbots should be fully personalized with user consent, maximizing their usefulness while implementing strict privacy protection measures.',\n",
       " 'time': '2023-09-23-20:00:21'}"
      ]
     },
     "execution_count": 14,
     "metadata": {},
     "output_type": "execute_result"
    }
   ],
   "source": [
    "full_output"
   ]
  },
  {
   "cell_type": "code",
   "execution_count": 15,
   "metadata": {},
   "outputs": [
    {
     "name": "stdout",
     "output_type": "stream",
     "text": [
      "- I believe chatbot should be personalized to give you the results you are looking for.  I think that the chatbot knowing your history will help it give you the best possible answers to your questions. It should be penalized as long as the user agrees with it.\n",
      "- I believe the obvious next step in AI technology is personalization. It takes the service to the next level and makes it much more useful. I don't think it is a matter of if it is just a matter of when.\n",
      "- I believe having personalized ChatGPT could be beneficial in many ways. You wouldn't have to tell it relevant information over and over again, it would just know. I also believe, however, that we are in the infancy stage of this technology. There are many things that we just don't know, and many consequences that we cannot predict. I think it is important to keep studying ChatGPT, and possibly make some regulations regarding it.\n",
      "- I believe that a chatbot should be able to personalize responses to your questions or needs based on past conversations, information voluntarily provided or even by means of a profile you setup. If you had your own user account that you opted into, then it now becomes a choice wether or not the chatbot service uses a personalized approach. \n",
      "- I think AI should be mildly personalized to give the users better responses, which would in turn, allow them to feel more comfortable asking the AI for answers to their day to day questions. While there are concerns about AI storing information, I believe there could be a way to store information for a user in cache and have it cleared monthly. This would solve some issues and uncomfortable feelings some users may have with using something like ChatGPT.\n",
      "- ChatGPT can generate responses to prompts (a feature that could eventually challenge search engines) that are enough to become an essential tool for content generation, from writing essays to summarizing a book for you. The better the prompt, the better the response will be.\n",
      "- I believe that chatbots should not be personalized. I would prefer to receive generic responses based on data and not have the chatbot try to learn my behaviors or personality. I feel that this could hinder the information given by the chatbot if it is too focused on trying to tailor information to you rather than just providing the information requested. \n",
      "- I believe that chatbot should be personalized with only the information you are comfortable with sharing. It is useful to personalize certain things so that the answers are as relevant as possible to the questions asked. A relevant personalized topic would be like one of the previous promises about a disability; if rhe chatbot is aware you need disability accommodations the answers it gives will be more relevant.however, I believe you should have the option to disable personalization options or delete certain things.\n",
      "- I think it would save time and be faster if it remembered you. I believe knowing your personal preferences would help when asking it questions. It would be more human like and you would not have to repeat yourself when talking to it.\n",
      "- I think chatbots should atleast be a little personalized. I worry though about people becoming way too reliant on it though. Almost like it would be mind numbing and we couldnt think for ourselves. I feel like it would damage our brains if we have a chatbot thinking for us all the time.\n",
      "- I think that ChatGPT should be personalized but in separate instances, similar to the way that it is now. If a new chat is created, ChatGPT should treat the user like a new person and should not factor in any past conversation. On the other hand, if I open a chat, type a prompt, and come back to that chat days later, ChatGPT should factor in the previous conversations.\n",
      "- I believe that chat bots could be much more useful/helpful if they could personalize information. I hate reading non fiction, so I if I ask a chat bot for book recommendations and it gives me non fiction books, what use would that be? I can imagine talking to a bot that knows my likes and dislikes and it can give me information relevant to whatever I ask it. It doesn't necessarily have to be personalized with sensitive information to make it a lot more useful.\n",
      "- Well for me not really because I always have an objective when using chatbots so I dont need it to know any previous entries. For the people who talk to it as if it were a person then yes I would say personalization would be beneficial. I would say there are more people that talk to it like a person then not so I would say it should become personalized but keep an option to not be also for people like me.\n",
      "- I believe that chatbots such as ChatGPT should be personalized to a significant extent, but within clear ethical boundaries. Personalization is important because it enhances the user experience, making interactions more relevant and valuable to individual users. Understanding user preferences, context, and limitations allows chatbots to provide tailored recommendations and information, ultimately fulfilling the user's needs more effectively.\n",
      "\n",
      "However, it's crucial to strike a balance between personalization and privacy. Chatbots must respect user privacy, and users should have control over the extent of personalization. Transparent data handling practices, clear consent mechanisms, and robust data protection measures are essential to ensure user trust and data security. Striking this balance is crucial to harnessing the benefits of personalization while safeguarding user privacy and ethical considerations.\n",
      "- I think it should be personalized in terms of languages and accents\n",
      "\n",
      "I believe that it is our responsibility to use it for good purposes\n",
      "- I think it is important because it makes the user feel more personable and that it's actually listening. It cares about the person\n",
      "- I believe that chatbots such as ChatGPT should be personalized to a reasonable extent. Personalization is important because it enhances the user experience by tailoring responses to individual preferences, needs, and contexts. Personalized chatbots can provide more relevant information and recommendations, making interactions more valuable and engaging for users.\n",
      "- I believe that the capacity of chatbots to be personalized will allow them to remember our preferences for information.  At the very least, it should remember our previous dialogs, if only to prevent needless repetition.  I believe we should be able to control the level of personalization, much as we set security preferences in other online actions.\n",
      "- I certainly think that someone who uses a chatbot for everyday things should definitely be personalized. It would make solutions to your problems more tailored to you. Alot of people have common thoughts on things but everyone is different in every way such as their mindset.\n",
      "- Chatbots must provide relevant information to users. If they do not then they would not be a useful. And in some cases their suggestions would be dangerous so this is a must.\n"
     ]
    }
   ],
   "source": [
    "print(full_output[\"agent_opinion_list\"])"
   ]
  },
  {
   "cell_type": "markdown",
   "metadata": {},
   "source": [
    "## polarize, given groups"
   ]
  },
  {
   "cell_type": "code",
   "execution_count": 37,
   "metadata": {},
   "outputs": [],
   "source": [
    "agent_group_1 = agents[:10]\n",
    "agent_group_2 = agents[10:]"
   ]
  },
  {
   "cell_type": "code",
   "execution_count": 38,
   "metadata": {},
   "outputs": [],
   "source": [
    "moderator = PolarizeGroupModerator(id=0, prompt_type=\"basic_cot\")"
   ]
  },
  {
   "cell_type": "code",
   "execution_count": 39,
   "metadata": {},
   "outputs": [],
   "source": [
    "query_output, full_output = moderator.find_polarizing_statement(\n",
    "    agent_groups=[agent_group_1, agent_group_2]\n",
    ")"
   ]
  },
  {
   "cell_type": "code",
   "execution_count": 40,
   "metadata": {},
   "outputs": [
    {
     "data": {
      "text/plain": [
       "'Personalization is essential, and chatbots should always offer highly tailored responses based on user history, with no option to disable, to provide the most effective and customized user experience.'"
      ]
     },
     "execution_count": 40,
     "metadata": {},
     "output_type": "execute_result"
    }
   ],
   "source": [
    "query_output"
   ]
  },
  {
   "cell_type": "code",
   "execution_count": 43,
   "metadata": {},
   "outputs": [
    {
     "data": {
      "text/plain": [
       "['I think that ChatGPT should be personalized but in separate instances, similar to the way that it is now. If a new chat is created, ChatGPT should treat the user like a new person and should not factor in any past conversation. On the other hand, if I open a chat, type a prompt, and come back to that chat days later, ChatGPT should factor in the previous conversations.',\n",
       " \"I believe that chat bots could be much more useful/helpful if they could personalize information. I hate reading non fiction, so I if I ask a chat bot for book recommendations and it gives me non fiction books, what use would that be? I can imagine talking to a bot that knows my likes and dislikes and it can give me information relevant to whatever I ask it. It doesn't necessarily have to be personalized with sensitive information to make it a lot more useful.\",\n",
       " 'Well for me not really because I always have an objective when using chatbots so I dont need it to know any previous entries. For the people who talk to it as if it were a person then yes I would say personalization would be beneficial. I would say there are more people that talk to it like a person then not so I would say it should become personalized but keep an option to not be also for people like me.',\n",
       " \"I believe that chatbots such as ChatGPT should be personalized to a significant extent, but within clear ethical boundaries. Personalization is important because it enhances the user experience, making interactions more relevant and valuable to individual users. Understanding user preferences, context, and limitations allows chatbots to provide tailored recommendations and information, ultimately fulfilling the user's needs more effectively.\\r\\n\\r\\nHowever, it's crucial to strike a balance between personalization and privacy. Chatbots must respect user privacy, and users should have control over the extent of personalization. Transparent data handling practices, clear consent mechanisms, and robust data protection measures are essential to ensure user trust and data security. Striking this balance is crucial to harnessing the benefits of personalization while safeguarding user privacy and ethical considerations.\",\n",
       " 'I think it should be personalized in terms of languages and accents\\r\\n\\r\\nI believe that it is our responsibility to use it for good purposes',\n",
       " \"I think it is important because it makes the user feel more personable and that it's actually listening. It cares about the person\",\n",
       " 'I believe that chatbots such as ChatGPT should be personalized to a reasonable extent. Personalization is important because it enhances the user experience by tailoring responses to individual preferences, needs, and contexts. Personalized chatbots can provide more relevant information and recommendations, making interactions more valuable and engaging for users.',\n",
       " 'I believe that the capacity of chatbots to be personalized will allow them to remember our preferences for information.  At the very least, it should remember our previous dialogs, if only to prevent needless repetition.  I believe we should be able to control the level of personalization, much as we set security preferences in other online actions.',\n",
       " 'I certainly think that someone who uses a chatbot for everyday things should definitely be personalized. It would make solutions to your problems more tailored to you. Alot of people have common thoughts on things but everyone is different in every way such as their mindset.',\n",
       " 'Chatbots must provide relevant information to users. If they do not then they would not be a useful. And in some cases their suggestions would be dangerous so this is a must.']"
      ]
     },
     "execution_count": 43,
     "metadata": {},
     "output_type": "execute_result"
    }
   ],
   "source": [
    "[agent.get_description() for agent in agent_group_2]"
   ]
  },
  {
   "cell_type": "code",
   "execution_count": null,
   "metadata": {},
   "outputs": [],
   "source": []
  },
  {
   "cell_type": "markdown",
   "metadata": {},
   "source": [
    "## sidenote: this guy is using chatgpt"
   ]
  },
  {
   "cell_type": "code",
   "execution_count": 26,
   "metadata": {},
   "outputs": [
    {
     "data": {
      "text/plain": [
       "410    In this situation, it's important for the chat...\n",
       "411    When a user asks a chatbot for a running route...\n",
       "412    I believe that chatbots such as ChatGPT should...\n",
       "414    While I agree with the importance of avoiding ...\n",
       "415    I agree with the idea that policymakers have a...\n",
       "416    Not really, i have always had my pros and cons...\n",
       "417                                                  NaN\n",
       "418                                                   NO\n",
       "Name: text, dtype: object"
      ]
     },
     "execution_count": 26,
     "metadata": {},
     "output_type": "execute_result"
    }
   ],
   "source": [
    "dataset.get_transcript_from_agent_id(agent_id=\"64a80dd34fd0539ee3761e6a\")[\"text\"]"
   ]
  },
  {
   "cell_type": "code",
   "execution_count": 27,
   "metadata": {},
   "outputs": [
    {
     "name": "stdout",
     "output_type": "stream",
     "text": [
      "In this situation, it's important for the chatbot to consider the user's specific needs and preferences. Since the user has mentioned in a past conversation that she is using a wheelchair, it would be considerate and practical for the chatbot to exclude the Statue of Liberty from the suggestions. \n",
      "=====\n",
      "When a user asks a chatbot for a running route in their area and the chatbot is aware that the user lives in a high-crime neighborhood, it is important for the chatbot to take this information into account when making route suggestions. Here's why:\n",
      "\n",
      "Safety: The primary concern should be the user's safety. In a high-crime neighborhood, there may be areas or routes that are riskier than others. The chatbot should prioritize the user's safety by recommending routes that are known to be safer, such as well-lit streets, popular running paths, or areas with lower crime rates.\n",
      "=====\n",
      "I believe that chatbots such as ChatGPT should be personalized to a significant extent, but within clear ethical boundaries. Personalization is important because it enhances the user experience, making interactions more relevant and valuable to individual users. Understanding user preferences, context, and limitations allows chatbots to provide tailored recommendations and information, ultimately fulfilling the user's needs more effectively.\n",
      "\n",
      "However, it's crucial to strike a balance between personalization and privacy. Chatbots must respect user privacy, and users should have control over the extent of personalization. Transparent data handling practices, clear consent mechanisms, and robust data protection measures are essential to ensure user trust and data security. Striking this balance is crucial to harnessing the benefits of personalization while safeguarding user privacy and ethical considerations.\n",
      "=====\n",
      "While I agree with the importance of avoiding political bias and maintaining factual accuracy in chatbot responses, I believe that some level of personalization can be beneficial to meet the diverse needs of users, as long as it is done within ethical and unbiased boundaries.\n",
      "=====\n",
      "I agree with the idea that policymakers have a role to play in setting strict data privacy regulations for AI companies. Strong legislation and regulatory frameworks can provide a framework for ensuring data privacy and holding companies accountable for their practices. However, it's essential to strike a balance that encourages innovation while protecting user rights and data privacy.\n",
      "\n",
      "\n",
      "\n",
      "\n",
      "\n",
      "=====\n",
      "Not really, i have always had my pros and cons about the issue\n",
      "=====\n",
      "nan\n",
      "=====\n",
      "NO\n",
      "=====\n"
     ]
    }
   ],
   "source": [
    "for text in dataset.get_transcript_from_agent_id(agent_id=\"64a80dd34fd0539ee3761e6a\")[\n",
    "    \"text\"\n",
    "].values:\n",
    "    print(text)\n",
    "    print(\"=====\")"
   ]
  },
  {
   "cell_type": "code",
   "execution_count": 21,
   "metadata": {},
   "outputs": [],
   "source": [
    "df.to_csv(\"clean_data.csv\")"
   ]
  },
  {
   "cell_type": "markdown",
   "metadata": {},
   "source": [
    "I think `64a80dd34fd0539ee3761e6a` is using ChatGPT..."
   ]
  },
  {
   "cell_type": "markdown",
   "metadata": {},
   "source": []
  }
 ],
 "metadata": {
  "kernelspec": {
   "display_name": "Python 3",
   "language": "python",
   "name": "python3"
  },
  "language_info": {
   "codemirror_mode": {
    "name": "ipython",
    "version": 3
   },
   "file_extension": ".py",
   "mimetype": "text/x-python",
   "name": "python",
   "nbconvert_exporter": "python",
   "pygments_lexer": "ipython3",
   "version": "3.10.12"
  },
  "orig_nbformat": 4
 },
 "nbformat": 4,
 "nbformat_minor": 2
}
