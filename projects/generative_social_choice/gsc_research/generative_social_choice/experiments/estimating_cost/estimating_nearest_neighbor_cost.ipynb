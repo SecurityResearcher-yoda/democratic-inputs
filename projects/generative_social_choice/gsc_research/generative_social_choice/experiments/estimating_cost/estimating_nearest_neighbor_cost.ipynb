{
 "cells": [
  {
   "cell_type": "code",
   "execution_count": 67,
   "metadata": {},
   "outputs": [],
   "source": [
    "from math import log, comb, ceil\n",
    "from typing import Tuple"
   ]
  },
  {
   "cell_type": "markdown",
   "metadata": {},
   "source": [
    "Say we select a pivot by taking `p` random pivots, and picking the \"median\". This requires `p^2` queries. What's the probability this resulting pivot lies in the interval [1/L, (L-1)/L]?\n",
    "\n",
    "```\n",
    "Prob[median ranks below 1/L or above (L-1)/L] \n",
    "= 2 * Prob[p/2 samples all rank below 1/L]\n",
    "= 2 * (1/L)^(p/2) * ((L-1)/L)^(p – p//2) * (p choose p/2) \n",
    "```"
   ]
  },
  {
   "cell_type": "code",
   "execution_count": 1,
   "metadata": {},
   "outputs": [],
   "source": [
    "def probability_bad(p, L):\n",
    "    \"\"\"\n",
    "    Upper bound for probability that pivot does not lie in [1/L, (L-1)/L].\n",
    "    \"\"\"\n",
    "    return (\n",
    "        2\n",
    "        * (1 / L) ** (p / 2)\n",
    "        * ((L - 1) / L) ** (p - p / 2)\n",
    "        * comb(int(p), int(p) // 2)\n",
    "    )"
   ]
  },
  {
   "cell_type": "code",
   "execution_count": 54,
   "metadata": {},
   "outputs": [],
   "source": [
    "def cost_terms(p, L, N=500) -> Tuple[float, float]:\n",
    "    \"\"\"\n",
    "    Returns tuple of two terms -- when summed they give the total cost of compute_nearest_neighbors. (This is assuming the )\n",
    "    \"\"\"\n",
    "    return (p**2 * log(N, L / (L - 1)), L * N)"
   ]
  },
  {
   "cell_type": "markdown",
   "metadata": {},
   "source": [
    "What this is saying is: we do \n",
    "N ( 1 + (L-1)/L + ((L-1)/L)^2 + ...) = LN \n",
    "compare() queries once we have the pivot, and so there's about log(N, L/(L-1)) steps, and so we need additionally p^2 * log(N, L/(L-1)) steps to compute the pivot each time. "
   ]
  },
  {
   "cell_type": "code",
   "execution_count": 70,
   "metadata": {},
   "outputs": [],
   "source": [
    "def cost(p, L, N=500):\n",
    "    return sum(cost_terms(p, L, N))"
   ]
  },
  {
   "cell_type": "markdown",
   "metadata": {},
   "source": [
    "Note: you'll notice this doesn't depend on the size of the nearest neighbor set. This is because we're assuming the size of the nearest neighbor set is way smaller than N. "
   ]
  },
  {
   "cell_type": "markdown",
   "metadata": {},
   "source": [
    "Below is code which, given a budget `MAX_NUM_COMPARE_QUERIES`, finds the `p, L` which minimize `probability_bad` (this is the probability that a given pivot does not lie in the range [1/L, (L-1)/L].)"
   ]
  },
  {
   "cell_type": "code",
   "execution_count": 73,
   "metadata": {},
   "outputs": [
    {
     "name": "stdout",
     "output_type": "stream",
     "text": [
      "Compare query budget: 5000\n",
      "Optimized values: p = 7.999620841276833, L = 5.797058705852599\n",
      "Rounded values: p=8, L=6\n",
      "Probability a pivot is bad= 0.029073469661271032\n",
      "Resulting number of compare() queries (using round values) = 5181.502425127429\n"
     ]
    }
   ],
   "source": [
    "import numpy as np\n",
    "from scipy.optimize import minimize\n",
    "\n",
    "MAX_NUM_COMPARE_QUERIES = 5000\n",
    "\n",
    "\n",
    "def objective_function(variables):\n",
    "    p, L = variables\n",
    "    return probability_bad(p, L)\n",
    "\n",
    "\n",
    "def constraint_function(variables):\n",
    "    p, L = variables\n",
    "    M = MAX_NUM_COMPARE_QUERIES  # Set your M value here\n",
    "    return M - cost(p, L, 500)\n",
    "\n",
    "\n",
    "constraint1 = {\"type\": \"ineq\", \"fun\": constraint_function}\n",
    "\n",
    "constraint2 = {\"type\": \"ineq\", \"fun\": lambda variables: variables[1] - 2}  # L >= 2\n",
    "\n",
    "constraint3 = {\"type\": \"ineq\", \"fun\": lambda variables: variables[0] - 3}  # p >= 3\n",
    "\n",
    "# Initial guess for p and L\n",
    "initial_guess = np.array([5, 5])\n",
    "\n",
    "# Run the optimization\n",
    "result = minimize(\n",
    "    objective_function,\n",
    "    initial_guess,\n",
    "    method=\"SLSQP\",\n",
    "    constraints=[constraint1, constraint2, constraint3],\n",
    ")\n",
    "\n",
    "optimized_p, optimized_L = result.x\n",
    "round_p = ceil(optimized_p)\n",
    "round_L = ceil(optimized_L)\n",
    "print(f\"Compare query budget: {MAX_NUM_COMPARE_QUERIES}\")\n",
    "print(f\"Optimized values: p = {optimized_p}, L = {optimized_L}\")\n",
    "print(f\"Rounded values: p={round_p}, L={round_L}\")\n",
    "print(f\"Probability a pivot is bad= {result.fun}\")\n",
    "print(\n",
    "    f\"Resulting number of compare() queries (using round values) = {cost(round_p, round_L)}\"\n",
    ")"
   ]
  },
  {
   "cell_type": "code",
   "execution_count": null,
   "metadata": {},
   "outputs": [],
   "source": []
  }
 ],
 "metadata": {
  "kernelspec": {
   "display_name": "Python 3",
   "language": "python",
   "name": "python3"
  },
  "language_info": {
   "codemirror_mode": {
    "name": "ipython",
    "version": 3
   },
   "file_extension": ".py",
   "mimetype": "text/x-python",
   "name": "python",
   "nbconvert_exporter": "python",
   "pygments_lexer": "ipython3",
   "version": "3.10.12"
  }
 },
 "nbformat": 4,
 "nbformat_minor": 2
}
