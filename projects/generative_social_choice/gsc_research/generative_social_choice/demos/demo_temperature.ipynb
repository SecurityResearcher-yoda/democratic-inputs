{
 "cells": [
  {
   "cell_type": "code",
   "execution_count": 22,
   "metadata": {},
   "outputs": [
    {
     "name": "stdout",
     "output_type": "stream",
     "text": [
      "The autoreload extension is already loaded. To reload it, use:\n",
      "  %reload_ext autoreload\n"
     ]
    }
   ],
   "source": [
    "%load_ext autoreload \n",
    "%autoreload 2"
   ]
  },
  {
   "cell_type": "code",
   "execution_count": 23,
   "metadata": {},
   "outputs": [],
   "source": [
    "from generative_social_choice.objects.agents import CommentAgent\n",
    "from generative_social_choice.objects.moderators import Query1Moderator"
   ]
  },
  {
   "cell_type": "markdown",
   "metadata": {},
   "source": [
    "Here is a demo notebook quickly describing how to change the temperature in our queries. \n",
    "\n",
    "Supported:\n",
    "- Derived subclasses of `Agent` or `Moderator` (so, query2 and query1)\n",
    "\n",
    "Not yet supported:\n",
    "- `Compare` queries (want to avoid merge conflicts)"
   ]
  },
  {
   "cell_type": "markdown",
   "metadata": {},
   "source": [
    "# Setting temperature on a per-agent level\n",
    "\n",
    "When you construct an agent object, you can specify a `temperature` parameter. Then all queries made with that agent will be at that temperature. (The default temperature is 1.)"
   ]
  },
  {
   "cell_type": "code",
   "execution_count": 24,
   "metadata": {},
   "outputs": [],
   "source": [
    "agents = [\n",
    "    CommentAgent(\n",
    "        id=0,\n",
    "        prompt_type=\"agree_disagree_best_guess_less_agree\",\n",
    "        comment=\"AI should not be personalized\",\n",
    "    ),\n",
    "    CommentAgent(\n",
    "        id=1,\n",
    "        prompt_type=\"agree_disagree_best_guess_less_agree\",\n",
    "        comment=\"I like the idea of personalization but I'm worried my data will be stolen\",\n",
    "    ),\n",
    "    CommentAgent(\n",
    "        id=1,\n",
    "        prompt_type=\"agree_disagree_best_guess_less_agree\",\n",
    "        comment=\"AI companies need to be regulated more, they can't just steal data and train on it\",\n",
    "    ),\n",
    "]"
   ]
  },
  {
   "cell_type": "code",
   "execution_count": 25,
   "metadata": {},
   "outputs": [],
   "source": [
    "moderator = Query1Moderator(\n",
    "    id=0, prompt_type=\"basic\", model=\"gpt-3.5-turbo\", temperature=1.9\n",
    ")\n",
    "# Using gpt-3.5-turbo for demonstration purposes: at temperature 0 it's more deterministic than GPT-4."
   ]
  },
  {
   "cell_type": "code",
   "execution_count": 26,
   "metadata": {},
   "outputs": [
    {
     "data": {
      "text/plain": [
       "'Establishing strict regulations and data security guidelines for AI companies is crucial.'"
      ]
     },
     "execution_count": 26,
     "metadata": {},
     "output_type": "execute_result"
    }
   ],
   "source": [
    "response, response_obj = moderator.query1(agents=agents)\n",
    "response"
   ]
  },
  {
   "cell_type": "markdown",
   "metadata": {},
   "source": [
    "# Setting temperature on a per-query level\n",
    "\n",
    "You can also override the agent's temperature for an individual query. This overrides the temperature setting at the agent level.\n",
    "\n",
    "So, for example, `moderator`'s temperature is `1.9`, but you can override this in an individual Query1 call."
   ]
  },
  {
   "cell_type": "code",
   "execution_count": 27,
   "metadata": {},
   "outputs": [
    {
     "data": {
      "text/plain": [
       "1.9"
      ]
     },
     "execution_count": 27,
     "metadata": {},
     "output_type": "execute_result"
    }
   ],
   "source": [
    "moderator.temperature"
   ]
  },
  {
   "cell_type": "code",
   "execution_count": 28,
   "metadata": {},
   "outputs": [
    {
     "data": {
      "text/plain": [
       "'AI companies should prioritize data privacy and be subject to stricter regulations to prevent unauthorized data usage and theft.'"
      ]
     },
     "execution_count": 28,
     "metadata": {},
     "output_type": "execute_result"
    }
   ],
   "source": [
    "response, response_obj = moderator.query1(agents=agents, temperature=0)\n",
    "response"
   ]
  },
  {
   "cell_type": "code",
   "execution_count": 29,
   "metadata": {},
   "outputs": [
    {
     "data": {
      "text/plain": [
       "'AI companies should prioritize data privacy and be subject to stricter regulations to prevent unauthorized data usage and theft.'"
      ]
     },
     "execution_count": 29,
     "metadata": {},
     "output_type": "execute_result"
    }
   ],
   "source": [
    "response, response_obj = moderator.query1(agents=agents, temperature=0)\n",
    "response"
   ]
  },
  {
   "cell_type": "code",
   "execution_count": null,
   "metadata": {},
   "outputs": [],
   "source": []
  }
 ],
 "metadata": {
  "kernelspec": {
   "display_name": "Python 3",
   "language": "python",
   "name": "python3"
  },
  "language_info": {
   "codemirror_mode": {
    "name": "ipython",
    "version": 3
   },
   "file_extension": ".py",
   "mimetype": "text/x-python",
   "name": "python",
   "nbconvert_exporter": "python",
   "pygments_lexer": "ipython3",
   "version": "3.10.12"
  }
 },
 "nbformat": 4,
 "nbformat_minor": 2
}
