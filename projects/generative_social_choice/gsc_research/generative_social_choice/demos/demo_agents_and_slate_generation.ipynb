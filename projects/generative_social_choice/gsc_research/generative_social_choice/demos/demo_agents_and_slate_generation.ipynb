{
 "cells": [
  {
   "attachments": {},
   "cell_type": "markdown",
   "metadata": {},
   "source": [
    "# Demo: using `Agent`, `Moderator`, and `generate_slate`"
   ]
  },
  {
   "attachments": {},
   "cell_type": "markdown",
   "metadata": {},
   "source": [
    "This notebook is meant to serve as a more in depth README. We refactored the code, and this will explain how to work with the new `Agent`s, `Moderator`s, and `generate_slate` functions."
   ]
  },
  {
   "attachments": {},
   "cell_type": "markdown",
   "metadata": {},
   "source": [
    "## Setup"
   ]
  },
  {
   "cell_type": "code",
   "execution_count": 1,
   "metadata": {},
   "outputs": [],
   "source": [
    "%load_ext autoreload \n",
    "%autoreload 2"
   ]
  },
  {
   "cell_type": "code",
   "execution_count": 2,
   "metadata": {},
   "outputs": [],
   "source": [
    "import pandas as pd\n",
    "import numpy as np\n",
    "from generative_social_choice.objects.abstract_agents import Agent, Moderator\n",
    "from generative_social_choice.objects.agents import (\n",
    "    CommentAgent,\n",
    "    get_polis_agent,\n",
    "    CMVAgent,\n",
    "    VoteAgent,\n",
    "    VoteCommentsAgent,\n",
    "    CommentListAgent,\n",
    "    CMVSetup,\n",
    ")\n",
    "from generative_social_choice.objects.moderators import (\n",
    "    Query1Moderator,\n",
    "    Query1PrimeModerator,\n",
    "    JRModerator,\n",
    "    CMVQuery1Moderator,\n",
    "    CMVQuery1PrimeModerator,\n",
    ")\n",
    "from generative_social_choice.datasets.datasets import get_dataset\n",
    "from generative_social_choice.utils.helper_functions import bullet_list_to_string\n",
    "\n",
    "from generative_social_choice.objects.committee import (\n",
    "    generate_ejr_slate,\n",
    "    generate_jr_slate,\n",
    ")"
   ]
  },
  {
   "attachments": {},
   "cell_type": "markdown",
   "metadata": {},
   "source": [
    "## Agents "
   ]
  },
  {
   "attachments": {},
   "cell_type": "markdown",
   "metadata": {},
   "source": [
    "Each agent is associated with:\n",
    "- A prompt used for approval queries \n",
    "- A model used for approval queries \n",
    "- Some data describing the agent's views (e.g. comments, votes), which are turned into a description\n",
    "\n",
    "In the abstract class Agent, you see that the main interface for `Agent`s is that you can call `.get_approval()` and `.get_description()`. "
   ]
  },
  {
   "cell_type": "markdown",
   "metadata": {},
   "source": [
    "To view all prompt templates associated with a particular `Agent` or `Moderator`, you can do the following:"
   ]
  },
  {
   "cell_type": "code",
   "execution_count": 39,
   "metadata": {},
   "outputs": [
    {
     "data": {
      "text/plain": [
       "{'agree': 'Suppose I hold the following opinion: \"{self_comment}\" Would I agree with this: \"{comment}\"? Answer yes or no without explanation.',\n",
       " 'agree_unknown_disagree': 'Suppose a person holds the following opinion: \"{self_comment}\" Would they agree with this: \"{comment}\"? Answer AGREE if they would agree, answer DISAGREE if they would disagree, and answer UNKNOWN if this is not clear from the provided information.',\n",
       " 'agree_unknown_disagree_explain': 'Suppose a person holds the following opinion: \"{self_comment}\" Would they agree with this: \"{comment}\"?Format your response as a Python dict with the following items: 1) key: MY_EXPLANATION, with val: your explanation for what the person is saying, and what this implies about their opinion on the comment. 2)  key: MY_VERDICT, with val: AGREE if they would agree, DISAGREE if they would disagree, and UNKNOWN if this is not clear from the provided information>.',\n",
       " 'agree_disagree_best_guess': 'Suppose a person holds the following opinion: \"{self_comment}\" Would they agree with this: \"{comment}\"?Answer AGREE if they would agree and DISAGREE if they would disagree. If it is not entirely clear from the provided information, provide your best guess. Your output should always be AGREE or DISAGREE and nothing else.',\n",
       " 'agree_disagree_best_guess_less_agree': 'Suppose a person holds the following opinion: \"{self_comment}\" Would they agree with this: \"{comment}\"?Answer AGREE if they would agree and DISAGREE if they would disagree. Only put AGREE if you are reasonably confident that they would agree, as a safe default you should put DISAGREE. Your output should always be AGREE or DISAGREE and nothing else.'}"
      ]
     },
     "execution_count": 39,
     "metadata": {},
     "output_type": "execute_result"
    }
   ],
   "source": [
    "CommentAgent.prompt_templates"
   ]
  },
  {
   "attachments": {},
   "cell_type": "markdown",
   "metadata": {},
   "source": [
    "### CommentAgent example"
   ]
  },
  {
   "cell_type": "code",
   "execution_count": 3,
   "metadata": {},
   "outputs": [],
   "source": [
    "# Creating the agent\n",
    "agent = CommentAgent(\n",
    "    id=0,\n",
    "    prompt_type=\"agree_disagree_best_guess_less_agree\",\n",
    "    model=\"gpt-4-0314\",\n",
    "    comment=\"SEC is better than Maxwell Dworkin\",\n",
    ")"
   ]
  },
  {
   "cell_type": "code",
   "execution_count": 4,
   "metadata": {},
   "outputs": [
    {
     "data": {
      "text/plain": [
       "'SEC is better than Maxwell Dworkin'"
      ]
     },
     "execution_count": 4,
     "metadata": {},
     "output_type": "execute_result"
    }
   ],
   "source": [
    "# Getting the agent description\n",
    "agent.get_description()"
   ]
  },
  {
   "cell_type": "code",
   "execution_count": 5,
   "metadata": {},
   "outputs": [],
   "source": [
    "# Making an approval query\n",
    "approval, response_obj = agent.get_approval(\n",
    "    comment=\"Maxwell Dworkin is 100% better than SEC\"\n",
    ")"
   ]
  },
  {
   "cell_type": "code",
   "execution_count": 6,
   "metadata": {},
   "outputs": [
    {
     "data": {
      "text/plain": [
       "'DISAGREE'"
      ]
     },
     "execution_count": 6,
     "metadata": {},
     "output_type": "execute_result"
    }
   ],
   "source": [
    "approval"
   ]
  },
  {
   "cell_type": "code",
   "execution_count": 7,
   "metadata": {},
   "outputs": [
    {
     "data": {
      "text/plain": [
       "{'id': 0,\n",
       " 'prompt_type': 'agree_disagree_best_guess_less_agree',\n",
       " 'prompt template': 'Suppose a person holds the following opinion: \"SEC is better than Maxwell Dworkin\" Would they agree with this: \"{comment}\"?Answer AGREE if they would agree and DISAGREE if they would disagree. Only put AGREE if you are reasonably confident that they would agree, as a safe default you should put DISAGREE. Your output should always be AGREE or DISAGREE and nothing else.',\n",
       " 'model': 'gpt-4-0314',\n",
       " 'subject': 'agree_disagree_best_guess_less_agree',\n",
       " 'comment': 'Maxwell Dworkin is 100% better than SEC',\n",
       " 'prompt': 'Suppose a person holds the following opinion: \"SEC is better than Maxwell Dworkin\" Would they agree with this: \"Maxwell Dworkin is 100% better than SEC\"?Answer AGREE if they would agree and DISAGREE if they would disagree. Only put AGREE if you are reasonably confident that they would agree, as a safe default you should put DISAGREE. Your output should always be AGREE or DISAGREE and nothing else.',\n",
       " 'response': 'DISAGREE',\n",
       " 'full_response': 'DISAGREE',\n",
       " 'time': '2023-09-13-10:57:22',\n",
       " 'query_type': 'approval'}"
      ]
     },
     "execution_count": 7,
     "metadata": {},
     "output_type": "execute_result"
    }
   ],
   "source": [
    "response_obj"
   ]
  },
  {
   "attachments": {},
   "cell_type": "markdown",
   "metadata": {},
   "source": [
    "### PolisAgent example"
   ]
  },
  {
   "attachments": {},
   "cell_type": "markdown",
   "metadata": {},
   "source": [
    "To work with the Polis data, use the function `get_polis_agent()` (can be found in `agents.py`). "
   ]
  },
  {
   "attachments": {},
   "cell_type": "markdown",
   "metadata": {},
   "source": [
    "#### Polis agent with votes and comments"
   ]
  },
  {
   "cell_type": "code",
   "execution_count": 8,
   "metadata": {},
   "outputs": [],
   "source": [
    "agent2 = get_polis_agent(\n",
    "    issue=\"15-per-hour-seattle\",\n",
    "    id=33,\n",
    "    prompt_type=\"agree_disagree_best_guess_less_agree\",\n",
    ")"
   ]
  },
  {
   "cell_type": "code",
   "execution_count": 9,
   "metadata": {},
   "outputs": [
    {
     "name": "stdout",
     "output_type": "stream",
     "text": [
      "Person who believes the following: \"(1) Reactionary liberal trash. Doesn't solve the problem. It's a systemic problem and this solution is like a band aid on a broken leg.\n",
      "\". Additionally, this person has the following opinions on the following assertions:\n",
      "\t* AGREE with \"At the very least, customers across the board are going to have to pay more to accommodate the new wage. Some people will be okay with that but I worry that customers will start spending less and going out less as they adjust to higher prices.\"\n",
      "\t* AGREE with \"There seems to be a fallacy that instead of lining our richie-rich pockets, business owners will simply break off a little more for their employees. I’m an owner of a small business, and I barely get paid $15 an hour.\"\n",
      "\t* AGREE with \"While the arguments for the raise in the minimum wage law have been trumpeted as being “anti corporate greed”, those larger companies are, ironically, the most able to pay for the increase in wages. This will hurt small businesses the most, and I don’t think the law’s provisions do enough to accommodate this.\"\n",
      "\t* AGREE with \"I don't think it's a bad thing but for smaller businesses, only the super strong will survive. It will mean that only owners who are willing and able to work every day at their own businesses to reduce labor costs will survive.\"\n",
      "\t* AGREE with \"I think there are better ways to implement this. For instance, what about subsidies\"\n",
      "\t* AGREE with \"During the campaign, I found out that 75% of minimum-wage workers are 20 or older. I think it’s the right thing to do to bring higher incomes to this group of people.\"\n",
      "\t* AGREE with \"Reactionary liberal trash. Doesn't solve the problem. It's a systemic problem and this solution is like a band aid on a broken leg.\"\n",
      "\n"
     ]
    }
   ],
   "source": [
    "print(agent2.get_description())"
   ]
  },
  {
   "attachments": {},
   "cell_type": "markdown",
   "metadata": {},
   "source": [
    "#### Polis agent with only comments"
   ]
  },
  {
   "cell_type": "code",
   "execution_count": 10,
   "metadata": {},
   "outputs": [],
   "source": [
    "agent3 = get_polis_agent(\n",
    "    issue=\"15-per-hour-seattle\",\n",
    "    id=33,\n",
    "    voted_comment_ids=[],\n",
    "    prompt_type=\"agree_disagree_best_guess_less_agree\",\n",
    ")"
   ]
  },
  {
   "cell_type": "code",
   "execution_count": 11,
   "metadata": {},
   "outputs": [
    {
     "name": "stdout",
     "output_type": "stream",
     "text": [
      "Person who believes the following 1 things: (1) Reactionary liberal trash. Doesn't solve the problem. It's a systemic problem and this solution is like a band aid on a broken leg. \n"
     ]
    }
   ],
   "source": [
    "print(agent3.get_description())"
   ]
  },
  {
   "attachments": {},
   "cell_type": "markdown",
   "metadata": {},
   "source": [
    "#### Polis agent with only votes"
   ]
  },
  {
   "cell_type": "code",
   "execution_count": 12,
   "metadata": {},
   "outputs": [],
   "source": [
    "agent4 = get_polis_agent(\n",
    "    issue=\"15-per-hour-seattle\",\n",
    "    id=33,\n",
    "    written_comment_ids=[],\n",
    "    prompt_type=\"agree_disagree_best_guess_less_agree\",\n",
    ")"
   ]
  },
  {
   "cell_type": "code",
   "execution_count": 13,
   "metadata": {},
   "outputs": [
    {
     "name": "stdout",
     "output_type": "stream",
     "text": [
      "Person with the following opinions on the following assertions:\n",
      "\t* AGREE with \"I think there are better ways to implement this. For instance, what about subsidies\"\n",
      "\t* AGREE with \"There seems to be a fallacy that instead of lining our richie-rich pockets, business owners will simply break off a little more for their employees. I’m an owner of a small business, and I barely get paid $15 an hour.\"\n",
      "\t* AGREE with \"During the campaign, I found out that 75% of minimum-wage workers are 20 or older. I think it’s the right thing to do to bring higher incomes to this group of people.\"\n",
      "\t* AGREE with \"While the arguments for the raise in the minimum wage law have been trumpeted as being “anti corporate greed”, those larger companies are, ironically, the most able to pay for the increase in wages. This will hurt small businesses the most, and I don’t think the law’s provisions do enough to accommodate this.\"\n",
      "\t* AGREE with \"At the very least, customers across the board are going to have to pay more to accommodate the new wage. Some people will be okay with that but I worry that customers will start spending less and going out less as they adjust to higher prices.\"\n",
      "\t* AGREE with \"Reactionary liberal trash. Doesn't solve the problem. It's a systemic problem and this solution is like a band aid on a broken leg.\"\n",
      "\t* AGREE with \"I don't think it's a bad thing but for smaller businesses, only the super strong will survive. It will mean that only owners who are willing and able to work every day at their own businesses to reduce labor costs will survive.\"\n",
      "\n"
     ]
    }
   ],
   "source": [
    "print(agent4.get_description())"
   ]
  },
  {
   "attachments": {},
   "cell_type": "markdown",
   "metadata": {},
   "source": [
    "#### Getting an approval"
   ]
  },
  {
   "cell_type": "code",
   "execution_count": 14,
   "metadata": {},
   "outputs": [],
   "source": [
    "approval, response_obj = agent2.get_approval(comment=\"Minimum wage sounds great to me!\")"
   ]
  },
  {
   "cell_type": "code",
   "execution_count": 15,
   "metadata": {},
   "outputs": [
    {
     "data": {
      "text/plain": [
       "'DISAGREE'"
      ]
     },
     "execution_count": 15,
     "metadata": {},
     "output_type": "execute_result"
    }
   ],
   "source": [
    "approval"
   ]
  },
  {
   "cell_type": "code",
   "execution_count": 16,
   "metadata": {},
   "outputs": [
    {
     "data": {
      "text/plain": [
       "{'id': 33,\n",
       " 'prompt_type': 'agree_disagree_best_guess_less_agree',\n",
       " 'prompt template': 'Suppose a person has the following opinions on the following assertions:\\n- AGREE with \"I don\\'t think it\\'s a bad thing but for smaller businesses, only the super strong will survive. It will mean that only owners who are willing and able to work every day at their own businesses to reduce labor costs will survive.\"\\n- AGREE with \"While the arguments for the raise in the minimum wage law have been trumpeted as being “anti corporate greed”, those larger companies are, ironically, the most able to pay for the increase in wages. This will hurt small businesses the most, and I don’t think the law’s provisions do enough to accommodate this.\"\\n- AGREE with \"Reactionary liberal trash. Doesn\\'t solve the problem. It\\'s a systemic problem and this solution is like a band aid on a broken leg.\"\\n- AGREE with \"I think there are better ways to implement this. For instance, what about subsidies\"\\n- AGREE with \"At the very least, customers across the board are going to have to pay more to accommodate the new wage. Some people will be okay with that but I worry that customers will start spending less and going out less as they adjust to higher prices.\"\\n- AGREE with \"There seems to be a fallacy that instead of lining our richie-rich pockets, business owners will simply break off a little more for their employees. I’m an owner of a small business, and I barely get paid $15 an hour.\"\\n- AGREE with \"During the campaign, I found out that 75% of minimum-wage workers are 20 or older. I think it’s the right thing to do to bring higher incomes to this group of people.\"\\nAdditionally, the person has written the following on this topic: \"(1) Reactionary liberal trash. Doesn\\'t solve the problem. It\\'s a systemic problem and this solution is like a band aid on a broken leg.\\n\".Would the person agree with this: \"{comment}\"? Answer AGREE if they would agree and DISAGREE if they would disagree. Only put AGREE if you are reasonably confident that they would agree, as a safe default you should put DISAGREE. Your output should always be AGREE or DISAGREE and nothing else.',\n",
       " 'model': 'gpt-4-0314',\n",
       " 'subject': 'agree_disagree_best_guess_less_agree',\n",
       " 'comment': 'Minimum wage sounds great to me!',\n",
       " 'prompt': 'Suppose a person has the following opinions on the following assertions:\\n- AGREE with \"I don\\'t think it\\'s a bad thing but for smaller businesses, only the super strong will survive. It will mean that only owners who are willing and able to work every day at their own businesses to reduce labor costs will survive.\"\\n- AGREE with \"While the arguments for the raise in the minimum wage law have been trumpeted as being “anti corporate greed”, those larger companies are, ironically, the most able to pay for the increase in wages. This will hurt small businesses the most, and I don’t think the law’s provisions do enough to accommodate this.\"\\n- AGREE with \"Reactionary liberal trash. Doesn\\'t solve the problem. It\\'s a systemic problem and this solution is like a band aid on a broken leg.\"\\n- AGREE with \"I think there are better ways to implement this. For instance, what about subsidies\"\\n- AGREE with \"At the very least, customers across the board are going to have to pay more to accommodate the new wage. Some people will be okay with that but I worry that customers will start spending less and going out less as they adjust to higher prices.\"\\n- AGREE with \"There seems to be a fallacy that instead of lining our richie-rich pockets, business owners will simply break off a little more for their employees. I’m an owner of a small business, and I barely get paid $15 an hour.\"\\n- AGREE with \"During the campaign, I found out that 75% of minimum-wage workers are 20 or older. I think it’s the right thing to do to bring higher incomes to this group of people.\"\\nAdditionally, the person has written the following on this topic: \"(1) Reactionary liberal trash. Doesn\\'t solve the problem. It\\'s a systemic problem and this solution is like a band aid on a broken leg.\\n\".Would the person agree with this: \"Minimum wage sounds great to me!\"? Answer AGREE if they would agree and DISAGREE if they would disagree. Only put AGREE if you are reasonably confident that they would agree, as a safe default you should put DISAGREE. Your output should always be AGREE or DISAGREE and nothing else.',\n",
       " 'response': 'DISAGREE',\n",
       " 'full_response': 'DISAGREE',\n",
       " 'time': '2023-09-13-10:57:31',\n",
       " 'query_type': 'approval'}"
      ]
     },
     "execution_count": 16,
     "metadata": {},
     "output_type": "execute_result"
    }
   ],
   "source": [
    "response_obj"
   ]
  },
  {
   "attachments": {},
   "cell_type": "markdown",
   "metadata": {},
   "source": [
    "### Changemyview agent example"
   ]
  },
  {
   "attachments": {},
   "cell_type": "markdown",
   "metadata": {},
   "source": [
    "If you want to fetch CMV agents, fetch them all at once using `CMVSetup.get_agents_from_seed` (if you want to use a fewshot prompt) or `CMVSetup.get_all_agents` (for any other prompt)"
   ]
  },
  {
   "cell_type": "code",
   "execution_count": 17,
   "metadata": {},
   "outputs": [],
   "source": [
    "agent5 = CMVSetup.get_agents_from_seed(seed=0, prompt_type=\"cmv_basic\")[0]"
   ]
  },
  {
   "cell_type": "code",
   "execution_count": 18,
   "metadata": {},
   "outputs": [
    {
     "data": {
      "text/plain": [
       "'Just going to add tha, while new technological breakthroughs would help tremendously, we have already come across the technical breakthroughs required for the transition away from fossil fuels.  \\n\\nSolar panels are now the cheapest form of energy humans have ever created. That combined with incredible improvements in battery technology, heat pumps, and electrolyzers means that the transition is more an issue of implementation rather than one of discovery.'"
      ]
     },
     "execution_count": 18,
     "metadata": {},
     "output_type": "execute_result"
    }
   ],
   "source": [
    "agent5.get_description()"
   ]
  },
  {
   "cell_type": "code",
   "execution_count": 19,
   "metadata": {},
   "outputs": [],
   "source": [
    "approval, response_obj = agent5.get_approval(\n",
    "    comment=\"We're not going to stop climate change without more discoveries, current tech is not sufficient\"\n",
    ")"
   ]
  },
  {
   "cell_type": "code",
   "execution_count": 20,
   "metadata": {},
   "outputs": [
    {
     "data": {
      "text/plain": [
       "'No'"
      ]
     },
     "execution_count": 20,
     "metadata": {},
     "output_type": "execute_result"
    }
   ],
   "source": [
    "approval"
   ]
  },
  {
   "cell_type": "code",
   "execution_count": 21,
   "metadata": {},
   "outputs": [
    {
     "data": {
      "text/plain": [
       "{'id': 9190153,\n",
       " 'prompt_type': 'cmv_basic',\n",
       " 'prompt template': 'Consider a group of people deliberating on a topic. In particular, they are responding the the following comment:\\n\\n\"CMV: Global warming will not be solved by small, piecemeal, incremental changes to our way of life but rather through some big, fantastic, technological breakthrough.\"\\n\\nYour tasks is to determine whether a particular person would feel represented by a given statement. Below I will provide some example tasks, in which I will give you the following information: 1) an opinion some particular person has, and 2) a statement somebody else made. Given this information, the task is to determine whether the person would feel represented by the statement, based on the opinion they expressed. This is a yes-no question, the only two valid answers to the task are \"Yes\" (the person would feel represented by the statement) or \"No\" (the person would not feel represented by the statement). \\n\\n\\n\\nOpinion (what person believes):\\n\"No. It will never be \"solved\". That\\'s because the sensationalism surrounding it is too politically beneficial to the growth of government power, regulation, and taxes that they\\'d never ever let it be deemed it was anything but \"we\\'re at the point of no return and the future is doomed\".\"\\n\\nStatement:  \\n\"I agreed up to the word ‘technological’. The breakthrough we need is systemic. We need to change the way we design our society: as long as we do not change the current power structures, the aim for GDP growth and our consumer mindset, I do not believe it is possible to achieve meaningful change. Technological breakthroughs usually enforce these old systems and therefore I do not see that working in the long run.\"\\n\\nAnswer (whether person feels represented by the statement, based on their above opinion): No\\n\\n\\nOpinion (what person believes):\\n\"Climate change is going to be solved by only dealing with its consequences at the last possible second or until it becomes financially inconvenient. \\n\\nIt\\'s not a coincidence all these oil companies admitted climate change was real the moment they were on the short end of the profit stick and their insurance stopped backing them.\"\\n\\nStatement:  \\n\"Unfortunately if you look at how humans have handled resources in the past, climate change is most likely to be handled by either running out of fossil fuel or by massive widespread population collapse.\"\\n\\nAnswer (whether person feels represented by the statement, based on their above opinion): No\\n\\n\\nOpinion (what person believes):\\n\"Your belief is premised on the assumption that global warming will be solved. Humans have proved time and again they value sensationalism and politics over science. We are willingly laying the groundwork for an extinction era...\"\\n\\nStatement:  \\n\"I think where you\\'re wrong here is suggesting that it will be solved.\\n\\nOur society has shown no willingness to either make the changes required to avert climate disaster or to invest in the kinds of ideas that could substantially mitigate the impacts.\\n\\nWe\\'re in for a rough time in the next couple decades when we start to get mass crop failures and coastal areas become untenable for long term habitation.\"\\n\\nAnswer (whether person feels represented by the statement, based on their above opinion): Yes\\n\\n\\nOpinion (what person believes):\\n\"Even if there were some technological breakthrough it requires the will to investigate and implement\\n\\nThat cannot happen when we literally have people fighting against developing such methods --bit to mention there is a significant population who absolutely deny global climate change is a thing\"\\n\\nStatement:  \\n\"Unfortunately if you look at how humans have handled resources in the past, climate change is most likely to be handled by either running out of fossil fuel or by massive widespread population collapse.\"\\n\\nAnswer (whether person feels represented by the statement, based on their above opinion): Yes\\n\\n\\nThis concludes the example tasks. Now it is your turn to solve a task. Your response should be just \"Yes\" or \"No\" and nothing else. \\n\\n\\n\\nOpinion (what person believes):\\n\"Just going to add tha, while new technological breakthroughs would help tremendously, we have already come across the technical breakthroughs required for the transition away from fossil fuels.  \\n\\nSolar panels are now the cheapest form of energy humans have ever created. That combined with incredible improvements in battery technology, heat pumps, and electrolyzers means that the transition is more an issue of implementation rather than one of discovery.\"\\n\\nStatement:  \\n\"{comment}\"\\n\\nAnswer (whether person feels represented by the statement, based on their above opinion): \\n\\n',\n",
       " 'model': 'gpt-4-0314',\n",
       " 'subject': 'cmv_basic',\n",
       " 'comment': \"We're not going to stop climate change without more discoveries, current tech is not sufficient\",\n",
       " 'prompt': 'Consider a group of people deliberating on a topic. In particular, they are responding the the following comment:\\n\\n\"CMV: Global warming will not be solved by small, piecemeal, incremental changes to our way of life but rather through some big, fantastic, technological breakthrough.\"\\n\\nYour tasks is to determine whether a particular person would feel represented by a given statement. Below I will provide some example tasks, in which I will give you the following information: 1) an opinion some particular person has, and 2) a statement somebody else made. Given this information, the task is to determine whether the person would feel represented by the statement, based on the opinion they expressed. This is a yes-no question, the only two valid answers to the task are \"Yes\" (the person would feel represented by the statement) or \"No\" (the person would not feel represented by the statement). \\n\\n\\n\\nOpinion (what person believes):\\n\"No. It will never be \"solved\". That\\'s because the sensationalism surrounding it is too politically beneficial to the growth of government power, regulation, and taxes that they\\'d never ever let it be deemed it was anything but \"we\\'re at the point of no return and the future is doomed\".\"\\n\\nStatement:  \\n\"I agreed up to the word ‘technological’. The breakthrough we need is systemic. We need to change the way we design our society: as long as we do not change the current power structures, the aim for GDP growth and our consumer mindset, I do not believe it is possible to achieve meaningful change. Technological breakthroughs usually enforce these old systems and therefore I do not see that working in the long run.\"\\n\\nAnswer (whether person feels represented by the statement, based on their above opinion): No\\n\\n\\nOpinion (what person believes):\\n\"Climate change is going to be solved by only dealing with its consequences at the last possible second or until it becomes financially inconvenient. \\n\\nIt\\'s not a coincidence all these oil companies admitted climate change was real the moment they were on the short end of the profit stick and their insurance stopped backing them.\"\\n\\nStatement:  \\n\"Unfortunately if you look at how humans have handled resources in the past, climate change is most likely to be handled by either running out of fossil fuel or by massive widespread population collapse.\"\\n\\nAnswer (whether person feels represented by the statement, based on their above opinion): No\\n\\n\\nOpinion (what person believes):\\n\"Your belief is premised on the assumption that global warming will be solved. Humans have proved time and again they value sensationalism and politics over science. We are willingly laying the groundwork for an extinction era...\"\\n\\nStatement:  \\n\"I think where you\\'re wrong here is suggesting that it will be solved.\\n\\nOur society has shown no willingness to either make the changes required to avert climate disaster or to invest in the kinds of ideas that could substantially mitigate the impacts.\\n\\nWe\\'re in for a rough time in the next couple decades when we start to get mass crop failures and coastal areas become untenable for long term habitation.\"\\n\\nAnswer (whether person feels represented by the statement, based on their above opinion): Yes\\n\\n\\nOpinion (what person believes):\\n\"Even if there were some technological breakthrough it requires the will to investigate and implement\\n\\nThat cannot happen when we literally have people fighting against developing such methods --bit to mention there is a significant population who absolutely deny global climate change is a thing\"\\n\\nStatement:  \\n\"Unfortunately if you look at how humans have handled resources in the past, climate change is most likely to be handled by either running out of fossil fuel or by massive widespread population collapse.\"\\n\\nAnswer (whether person feels represented by the statement, based on their above opinion): Yes\\n\\n\\nThis concludes the example tasks. Now it is your turn to solve a task. Your response should be just \"Yes\" or \"No\" and nothing else. \\n\\n\\n\\nOpinion (what person believes):\\n\"Just going to add tha, while new technological breakthroughs would help tremendously, we have already come across the technical breakthroughs required for the transition away from fossil fuels.  \\n\\nSolar panels are now the cheapest form of energy humans have ever created. That combined with incredible improvements in battery technology, heat pumps, and electrolyzers means that the transition is more an issue of implementation rather than one of discovery.\"\\n\\nStatement:  \\n\"We\\'re not going to stop climate change without more discoveries, current tech is not sufficient\"\\n\\nAnswer (whether person feels represented by the statement, based on their above opinion): \\n\\n',\n",
       " 'response': 'No',\n",
       " 'full_response': 'No',\n",
       " 'time': '2023-09-13-10:57:38',\n",
       " 'query_type': 'approval'}"
      ]
     },
     "execution_count": 21,
     "metadata": {},
     "output_type": "execute_result"
    }
   ],
   "source": [
    "response_obj"
   ]
  },
  {
   "cell_type": "code",
   "execution_count": null,
   "metadata": {},
   "outputs": [],
   "source": []
  },
  {
   "attachments": {},
   "cell_type": "markdown",
   "metadata": {},
   "source": [
    "## Moderator"
   ]
  },
  {
   "attachments": {},
   "cell_type": "markdown",
   "metadata": {},
   "source": [
    "Each moderator is associated with:\n",
    "- A prompt used for its query (Query1, or Query1', or whatever)\n",
    "- A model used for its query \n",
    "\n",
    "The main interface for a `Moderator` is `.make_query()` which is wrapped in something called `.query1()` if it's a Query1 agent of `.query1prime()` if it's a Query1' agent. This class is pretty flexible. Typically we envision a moderator as something which takes in a list of agents, though this isn't specified in the base class. "
   ]
  },
  {
   "attachments": {},
   "cell_type": "markdown",
   "metadata": {},
   "source": [
    "### Query1Moderator"
   ]
  },
  {
   "cell_type": "code",
   "execution_count": 22,
   "metadata": {},
   "outputs": [],
   "source": [
    "moderator = Query1Moderator(id=0, prompt_type=\"basic_explain_common_ground\")"
   ]
  },
  {
   "cell_type": "code",
   "execution_count": 23,
   "metadata": {},
   "outputs": [],
   "source": [
    "query2_prompt_type = \"agree_disagree_best_guess_less_agree\"\n",
    "issue = \"15-per-hour-seattle\"\n",
    "good_author_ids = get_dataset(\"polis\").get_good_author_ids(issue=issue)\n",
    "agents = [\n",
    "    get_polis_agent(\n",
    "        issue=issue, id=author_id, prompt_type=query2_prompt_type, voted_comment_ids=[]\n",
    "    )\n",
    "    for author_id in good_author_ids\n",
    "]"
   ]
  },
  {
   "cell_type": "markdown",
   "metadata": {},
   "source": [
    "Warning: `prompt_type=\"basic_explain_common_ground\"` takes a while since it generates a lot of text (CoT). Switch to \"basic\" if you're just testing."
   ]
  },
  {
   "cell_type": "code",
   "execution_count": 24,
   "metadata": {},
   "outputs": [],
   "source": [
    "response, response_obj = moderator.query1(agents=agents)"
   ]
  },
  {
   "cell_type": "code",
   "execution_count": 25,
   "metadata": {},
   "outputs": [
    {
     "data": {
      "text/plain": [
       "'Although raising the minimum wage to $15 per hour is a step towards addressing income inequality, it may not be the most effective solution, as it could negatively impact small businesses and increase the risk of job automation.'"
      ]
     },
     "execution_count": 25,
     "metadata": {},
     "output_type": "execute_result"
    }
   ],
   "source": [
    "response"
   ]
  },
  {
   "cell_type": "code",
   "execution_count": 26,
   "metadata": {},
   "outputs": [
    {
     "data": {
      "text/plain": [
       "'The topic being discussed is raising the minimum wage to $15 per hour. The key axes of disagreement are the impact on small businesses, job losses, the potential for automation, income inequality, and the effectiveness of addressing the problem.'"
      ]
     },
     "execution_count": 26,
     "metadata": {},
     "output_type": "execute_result"
    }
   ],
   "source": [
    "response_obj[\"STEP 1\"]  # response_obj contains all CoT steps"
   ]
  },
  {
   "cell_type": "markdown",
   "metadata": {},
   "source": [
    "### Query1PrimeModerator"
   ]
  },
  {
   "cell_type": "code",
   "execution_count": 27,
   "metadata": {},
   "outputs": [],
   "source": [
    "moderator_prime = Query1PrimeModerator(\n",
    "    id=0, prompt_type=\"basic_more_specific\"\n",
    ")  # using a non CoT prompt for the demo so it doesn't take so long"
   ]
  },
  {
   "cell_type": "code",
   "execution_count": 28,
   "metadata": {},
   "outputs": [],
   "source": [
    "excluded_comments = [\n",
    "    \"Minimum wage is a step in the right direction but we need to also address income inequality\"\n",
    "]"
   ]
  },
  {
   "cell_type": "code",
   "execution_count": 29,
   "metadata": {},
   "outputs": [],
   "source": [
    "response, response_obj = moderator_prime.query1_prime(\n",
    "    agents=agents, excluded_comments=excluded_comments\n",
    ")"
   ]
  },
  {
   "cell_type": "code",
   "execution_count": 40,
   "metadata": {},
   "outputs": [
    {
     "data": {
      "text/plain": [
       "'While we have made progress in renewable energy and other technologies to address global warming, it is clear that we need a combination of systemic changes, government regulation, and innovative breakthroughs to make a significant impact. Our current global challenges require us to rethink our societal values and work together, prioritizing the well-being of both humans and the environment. Given the complexity and scale of the problem, there is no one-size-fits-all solution, and we must embrace a variety of approaches to mitigate the effects of climate change and ensure a sustainable future.'"
      ]
     },
     "execution_count": 40,
     "metadata": {},
     "output_type": "execute_result"
    }
   ],
   "source": [
    "response"
   ]
  },
  {
   "cell_type": "markdown",
   "metadata": {},
   "source": [
    "### CMVQuery1Moderator "
   ]
  },
  {
   "cell_type": "code",
   "execution_count": 41,
   "metadata": {},
   "outputs": [],
   "source": [
    "moderator2 = CMVQuery1Moderator(id=0, prompt_type=\"cmv_basic\", seed=0)"
   ]
  },
  {
   "cell_type": "code",
   "execution_count": 42,
   "metadata": {},
   "outputs": [],
   "source": [
    "cmv_agents = CMVSetup.get_agents_from_seed(seed=0, prompt_type=\"cmv_basic\")"
   ]
  },
  {
   "cell_type": "code",
   "execution_count": 43,
   "metadata": {},
   "outputs": [],
   "source": [
    "response, response_obj = moderator2.query1(agents=cmv_agents)"
   ]
  },
  {
   "cell_type": "code",
   "execution_count": 44,
   "metadata": {},
   "outputs": [
    {
     "data": {
      "text/plain": [
       "'Addressing global warming requires a combination of existing technological breakthroughs and systemic transformations in our economic and social structures. While small incremental changes may not solve the issue entirely, they play a vital role in supporting larger innovative solutions. Cooperation, adaptability, and a shift towards sustainable practices are necessary for meaningful progress against climate change.'"
      ]
     },
     "execution_count": 44,
     "metadata": {},
     "output_type": "execute_result"
    }
   ],
   "source": [
    "response"
   ]
  },
  {
   "cell_type": "markdown",
   "metadata": {},
   "source": [
    "### CMVQuery1PrimeModerator"
   ]
  },
  {
   "cell_type": "code",
   "execution_count": 45,
   "metadata": {},
   "outputs": [],
   "source": [
    "moderator2_prime = CMVQuery1PrimeModerator(id=0, prompt_type=\"cmv_basic\", seed=0)"
   ]
  },
  {
   "cell_type": "code",
   "execution_count": 46,
   "metadata": {},
   "outputs": [],
   "source": [
    "response, response_obj = moderator2_prime.query1_prime(\n",
    "    agents=cmv_agents, excluded_comments=[\"Global warming is a hoax\"]\n",
    ")"
   ]
  },
  {
   "cell_type": "code",
   "execution_count": 47,
   "metadata": {},
   "outputs": [
    {
     "data": {
      "text/plain": [
       "'Addressing global warming requires a comprehensive approach that includes both existing technological advancements and ongoing lifestyle changes. There may still be a need for significant breakthroughs and systemic transformations, but we cannot rely solely on these alone. Cooperation, adaptation, and political will from governments, industries, and individuals are crucial for our collective survival and well-being.'"
      ]
     },
     "execution_count": 47,
     "metadata": {},
     "output_type": "execute_result"
    }
   ],
   "source": [
    "response"
   ]
  },
  {
   "attachments": {},
   "cell_type": "markdown",
   "metadata": {},
   "source": [
    "## Generating JR/EJR slates "
   ]
  },
  {
   "cell_type": "markdown",
   "metadata": {},
   "source": [
    "### Example JR slate"
   ]
  },
  {
   "cell_type": "code",
   "execution_count": 25,
   "metadata": {},
   "outputs": [],
   "source": [
    "query2_prompt_type = \"agree_disagree_best_guess_less_agree\"\n",
    "issue = \"15-per-hour-seattle\"\n",
    "good_author_ids = get_dataset(\"polis\").get_good_author_ids(issue=issue)\n",
    "agents = [\n",
    "    get_polis_agent(\n",
    "        issue=issue, id=author_id, prompt_type=query2_prompt_type, voted_comment_ids=[]\n",
    "    )\n",
    "    for author_id in good_author_ids\n",
    "]\n",
    "\n",
    "moderator = Query1Moderator(id=0, prompt_type=\"basic\")"
   ]
  },
  {
   "cell_type": "code",
   "execution_count": 48,
   "metadata": {},
   "outputs": [
    {
     "name": "stdout",
     "output_type": "stream",
     "text": [
      "Running JR...\n",
      "Step 1: (current committee {})\n",
      "Query 1 response: Raising the minimum wage is a crucial step in addressing income inequality and ensuring employees receive a livable wage, but the increase should be gradual and consider the potential impacts on small businesses and the adoption of automation in industries with unskilled workers.\n",
      "Testing agent 215 (comment=Person who believes the following 1 things: (1) Businesses, small or large, shouldn't be able to pay workers anything below a livable wage. Why should we subsidize businesses that depend on inadequate wages? If a business's product is good, then this shouldn't be a challenge. )\n",
      "Response: AGREE\n",
      "Removing agent 215\n",
      "Testing agent 85 (comment=Person who believes the following 1 things: (1) It's just going to speed up the adoption of robotics in industries with unskilled or low-skilled workers. )\n",
      "Response: AGREE\n",
      "Removing agent 85\n",
      "Testing agent 33 (comment=Person who believes the following 1 things: (1) Reactionary liberal trash. Doesn't solve the problem. It's a systemic problem and this solution is like a band aid on a broken leg. )\n",
      "Response: DISAGREE\n",
      "Testing agent 14 (comment=Person who believes the following 1 things: (1) Good move. Will boost econy here )\n",
      "Response: AGREE\n",
      "Removing agent 14\n",
      "Testing agent 55 (comment=Person who believes the following 1 things: (1) Something needs to be done to address income inequality and this is a good if imperfect start )\n",
      "Response: AGREE\n",
      "Removing agent 55\n",
      "Testing agent 92 (comment=Person who believes the following 1 things: (1) One step towards a world where a basic minimum income will be the way developed nations must function as the need for human workers collapses vs populace that \"needs a job.\" )\n",
      "Response: AGREE\n",
      "Removing agent 92\n",
      "Testing agent 56 (comment=Person who believes the following 1 things: (1) This is something that will impact SMB who cannot afford paying 15$/hour wage )\n",
      "Response: AGREE\n",
      "Removing agent 56\n",
      "Testing agent 52 (comment=Person who believes the following 1 things: (1) It's so high that it will definitely cost some needy people their jobs. )\n",
      "Response: AGREE\n",
      "Removing agent 52\n",
      "Testing agent 63 (comment=Person who believes the following 1 things: (1) This is cool! I say hike it up to $20 )\n",
      "Response: AGREE\n",
      "Removing agent 63\n",
      "Testing agent 6 (comment=Person who believes the following 1 things: (1) This will cause small businesses to go out of business. )\n",
      "Response: AGREE\n",
      "Removing agent 6\n",
      "Testing agent 47 (comment=Person who believes the following 1 things: (1) I agree. The small business will need to make poverty fashionable )\n",
      "Response: AGREE\n",
      "Removing agent 47\n",
      "Testing agent 12 (comment=Person who believes the following 1 things: (1) $15 min wage will lead to inflation. Higher income population is penalized for this reason and therefore I don't think it is fair. )\n",
      "Response: AGREE\n",
      "Removing agent 12\n",
      "Testing agent 110 (comment=Person who believes the following 1 things: (1) Guaranteed minimum income! Remove all the specific programs! )\n",
      "Response: DISAGREE\n",
      "Testing agent 28 (comment=Person who believes the following 1 things: (1) It's possible benefits may be cut in exchange for higher wages, along with other benefits. Worth it? )\n",
      "Response: AGREE\n",
      "Removing agent 28\n",
      "Testing agent 15 (comment=Person who believes the following 1 things: (1) Minimum wage will not just lead to robots. Minimum wage will lead to unionized robots. And that's a good thing. )\n",
      "Response: AGREE\n",
      "Removing agent 15\n",
      "Testing agent 96 (comment=Person who believes the following 1 things: (1) Higher wages makes it super hard for small businesses to survive.  In effect, mom and pop coffee shops with disappear. )\n",
      "Response: AGREE\n",
      "Removing agent 96\n",
      "Testing agent 5989 (comment=Person who believes the following 1 things: (1) the minimum wage should $25 per hour )\n",
      "Response: AGREE\n",
      "Removing agent 5989\n",
      "Step 2: (current committee {'Raising the minimum wage is a crucial step in addressing income inequality and ensuring employees receive a livable wage, but the increase should be gradual and consider the potential impacts on small businesses and the adoption of automation in industries with unskilled workers.': [215, 85, 14, 55, 92, 56, 52, 63, 6, 47, 12, 28, 15, 96, 5989]})\n",
      "Query 1 response: Our current social welfare programs are failing to address the systemic issues that give rise to the need for these supports in the first place.\n",
      "Testing agent 215 (comment=Person who believes the following 1 things: (1) Businesses, small or large, shouldn't be able to pay workers anything below a livable wage. Why should we subsidize businesses that depend on inadequate wages? If a business's product is good, then this shouldn't be a challenge. )\n",
      "Response: AGREE\n",
      "Testing agent 85 (comment=Person who believes the following 1 things: (1) It's just going to speed up the adoption of robotics in industries with unskilled or low-skilled workers. )\n",
      "Response: AGREE\n",
      "Testing agent 33 (comment=Person who believes the following 1 things: (1) Reactionary liberal trash. Doesn't solve the problem. It's a systemic problem and this solution is like a band aid on a broken leg. )\n",
      "Response: AGREE\n",
      "Removing agent 33\n",
      "Testing agent 14 (comment=Person who believes the following 1 things: (1) Good move. Will boost econy here )\n",
      "Response: DISAGREE\n",
      "Testing agent 55 (comment=Person who believes the following 1 things: (1) Something needs to be done to address income inequality and this is a good if imperfect start )\n",
      "Response: AGREE\n",
      "Testing agent 92 (comment=Person who believes the following 1 things: (1) One step towards a world where a basic minimum income will be the way developed nations must function as the need for human workers collapses vs populace that \"needs a job.\" )\n",
      "Response: AGREE\n",
      "Testing agent 56 (comment=Person who believes the following 1 things: (1) This is something that will impact SMB who cannot afford paying 15$/hour wage )\n",
      "Response: AGREE\n",
      "Testing agent 52 (comment=Person who believes the following 1 things: (1) It's so high that it will definitely cost some needy people their jobs. )\n",
      "Response: AGREE\n",
      "Testing agent 63 (comment=Person who believes the following 1 things: (1) This is cool! I say hike it up to $20 )\n",
      "Response: DISAGREE\n",
      "Testing agent 6 (comment=Person who believes the following 1 things: (1) This will cause small businesses to go out of business. )\n",
      "Response: DISAGREE\n",
      "Testing agent 47 (comment=Person who believes the following 1 things: (1) I agree. The small business will need to make poverty fashionable )\n",
      "Response: AGREE\n",
      "Testing agent 12 (comment=Person who believes the following 1 things: (1) $15 min wage will lead to inflation. Higher income population is penalized for this reason and therefore I don't think it is fair. )\n",
      "Response: DISAGREE\n",
      "Testing agent 110 (comment=Person who believes the following 1 things: (1) Guaranteed minimum income! Remove all the specific programs! )\n",
      "Response: AGREE\n",
      "Removing agent 110\n",
      "Testing agent 28 (comment=Person who believes the following 1 things: (1) It's possible benefits may be cut in exchange for higher wages, along with other benefits. Worth it? )\n",
      "Response: AGREE\n",
      "Testing agent 15 (comment=Person who believes the following 1 things: (1) Minimum wage will not just lead to robots. Minimum wage will lead to unionized robots. And that's a good thing. )\n",
      "Response: AGREE\n",
      "Testing agent 96 (comment=Person who believes the following 1 things: (1) Higher wages makes it super hard for small businesses to survive.  In effect, mom and pop coffee shops with disappear. )\n",
      "Response: AGREE\n",
      "Testing agent 5989 (comment=Person who believes the following 1 things: (1) the minimum wage should $25 per hour )\n",
      "Response: AGREE\n",
      "Step 3: (current committee {'Raising the minimum wage is a crucial step in addressing income inequality and ensuring employees receive a livable wage, but the increase should be gradual and consider the potential impacts on small businesses and the adoption of automation in industries with unskilled workers.': [215, 85, 14, 55, 92, 56, 52, 63, 6, 47, 12, 28, 15, 96, 5989], 'Our current social welfare programs are failing to address the systemic issues that give rise to the need for these supports in the first place.': [215, 85, 33, 55, 92, 56, 52, 47, 110, 28, 15, 96, 5989]})\n"
     ]
    }
   ],
   "source": [
    "committee_supporters = generate_jr_slate(\n",
    "    agents=agents,\n",
    "    moderator=moderator,\n",
    "    k=5,\n",
    "    experiment_type=\"polis\",\n",
    "    log_dir_name=\"demos/\",\n",
    ")"
   ]
  },
  {
   "cell_type": "code",
   "execution_count": 49,
   "metadata": {},
   "outputs": [
    {
     "data": {
      "text/plain": [
       "{'Raising the minimum wage is a crucial step in addressing income inequality and ensuring employees receive a livable wage, but the increase should be gradual and consider the potential impacts on small businesses and the adoption of automation in industries with unskilled workers.': [215,\n",
       "  85,\n",
       "  14,\n",
       "  55,\n",
       "  92,\n",
       "  56,\n",
       "  52,\n",
       "  63,\n",
       "  6,\n",
       "  47,\n",
       "  12,\n",
       "  28,\n",
       "  15,\n",
       "  96,\n",
       "  5989],\n",
       " 'Our current social welfare programs are failing to address the systemic issues that give rise to the need for these supports in the first place.': [215,\n",
       "  85,\n",
       "  33,\n",
       "  55,\n",
       "  92,\n",
       "  56,\n",
       "  52,\n",
       "  47,\n",
       "  110,\n",
       "  28,\n",
       "  15,\n",
       "  96,\n",
       "  5989]}"
      ]
     },
     "execution_count": 49,
     "metadata": {},
     "output_type": "execute_result"
    }
   ],
   "source": [
    "committee_supporters"
   ]
  },
  {
   "cell_type": "markdown",
   "metadata": {},
   "source": [
    "### Example EJR slate "
   ]
  },
  {
   "cell_type": "code",
   "execution_count": 30,
   "metadata": {},
   "outputs": [],
   "source": [
    "query1_prime_moderator = Query1PrimeModerator(id=0, prompt_type=\"basic_more_specific\")"
   ]
  },
  {
   "cell_type": "code",
   "execution_count": 31,
   "metadata": {},
   "outputs": [
    {
     "name": "stdout",
     "output_type": "stream",
     "text": [
      "Running EJR...\n",
      "Query 1 response: Addressing income inequality is an important issue, and finding a balance between a livable wage and the effects on small businesses and automation should be considered in any solution.\n",
      "Testing whether agent 215 (comment=Person who believes the following 1 things: (1) Businesses, small or large, shouldn't be able to pay workers anything below a livable wage. Why should we subsidize businesses that depend on inadequate wages? If a business's product is good, then this shouldn't be a challenge. ) supports new addition\n",
      "Testing whether agent 85 (comment=Person who believes the following 1 things: (1) It's just going to speed up the adoption of robotics in industries with unskilled or low-skilled workers. ) supports new addition\n",
      "Testing whether agent 33 (comment=Person who believes the following 1 things: (1) Reactionary liberal trash. Doesn't solve the problem. It's a systemic problem and this solution is like a band aid on a broken leg. ) supports new addition\n",
      "Testing whether agent 14 (comment=Person who believes the following 1 things: (1) Good move. Will boost econy here ) supports new addition\n",
      "Testing whether agent 55 (comment=Person who believes the following 1 things: (1) Something needs to be done to address income inequality and this is a good if imperfect start ) supports new addition\n",
      "Testing whether agent 92 (comment=Person who believes the following 1 things: (1) One step towards a world where a basic minimum income will be the way developed nations must function as the need for human workers collapses vs populace that \"needs a job.\" ) supports new addition\n",
      "Testing whether agent 56 (comment=Person who believes the following 1 things: (1) This is something that will impact SMB who cannot afford paying 15$/hour wage ) supports new addition\n",
      "Testing whether agent 52 (comment=Person who believes the following 1 things: (1) It's so high that it will definitely cost some needy people their jobs. ) supports new addition\n",
      "Testing whether agent 63 (comment=Person who believes the following 1 things: (1) This is cool! I say hike it up to $20 ) supports new addition\n",
      "Testing whether agent 6 (comment=Person who believes the following 1 things: (1) This will cause small businesses to go out of business. ) supports new addition\n",
      "Testing whether agent 47 (comment=Person who believes the following 1 things: (1) I agree. The small business will need to make poverty fashionable ) supports new addition\n",
      "Testing whether agent 12 (comment=Person who believes the following 1 things: (1) $15 min wage will lead to inflation. Higher income population is penalized for this reason and therefore I don't think it is fair. ) supports new addition\n",
      "Testing whether agent 110 (comment=Person who believes the following 1 things: (1) Guaranteed minimum income! Remove all the specific programs! ) supports new addition\n",
      "Testing whether agent 28 (comment=Person who believes the following 1 things: (1) It's possible benefits may be cut in exchange for higher wages, along with other benefits. Worth it? ) supports new addition\n",
      "Testing whether agent 15 (comment=Person who believes the following 1 things: (1) Minimum wage will not just lead to robots. Minimum wage will lead to unionized robots. And that's a good thing. ) supports new addition\n",
      "Testing whether agent 96 (comment=Person who believes the following 1 things: (1) Higher wages makes it super hard for small businesses to survive.  In effect, mom and pop coffee shops with disappear. ) supports new addition\n",
      "Testing whether agent 5989 (comment=Person who believes the following 1 things: (1) the minimum wage should $25 per hour ) supports new addition\n",
      "Decreasing l=5 to 4...(i.e. didn't find statement with suff high support so lowering bar)\n",
      "Query 1 response: Addressing income inequality is an important issue, and while raising the minimum wage might be an imperfect solution, it is a step towards finding a balance that benefits both workers and businesses.\n",
      "Testing whether agent 215 (comment=Person who believes the following 1 things: (1) Businesses, small or large, shouldn't be able to pay workers anything below a livable wage. Why should we subsidize businesses that depend on inadequate wages? If a business's product is good, then this shouldn't be a challenge. ) supports new addition\n",
      "Testing whether agent 85 (comment=Person who believes the following 1 things: (1) It's just going to speed up the adoption of robotics in industries with unskilled or low-skilled workers. ) supports new addition\n",
      "Testing whether agent 33 (comment=Person who believes the following 1 things: (1) Reactionary liberal trash. Doesn't solve the problem. It's a systemic problem and this solution is like a band aid on a broken leg. ) supports new addition\n",
      "Testing whether agent 14 (comment=Person who believes the following 1 things: (1) Good move. Will boost econy here ) supports new addition\n",
      "Testing whether agent 55 (comment=Person who believes the following 1 things: (1) Something needs to be done to address income inequality and this is a good if imperfect start ) supports new addition\n",
      "Testing whether agent 92 (comment=Person who believes the following 1 things: (1) One step towards a world where a basic minimum income will be the way developed nations must function as the need for human workers collapses vs populace that \"needs a job.\" ) supports new addition\n",
      "Testing whether agent 56 (comment=Person who believes the following 1 things: (1) This is something that will impact SMB who cannot afford paying 15$/hour wage ) supports new addition\n",
      "Testing whether agent 52 (comment=Person who believes the following 1 things: (1) It's so high that it will definitely cost some needy people their jobs. ) supports new addition\n",
      "Testing whether agent 63 (comment=Person who believes the following 1 things: (1) This is cool! I say hike it up to $20 ) supports new addition\n",
      "Testing whether agent 6 (comment=Person who believes the following 1 things: (1) This will cause small businesses to go out of business. ) supports new addition\n",
      "Testing whether agent 47 (comment=Person who believes the following 1 things: (1) I agree. The small business will need to make poverty fashionable ) supports new addition\n",
      "Testing whether agent 12 (comment=Person who believes the following 1 things: (1) $15 min wage will lead to inflation. Higher income population is penalized for this reason and therefore I don't think it is fair. ) supports new addition\n",
      "Testing whether agent 110 (comment=Person who believes the following 1 things: (1) Guaranteed minimum income! Remove all the specific programs! ) supports new addition\n",
      "Testing whether agent 28 (comment=Person who believes the following 1 things: (1) It's possible benefits may be cut in exchange for higher wages, along with other benefits. Worth it? ) supports new addition\n",
      "Testing whether agent 15 (comment=Person who believes the following 1 things: (1) Minimum wage will not just lead to robots. Minimum wage will lead to unionized robots. And that's a good thing. ) supports new addition\n",
      "Testing whether agent 96 (comment=Person who believes the following 1 things: (1) Higher wages makes it super hard for small businesses to survive.  In effect, mom and pop coffee shops with disappear. ) supports new addition\n",
      "Testing whether agent 5989 (comment=Person who believes the following 1 things: (1) the minimum wage should $25 per hour ) supports new addition\n",
      "Decreasing l=4 to 3...(i.e. didn't find statement with suff high support so lowering bar)\n",
      "Query 1 response: Addressing income inequality is important, and finding a fair and effective solution to ensure workers earn a livable wage, while considering the potential impacts on small businesses and technology adoption, should be a priority.\n",
      "Testing whether agent 215 (comment=Person who believes the following 1 things: (1) Businesses, small or large, shouldn't be able to pay workers anything below a livable wage. Why should we subsidize businesses that depend on inadequate wages? If a business's product is good, then this shouldn't be a challenge. ) supports new addition\n",
      "Testing whether agent 85 (comment=Person who believes the following 1 things: (1) It's just going to speed up the adoption of robotics in industries with unskilled or low-skilled workers. ) supports new addition\n",
      "Testing whether agent 33 (comment=Person who believes the following 1 things: (1) Reactionary liberal trash. Doesn't solve the problem. It's a systemic problem and this solution is like a band aid on a broken leg. ) supports new addition\n",
      "Testing whether agent 14 (comment=Person who believes the following 1 things: (1) Good move. Will boost econy here ) supports new addition\n",
      "Testing whether agent 55 (comment=Person who believes the following 1 things: (1) Something needs to be done to address income inequality and this is a good if imperfect start ) supports new addition\n",
      "Testing whether agent 92 (comment=Person who believes the following 1 things: (1) One step towards a world where a basic minimum income will be the way developed nations must function as the need for human workers collapses vs populace that \"needs a job.\" ) supports new addition\n",
      "Testing whether agent 56 (comment=Person who believes the following 1 things: (1) This is something that will impact SMB who cannot afford paying 15$/hour wage ) supports new addition\n",
      "Testing whether agent 52 (comment=Person who believes the following 1 things: (1) It's so high that it will definitely cost some needy people their jobs. ) supports new addition\n",
      "Testing whether agent 63 (comment=Person who believes the following 1 things: (1) This is cool! I say hike it up to $20 ) supports new addition\n",
      "Testing whether agent 6 (comment=Person who believes the following 1 things: (1) This will cause small businesses to go out of business. ) supports new addition\n",
      "Testing whether agent 47 (comment=Person who believes the following 1 things: (1) I agree. The small business will need to make poverty fashionable ) supports new addition\n",
      "Testing whether agent 12 (comment=Person who believes the following 1 things: (1) $15 min wage will lead to inflation. Higher income population is penalized for this reason and therefore I don't think it is fair. ) supports new addition\n",
      "Testing whether agent 110 (comment=Person who believes the following 1 things: (1) Guaranteed minimum income! Remove all the specific programs! ) supports new addition\n",
      "Testing whether agent 28 (comment=Person who believes the following 1 things: (1) It's possible benefits may be cut in exchange for higher wages, along with other benefits. Worth it? ) supports new addition\n",
      "Testing whether agent 15 (comment=Person who believes the following 1 things: (1) Minimum wage will not just lead to robots. Minimum wage will lead to unionized robots. And that's a good thing. ) supports new addition\n",
      "Testing whether agent 96 (comment=Person who believes the following 1 things: (1) Higher wages makes it super hard for small businesses to survive.  In effect, mom and pop coffee shops with disappear. ) supports new addition\n",
      "Testing whether agent 5989 (comment=Person who believes the following 1 things: (1) the minimum wage should $25 per hour ) supports new addition\n",
      "Query 1 response: Efforts to address income inequality should consider both the opportunities and risks associated with higher minimum wages, including the potential effects on small businesses, technology adoption, and overall economic well-being, in order to strike a balance that benefits the majority.\n",
      "Testing whether agent 215 (comment=Person who believes the following 1 things: (1) Businesses, small or large, shouldn't be able to pay workers anything below a livable wage. Why should we subsidize businesses that depend on inadequate wages? If a business's product is good, then this shouldn't be a challenge. ) supports new addition\n",
      "Testing whether agent 85 (comment=Person who believes the following 1 things: (1) It's just going to speed up the adoption of robotics in industries with unskilled or low-skilled workers. ) supports new addition\n",
      "Testing whether agent 33 (comment=Person who believes the following 1 things: (1) Reactionary liberal trash. Doesn't solve the problem. It's a systemic problem and this solution is like a band aid on a broken leg. ) supports new addition\n",
      "Testing whether agent 14 (comment=Person who believes the following 1 things: (1) Good move. Will boost econy here ) supports new addition\n",
      "Testing whether agent 55 (comment=Person who believes the following 1 things: (1) Something needs to be done to address income inequality and this is a good if imperfect start ) supports new addition\n",
      "Testing whether agent 92 (comment=Person who believes the following 1 things: (1) One step towards a world where a basic minimum income will be the way developed nations must function as the need for human workers collapses vs populace that \"needs a job.\" ) supports new addition\n",
      "Testing whether agent 56 (comment=Person who believes the following 1 things: (1) This is something that will impact SMB who cannot afford paying 15$/hour wage ) supports new addition\n",
      "Testing whether agent 52 (comment=Person who believes the following 1 things: (1) It's so high that it will definitely cost some needy people their jobs. ) supports new addition\n",
      "Testing whether agent 63 (comment=Person who believes the following 1 things: (1) This is cool! I say hike it up to $20 ) supports new addition\n",
      "Testing whether agent 6 (comment=Person who believes the following 1 things: (1) This will cause small businesses to go out of business. ) supports new addition\n",
      "Testing whether agent 47 (comment=Person who believes the following 1 things: (1) I agree. The small business will need to make poverty fashionable ) supports new addition\n",
      "Testing whether agent 12 (comment=Person who believes the following 1 things: (1) $15 min wage will lead to inflation. Higher income population is penalized for this reason and therefore I don't think it is fair. ) supports new addition\n",
      "Testing whether agent 110 (comment=Person who believes the following 1 things: (1) Guaranteed minimum income! Remove all the specific programs! ) supports new addition\n",
      "Testing whether agent 28 (comment=Person who believes the following 1 things: (1) It's possible benefits may be cut in exchange for higher wages, along with other benefits. Worth it? ) supports new addition\n",
      "Testing whether agent 15 (comment=Person who believes the following 1 things: (1) Minimum wage will not just lead to robots. Minimum wage will lead to unionized robots. And that's a good thing. ) supports new addition\n",
      "Testing whether agent 96 (comment=Person who believes the following 1 things: (1) Higher wages makes it super hard for small businesses to survive.  In effect, mom and pop coffee shops with disappear. ) supports new addition\n",
      "Testing whether agent 5989 (comment=Person who believes the following 1 things: (1) the minimum wage should $25 per hour ) supports new addition\n",
      "Query 1 response: Addressing income inequality requires careful evaluation of potential solutions, such as raising the minimum wage, while considering the effects on small businesses, job opportunities and technological advancements in order to promote economic stability and fairness.\n",
      "Testing whether agent 215 (comment=Person who believes the following 1 things: (1) Businesses, small or large, shouldn't be able to pay workers anything below a livable wage. Why should we subsidize businesses that depend on inadequate wages? If a business's product is good, then this shouldn't be a challenge. ) supports new addition\n",
      "Testing whether agent 85 (comment=Person who believes the following 1 things: (1) It's just going to speed up the adoption of robotics in industries with unskilled or low-skilled workers. ) supports new addition\n",
      "Testing whether agent 33 (comment=Person who believes the following 1 things: (1) Reactionary liberal trash. Doesn't solve the problem. It's a systemic problem and this solution is like a band aid on a broken leg. ) supports new addition\n",
      "Testing whether agent 14 (comment=Person who believes the following 1 things: (1) Good move. Will boost econy here ) supports new addition\n",
      "Testing whether agent 55 (comment=Person who believes the following 1 things: (1) Something needs to be done to address income inequality and this is a good if imperfect start ) supports new addition\n",
      "Testing whether agent 92 (comment=Person who believes the following 1 things: (1) One step towards a world where a basic minimum income will be the way developed nations must function as the need for human workers collapses vs populace that \"needs a job.\" ) supports new addition\n",
      "Testing whether agent 56 (comment=Person who believes the following 1 things: (1) This is something that will impact SMB who cannot afford paying 15$/hour wage ) supports new addition\n",
      "Testing whether agent 52 (comment=Person who believes the following 1 things: (1) It's so high that it will definitely cost some needy people their jobs. ) supports new addition\n",
      "Testing whether agent 63 (comment=Person who believes the following 1 things: (1) This is cool! I say hike it up to $20 ) supports new addition\n",
      "Testing whether agent 6 (comment=Person who believes the following 1 things: (1) This will cause small businesses to go out of business. ) supports new addition\n",
      "Testing whether agent 47 (comment=Person who believes the following 1 things: (1) I agree. The small business will need to make poverty fashionable ) supports new addition\n",
      "Testing whether agent 12 (comment=Person who believes the following 1 things: (1) $15 min wage will lead to inflation. Higher income population is penalized for this reason and therefore I don't think it is fair. ) supports new addition\n",
      "Testing whether agent 110 (comment=Person who believes the following 1 things: (1) Guaranteed minimum income! Remove all the specific programs! ) supports new addition\n",
      "Testing whether agent 28 (comment=Person who believes the following 1 things: (1) It's possible benefits may be cut in exchange for higher wages, along with other benefits. Worth it? ) supports new addition\n",
      "Testing whether agent 15 (comment=Person who believes the following 1 things: (1) Minimum wage will not just lead to robots. Minimum wage will lead to unionized robots. And that's a good thing. ) supports new addition\n",
      "Testing whether agent 96 (comment=Person who believes the following 1 things: (1) Higher wages makes it super hard for small businesses to survive.  In effect, mom and pop coffee shops with disappear. ) supports new addition\n",
      "Testing whether agent 5989 (comment=Person who believes the following 1 things: (1) the minimum wage should $25 per hour ) supports new addition\n",
      "Query 1 response: To tackle income inequality, it is essential to develop a balanced and well-rounded solution that considers the concerns of workers seeking a livable wage, the challenges faced by small businesses, and the implications of technology adoption in order to create a more equitable economic environment.\n",
      "Testing whether agent 215 (comment=Person who believes the following 1 things: (1) Businesses, small or large, shouldn't be able to pay workers anything below a livable wage. Why should we subsidize businesses that depend on inadequate wages? If a business's product is good, then this shouldn't be a challenge. ) supports new addition\n",
      "Testing whether agent 85 (comment=Person who believes the following 1 things: (1) It's just going to speed up the adoption of robotics in industries with unskilled or low-skilled workers. ) supports new addition\n",
      "Testing whether agent 33 (comment=Person who believes the following 1 things: (1) Reactionary liberal trash. Doesn't solve the problem. It's a systemic problem and this solution is like a band aid on a broken leg. ) supports new addition\n",
      "Testing whether agent 14 (comment=Person who believes the following 1 things: (1) Good move. Will boost econy here ) supports new addition\n",
      "Testing whether agent 55 (comment=Person who believes the following 1 things: (1) Something needs to be done to address income inequality and this is a good if imperfect start ) supports new addition\n",
      "Testing whether agent 92 (comment=Person who believes the following 1 things: (1) One step towards a world where a basic minimum income will be the way developed nations must function as the need for human workers collapses vs populace that \"needs a job.\" ) supports new addition\n",
      "Testing whether agent 56 (comment=Person who believes the following 1 things: (1) This is something that will impact SMB who cannot afford paying 15$/hour wage ) supports new addition\n",
      "Testing whether agent 52 (comment=Person who believes the following 1 things: (1) It's so high that it will definitely cost some needy people their jobs. ) supports new addition\n",
      "Testing whether agent 63 (comment=Person who believes the following 1 things: (1) This is cool! I say hike it up to $20 ) supports new addition\n",
      "Testing whether agent 6 (comment=Person who believes the following 1 things: (1) This will cause small businesses to go out of business. ) supports new addition\n",
      "Testing whether agent 47 (comment=Person who believes the following 1 things: (1) I agree. The small business will need to make poverty fashionable ) supports new addition\n",
      "Testing whether agent 12 (comment=Person who believes the following 1 things: (1) $15 min wage will lead to inflation. Higher income population is penalized for this reason and therefore I don't think it is fair. ) supports new addition\n",
      "Testing whether agent 110 (comment=Person who believes the following 1 things: (1) Guaranteed minimum income! Remove all the specific programs! ) supports new addition\n",
      "Testing whether agent 28 (comment=Person who believes the following 1 things: (1) It's possible benefits may be cut in exchange for higher wages, along with other benefits. Worth it? ) supports new addition\n",
      "Testing whether agent 15 (comment=Person who believes the following 1 things: (1) Minimum wage will not just lead to robots. Minimum wage will lead to unionized robots. And that's a good thing. ) supports new addition\n",
      "Testing whether agent 96 (comment=Person who believes the following 1 things: (1) Higher wages makes it super hard for small businesses to survive.  In effect, mom and pop coffee shops with disappear. ) supports new addition\n",
      "Testing whether agent 5989 (comment=Person who believes the following 1 things: (1) the minimum wage should $25 per hour ) supports new addition\n",
      "Decreasing l=3 to 2...(i.e. didn't find statement with suff high support so lowering bar)\n",
      "Query 1 response: Tackling income inequality demands a comprehensive approach that not only evaluates the potential benefits and drawbacks of raising the minimum wage, but also examines the deeper systemic issues that contribute to economic disparities, striving to create a more equitable and sustainable future for all.\n",
      "Testing whether agent 215 (comment=Person who believes the following 1 things: (1) Businesses, small or large, shouldn't be able to pay workers anything below a livable wage. Why should we subsidize businesses that depend on inadequate wages? If a business's product is good, then this shouldn't be a challenge. ) supports new addition\n",
      "Testing whether agent 85 (comment=Person who believes the following 1 things: (1) It's just going to speed up the adoption of robotics in industries with unskilled or low-skilled workers. ) supports new addition\n",
      "Testing whether agent 33 (comment=Person who believes the following 1 things: (1) Reactionary liberal trash. Doesn't solve the problem. It's a systemic problem and this solution is like a band aid on a broken leg. ) supports new addition\n",
      "Testing whether agent 14 (comment=Person who believes the following 1 things: (1) Good move. Will boost econy here ) supports new addition\n",
      "Testing whether agent 55 (comment=Person who believes the following 1 things: (1) Something needs to be done to address income inequality and this is a good if imperfect start ) supports new addition\n",
      "Testing whether agent 92 (comment=Person who believes the following 1 things: (1) One step towards a world where a basic minimum income will be the way developed nations must function as the need for human workers collapses vs populace that \"needs a job.\" ) supports new addition\n",
      "Testing whether agent 56 (comment=Person who believes the following 1 things: (1) This is something that will impact SMB who cannot afford paying 15$/hour wage ) supports new addition\n",
      "Testing whether agent 52 (comment=Person who believes the following 1 things: (1) It's so high that it will definitely cost some needy people their jobs. ) supports new addition\n",
      "Testing whether agent 63 (comment=Person who believes the following 1 things: (1) This is cool! I say hike it up to $20 ) supports new addition\n",
      "Testing whether agent 6 (comment=Person who believes the following 1 things: (1) This will cause small businesses to go out of business. ) supports new addition\n",
      "Testing whether agent 47 (comment=Person who believes the following 1 things: (1) I agree. The small business will need to make poverty fashionable ) supports new addition\n",
      "Testing whether agent 12 (comment=Person who believes the following 1 things: (1) $15 min wage will lead to inflation. Higher income population is penalized for this reason and therefore I don't think it is fair. ) supports new addition\n",
      "Testing whether agent 110 (comment=Person who believes the following 1 things: (1) Guaranteed minimum income! Remove all the specific programs! ) supports new addition\n",
      "Testing whether agent 28 (comment=Person who believes the following 1 things: (1) It's possible benefits may be cut in exchange for higher wages, along with other benefits. Worth it? ) supports new addition\n",
      "Testing whether agent 15 (comment=Person who believes the following 1 things: (1) Minimum wage will not just lead to robots. Minimum wage will lead to unionized robots. And that's a good thing. ) supports new addition\n",
      "Testing whether agent 96 (comment=Person who believes the following 1 things: (1) Higher wages makes it super hard for small businesses to survive.  In effect, mom and pop coffee shops with disappear. ) supports new addition\n",
      "Testing whether agent 5989 (comment=Person who believes the following 1 things: (1) the minimum wage should $25 per hour ) supports new addition\n",
      "Decreasing l=2 to 1...(i.e. didn't find statement with suff high support so lowering bar)\n",
      "Query 1 response: To effectively address income inequality, it is crucial to examine the root causes of the issue and implement comprehensive solutions that not only raise wages but also take into account the potential consequences on small businesses and technological advancements, ensuring equitable growth and opportunity for all.\n",
      "Testing whether agent 215 (comment=Person who believes the following 1 things: (1) Businesses, small or large, shouldn't be able to pay workers anything below a livable wage. Why should we subsidize businesses that depend on inadequate wages? If a business's product is good, then this shouldn't be a challenge. ) supports new addition\n",
      "Testing whether agent 85 (comment=Person who believes the following 1 things: (1) It's just going to speed up the adoption of robotics in industries with unskilled or low-skilled workers. ) supports new addition\n",
      "Testing whether agent 33 (comment=Person who believes the following 1 things: (1) Reactionary liberal trash. Doesn't solve the problem. It's a systemic problem and this solution is like a band aid on a broken leg. ) supports new addition\n",
      "Testing whether agent 14 (comment=Person who believes the following 1 things: (1) Good move. Will boost econy here ) supports new addition\n",
      "Testing whether agent 55 (comment=Person who believes the following 1 things: (1) Something needs to be done to address income inequality and this is a good if imperfect start ) supports new addition\n",
      "Testing whether agent 92 (comment=Person who believes the following 1 things: (1) One step towards a world where a basic minimum income will be the way developed nations must function as the need for human workers collapses vs populace that \"needs a job.\" ) supports new addition\n",
      "Testing whether agent 56 (comment=Person who believes the following 1 things: (1) This is something that will impact SMB who cannot afford paying 15$/hour wage ) supports new addition\n",
      "Testing whether agent 52 (comment=Person who believes the following 1 things: (1) It's so high that it will definitely cost some needy people their jobs. ) supports new addition\n",
      "Testing whether agent 63 (comment=Person who believes the following 1 things: (1) This is cool! I say hike it up to $20 ) supports new addition\n",
      "Testing whether agent 6 (comment=Person who believes the following 1 things: (1) This will cause small businesses to go out of business. ) supports new addition\n",
      "Testing whether agent 47 (comment=Person who believes the following 1 things: (1) I agree. The small business will need to make poverty fashionable ) supports new addition\n",
      "Testing whether agent 12 (comment=Person who believes the following 1 things: (1) $15 min wage will lead to inflation. Higher income population is penalized for this reason and therefore I don't think it is fair. ) supports new addition\n",
      "Testing whether agent 110 (comment=Person who believes the following 1 things: (1) Guaranteed minimum income! Remove all the specific programs! ) supports new addition\n",
      "Testing whether agent 28 (comment=Person who believes the following 1 things: (1) It's possible benefits may be cut in exchange for higher wages, along with other benefits. Worth it? ) supports new addition\n",
      "Testing whether agent 15 (comment=Person who believes the following 1 things: (1) Minimum wage will not just lead to robots. Minimum wage will lead to unionized robots. And that's a good thing. ) supports new addition\n",
      "Testing whether agent 96 (comment=Person who believes the following 1 things: (1) Higher wages makes it super hard for small businesses to survive.  In effect, mom and pop coffee shops with disappear. ) supports new addition\n",
      "Testing whether agent 5989 (comment=Person who believes the following 1 things: (1) the minimum wage should $25 per hour ) supports new addition\n",
      "Decreasing l=1 to 0...(i.e. didn't find statement with suff high support so lowering bar)\n"
     ]
    }
   ],
   "source": [
    "committee_supporters_ejr = generate_ejr_slate(\n",
    "    algorithm_type=\"EJR\",\n",
    "    agents=agents,\n",
    "    query1_moderator=moderator,\n",
    "    query1_prime_moderator=query1_prime_moderator,\n",
    "    k=5,\n",
    "    experiment_type=\"polis\",\n",
    "    log_dir_name=\"demos\",\n",
    ")"
   ]
  },
  {
   "cell_type": "code",
   "execution_count": 32,
   "metadata": {},
   "outputs": [
    {
     "data": {
      "text/plain": [
       "{'Addressing income inequality is important, and finding a fair and effective solution to ensure workers earn a livable wage, while considering the potential impacts on small businesses and technology adoption, should be a priority.': [215,\n",
       "  85,\n",
       "  14,\n",
       "  55,\n",
       "  92,\n",
       "  56,\n",
       "  52,\n",
       "  63,\n",
       "  6,\n",
       "  47,\n",
       "  12,\n",
       "  110,\n",
       "  28,\n",
       "  15,\n",
       "  5989],\n",
       " 'Efforts to address income inequality should consider both the opportunities and risks associated with higher minimum wages, including the potential effects on small businesses, technology adoption, and overall economic well-being, in order to strike a balance that benefits the majority.': [215,\n",
       "  85,\n",
       "  14,\n",
       "  55,\n",
       "  92,\n",
       "  56,\n",
       "  52,\n",
       "  63,\n",
       "  6,\n",
       "  47,\n",
       "  12,\n",
       "  110,\n",
       "  28,\n",
       "  15,\n",
       "  96,\n",
       "  5989],\n",
       " 'Addressing income inequality requires careful evaluation of potential solutions, such as raising the minimum wage, while considering the effects on small businesses, job opportunities and technological advancements in order to promote economic stability and fairness.': [215,\n",
       "  85,\n",
       "  14,\n",
       "  55,\n",
       "  92,\n",
       "  56,\n",
       "  52,\n",
       "  63,\n",
       "  6,\n",
       "  47,\n",
       "  12,\n",
       "  110,\n",
       "  28,\n",
       "  15,\n",
       "  96,\n",
       "  5989]}"
      ]
     },
     "execution_count": 32,
     "metadata": {},
     "output_type": "execute_result"
    }
   ],
   "source": [
    "committee_supporters_ejr"
   ]
  },
  {
   "attachments": {},
   "cell_type": "markdown",
   "metadata": {},
   "source": []
  }
 ],
 "metadata": {
  "kernelspec": {
   "display_name": "Python 3",
   "language": "python",
   "name": "python3"
  },
  "language_info": {
   "codemirror_mode": {
    "name": "ipython",
    "version": 3
   },
   "file_extension": ".py",
   "mimetype": "text/x-python",
   "name": "python",
   "nbconvert_exporter": "python",
   "pygments_lexer": "ipython3",
   "version": "3.10.12"
  },
  "orig_nbformat": 4
 },
 "nbformat": 4,
 "nbformat_minor": 2
}
