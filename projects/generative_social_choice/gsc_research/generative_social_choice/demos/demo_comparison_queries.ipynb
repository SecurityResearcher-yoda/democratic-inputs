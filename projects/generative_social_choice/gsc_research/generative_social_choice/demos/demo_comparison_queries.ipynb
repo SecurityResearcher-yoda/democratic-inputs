{
 "cells": [
  {
   "cell_type": "code",
   "execution_count": 2,
   "metadata": {},
   "outputs": [
    {
     "name": "stdout",
     "output_type": "stream",
     "text": [
      "The autoreload extension is already loaded. To reload it, use:\n",
      "  %reload_ext autoreload\n"
     ]
    }
   ],
   "source": [
    "%load_ext autoreload\n",
    "%autoreload 2"
   ]
  },
  {
   "cell_type": "code",
   "execution_count": 94,
   "metadata": {},
   "outputs": [],
   "source": [
    "from generative_social_choice.datasets.datasets import get_dataset\n",
    "from generative_social_choice.objects.agents import MultiLevelAgent\n",
    "from generative_social_choice.objects.comparers import BasicComparer\n",
    "import pandas as pd"
   ]
  },
  {
   "attachments": {},
   "cell_type": "markdown",
   "metadata": {},
   "source": [
    "## Set up some rudimentary agents"
   ]
  },
  {
   "cell_type": "code",
   "execution_count": 95,
   "metadata": {},
   "outputs": [],
   "source": [
    "dataset = get_dataset(\"prolific\")\n",
    "df = dataset.load()\n",
    "agent_ids = dataset.get_agent_ids()[\"experiment1\"]\n",
    "\n",
    "agent_ids_to_comment = {\n",
    "    agent_id: dataset.get_transcript_from_agent_id(agent_id)[\n",
    "        dataset.get_transcript_from_agent_id(agent_id)[\"step\"] == 7\n",
    "    ][\"text\"].values[0]\n",
    "    for agent_id in agent_ids\n",
    "}\n",
    "\n",
    "approval_level = 5\n",
    "\n",
    "agents = [\n",
    "    MultiLevelAgent(\n",
    "        id=agent_id,\n",
    "        prompt_type=\"basic\",\n",
    "        approval_level=approval_level,\n",
    "        agent_opinion=comment,\n",
    "    )\n",
    "    for agent_id, comment in agent_ids_to_comment.items()\n",
    "]"
   ]
  },
  {
   "attachments": {},
   "cell_type": "markdown",
   "metadata": {},
   "source": [
    "## Set up comparer agent"
   ]
  },
  {
   "attachments": {},
   "cell_type": "markdown",
   "metadata": {},
   "source": [
    "Currently only a basic prompt (no CoT, no fewshot) is implemented, but we can easily add more."
   ]
  },
  {
   "cell_type": "code",
   "execution_count": 96,
   "metadata": {},
   "outputs": [],
   "source": [
    "comparer = BasicComparer(id=0, prompt_type=\"basic\")"
   ]
  },
  {
   "attachments": {},
   "cell_type": "markdown",
   "metadata": {},
   "source": [
    "## Make single comparer query\n",
    "\n",
    "Here, `center_agent` and `agent0` both are pro-personalization, and `agent1` is against, so we expect the output of the query to be 0 (the index of the closest agent)."
   ]
  },
  {
   "cell_type": "code",
   "execution_count": 97,
   "metadata": {},
   "outputs": [
    {
     "data": {
      "text/plain": [
       "'I believe that the capacity of chatbots to be personalized will allow them to remember our preferences for information.  At the very least, it should remember our previous dialogs, if only to prevent needless repetition.  I believe we should be able to control the level of personalization, much as we set security preferences in other online actions.'"
      ]
     },
     "execution_count": 97,
     "metadata": {},
     "output_type": "execute_result"
    }
   ],
   "source": [
    "center_agent = agents[0]\n",
    "center_agent.get_description()"
   ]
  },
  {
   "cell_type": "code",
   "execution_count": 98,
   "metadata": {},
   "outputs": [
    {
     "data": {
      "text/plain": [
       "'I believe that a chatbot should be able to personalize responses to your questions or needs based on past conversations, information voluntarily provided or even by means of a profile you setup. If you had your own user account that you opted into, then it now becomes a choice wether or not the chatbot service uses a personalized approach. '"
      ]
     },
     "execution_count": 98,
     "metadata": {},
     "output_type": "execute_result"
    }
   ],
   "source": [
    "agent0 = agents[2]\n",
    "agent0.get_description()"
   ]
  },
  {
   "cell_type": "code",
   "execution_count": 99,
   "metadata": {},
   "outputs": [
    {
     "data": {
      "text/plain": [
       "'I believe that chatbots should not be personalized. I would prefer to receive generic responses based on data and not have the chatbot try to learn my behaviors or personality. I feel that this could hinder the information given by the chatbot if it is too focused on trying to tailor information to you rather than just providing the information requested. '"
      ]
     },
     "execution_count": 99,
     "metadata": {},
     "output_type": "execute_result"
    }
   ],
   "source": [
    "agent1 = agents[7]\n",
    "agent1.get_description()"
   ]
  },
  {
   "cell_type": "code",
   "execution_count": 100,
   "metadata": {},
   "outputs": [],
   "source": [
    "closest_agent_idx, log_dict = comparer.get_closest_agent_idx(\n",
    "    center_agent=center_agent, other_agents=[agent0, agent1]\n",
    ")"
   ]
  },
  {
   "cell_type": "code",
   "execution_count": 101,
   "metadata": {},
   "outputs": [
    {
     "data": {
      "text/plain": [
       "0"
      ]
     },
     "execution_count": 101,
     "metadata": {},
     "output_type": "execute_result"
    }
   ],
   "source": [
    "closest_agent_idx"
   ]
  },
  {
   "attachments": {},
   "cell_type": "markdown",
   "metadata": {},
   "source": [
    "### sidenote: comparer in theory supports many agents\n",
    "\n",
    "In theory you can give it `center_agent`, and a list of arbitrarily many agents, and it returns the single closest agent. However the prompt is written with 2 in mind, so it might give worse results. (Specifically, the prompt gives the two output examples 0 if Person 0 is closest, 1 if Person 1 is closest, so possibly the LLM is biased towards putting 0 and 1.)"
   ]
  },
  {
   "cell_type": "code",
   "execution_count": 102,
   "metadata": {},
   "outputs": [
    {
     "data": {
      "text/plain": [
       "'I certainly think that someone who uses a chatbot for everyday things should definitely be personalized. It would make solutions to your problems more tailored to you. Alot of people have common thoughts on things but everyone is different in every way such as their mindset.'"
      ]
     },
     "execution_count": 102,
     "metadata": {},
     "output_type": "execute_result"
    }
   ],
   "source": [
    "agent2 = agents[10]\n",
    "agent2.get_description()"
   ]
  },
  {
   "cell_type": "code",
   "execution_count": 103,
   "metadata": {},
   "outputs": [],
   "source": [
    "closest_agent_idx, log_dict = comparer.get_closest_agent_idx(\n",
    "    center_agent=center_agent, other_agents=[agent0, agent1, agent2]\n",
    ")"
   ]
  },
  {
   "cell_type": "code",
   "execution_count": 104,
   "metadata": {},
   "outputs": [
    {
     "data": {
      "text/plain": [
       "0"
      ]
     },
     "execution_count": 104,
     "metadata": {},
     "output_type": "execute_result"
    }
   ],
   "source": [
    "closest_agent_idx"
   ]
  },
  {
   "attachments": {},
   "cell_type": "markdown",
   "metadata": {},
   "source": [
    "## computing nearest neighbors\n",
    "\n",
    "To compute the `m` nearest neighbors of some `center_agent` from a list of agents `agents`, run the following"
   ]
  },
  {
   "cell_type": "code",
   "execution_count": 105,
   "metadata": {},
   "outputs": [
    {
     "data": {
      "text/plain": [
       "'I believe that chatbots should not be personalized. I would prefer to receive generic responses based on data and not have the chatbot try to learn my behaviors or personality. I feel that this could hinder the information given by the chatbot if it is too focused on trying to tailor information to you rather than just providing the information requested. '"
      ]
     },
     "execution_count": 105,
     "metadata": {},
     "output_type": "execute_result"
    }
   ],
   "source": [
    "center_agent = agents[7]\n",
    "center_agent.get_description()"
   ]
  },
  {
   "cell_type": "code",
   "execution_count": 106,
   "metadata": {},
   "outputs": [],
   "source": [
    "other_agents = list(set(agents).difference({center_agent}))"
   ]
  },
  {
   "cell_type": "code",
   "execution_count": 107,
   "metadata": {},
   "outputs": [],
   "source": [
    "m_closest, logs = comparer.find_nearest_neighbors(\n",
    "    center_agent=center_agent, agents=other_agents, m=5\n",
    ")"
   ]
  },
  {
   "cell_type": "code",
   "execution_count": 108,
   "metadata": {},
   "outputs": [
    {
     "name": "stdout",
     "output_type": "stream",
     "text": [
      "center agent:\n",
      "650950e1ab264bd2967f7f9d\n",
      "I believe that chatbots should not be personalized. I would prefer to receive generic responses based on data and not have the chatbot try to learn my behaviors or personality. I feel that this could hinder the information given by the chatbot if it is too focused on trying to tailor information to you rather than just providing the information requested. \n",
      "++++++++++++++++++++++\n",
      "63d87d4ba0b86684507f201d\n",
      "Chatbots must provide relevant information to users. If they do not then they would not be a useful. And in some cases their suggestions would be dangerous so this is a must.\n",
      "+++++++++++++\n",
      "60a877548e684d43854de84d\n",
      "I think it is important because it makes the user feel more personable and that it's actually listening. It cares about the person\n",
      "+++++++++++++\n",
      "64a80dd34fd0539ee3761e6a\n",
      "I believe that chatbots such as ChatGPT should be personalized to a significant extent, but within clear ethical boundaries. Personalization is important because it enhances the user experience, making interactions more relevant and valuable to individual users. Understanding user preferences, context, and limitations allows chatbots to provide tailored recommendations and information, ultimately fulfilling the user's needs more effectively.\n",
      "\n",
      "However, it's crucial to strike a balance between personalization and privacy. Chatbots must respect user privacy, and users should have control over the extent of personalization. Transparent data handling practices, clear consent mechanisms, and robust data protection measures are essential to ensure user trust and data security. Striking this balance is crucial to harnessing the benefits of personalization while safeguarding user privacy and ethical considerations.\n",
      "+++++++++++++\n",
      "64d8a3cbdae97de832212263\n",
      "I think it should be personalized in terms of languages and accents\n",
      "\n",
      "I believe that it is our responsibility to use it for good purposes\n",
      "+++++++++++++\n",
      "63b6fa3c0c762d2949b69f03\n",
      "I think chatbots should atleast be a little personalized. I worry though about people becoming way too reliant on it though. Almost like it would be mind numbing and we couldnt think for ourselves. I feel like it would damage our brains if we have a chatbot thinking for us all the time.\n",
      "+++++++++++++\n"
     ]
    }
   ],
   "source": [
    "print(\"center agent:\")\n",
    "print(center_agent.id)\n",
    "print(center_agent.get_description())\n",
    "print(\"++++++++++++++++++++++\")\n",
    "\n",
    "for agent in m_closest:\n",
    "    print(agent.id)\n",
    "    print(agent.get_description())\n",
    "    print(\"+++++++++++++\")"
   ]
  },
  {
   "cell_type": "code",
   "execution_count": null,
   "metadata": {},
   "outputs": [],
   "source": []
  }
 ],
 "metadata": {
  "kernelspec": {
   "display_name": "Python 3",
   "language": "python",
   "name": "python3"
  },
  "language_info": {
   "codemirror_mode": {
    "name": "ipython",
    "version": 3
   },
   "file_extension": ".py",
   "mimetype": "text/x-python",
   "name": "python",
   "nbconvert_exporter": "python",
   "pygments_lexer": "ipython3",
   "version": "3.10.9"
  },
  "orig_nbformat": 4
 },
 "nbformat": 4,
 "nbformat_minor": 2
}
