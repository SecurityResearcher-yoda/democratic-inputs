{
 "cells": [
  {
   "cell_type": "code",
   "execution_count": null,
   "metadata": {},
   "outputs": [],
   "source": [
    "# Energize AI Inc.\n",
    "# Developed for OpenAI Democratic Inputs to AI Grant project\n",
    "# August 31, 2023\n",
    "\n",
    "# File name: mvp.ipynb\n",
    "# File description: Minimum Viable Product of Aggregation Module\n",
    "# Process Input: Preference CSV, User data CSV, Guideline CSV\n",
    "# Process Output: Aggregated, consensus Guidelines"
   ]
  },
  {
   "cell_type": "markdown",
   "metadata": {},
   "source": [
    "## Get Inputs"
   ]
  },
  {
   "cell_type": "code",
   "execution_count": null,
   "metadata": {},
   "outputs": [],
   "source": []
  },
  {
   "cell_type": "markdown",
   "metadata": {},
   "source": [
    "## Twitter CN-Inspired Aggregator"
   ]
  },
  {
   "cell_type": "code",
   "execution_count": null,
   "metadata": {},
   "outputs": [],
   "source": []
  }
 ],
 "metadata": {
  "language_info": {
   "name": "python"
  },
  "orig_nbformat": 4
 },
 "nbformat": 4,
 "nbformat_minor": 2
}
